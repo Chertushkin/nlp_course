{
  "cells": [
    {
      "cell_type": "markdown",
      "metadata": {
        "id": "eAahzI9lcLUr"
      },
      "source": [
        "# Practice: question answering with retrieval\n",
        "\n",
        "In this homework you will build a retrieval-based question answering system, one component at a time.\n",
        "\n",
        "_Okay, realistically, there's like, two components, but technically it's one component at a time._\n",
        "\n",
        "\n",
        "![img](https://www.cs.upc.edu/~mlatifi/index_files/qa-logo.jpg)\n",
        "\n",
        "\n",
        "\n",
        "There are two parts to this type of systems: a retriever and a generator.\n",
        "- the retriever subsystem searches for similar texts from a given databse, e.g. wikipedia\n",
        "- the generator uses the texts found by the retriever to generate an answer in natural language\n",
        "\n",
        "_this seminar is based on original notebook by [Oleg Vasilev](https://github.com/Omrigan/)_\n",
        "\n"
      ]
    },
    {
      "cell_type": "code",
      "execution_count": 1,
      "metadata": {
        "id": "4dtN8dPocLUy"
      },
      "outputs": [],
      "source": [
        "import numpy as np\n",
        "import torch, torch.nn as nn\n",
        "import torch.nn.functional as F\n",
        "import matplotlib.pyplot as plt\n",
        "%matplotlib inline"
      ]
    },
    {
      "cell_type": "markdown",
      "metadata": {
        "id": "5ks8AlEVcLUz"
      },
      "source": [
        "### Part 0: the dataset\n",
        "\n",
        "Before we train anything, let's take a look at the question answering data that we can use. There are several popilar datasets, e.g. TriviaQA for trivia questions or GSM8K for math. Today's data is Stanford Question Answering Dataset (SQuAD). Given a paragraph of text and a question, our model's task is to select a snippet that answers the question.\n",
        "\n",
        "We are not going to solve the full task today. Instead, we'll train a model to __select the sentence containing answer__ among several options.\n",
        "\n",
        "As usual, you are given an utility module with data reader and some helper functions"
      ]
    },
    {
      "cell_type": "code",
      "execution_count": 2,
      "metadata": {
        "id": "iWRei-HxcLU0",
        "colab": {
          "base_uri": "https://localhost:8080/"
        },
        "outputId": "1821a81e-4e3c-4c9e-e3cc-02ba64d7e7ee"
      },
      "outputs": [
        {
          "output_type": "stream",
          "name": "stdout",
          "text": [
            "--2023-12-27 01:47:11--  https://raw.githubusercontent.com/yandexdataschool/nlp_course/2023/week_extra/retrieval/data.py\n",
            "Resolving raw.githubusercontent.com (raw.githubusercontent.com)... 185.199.108.133, 185.199.110.133, 185.199.109.133, ...\n",
            "Connecting to raw.githubusercontent.com (raw.githubusercontent.com)|185.199.108.133|:443... connected.\n",
            "HTTP request sent, awaiting response... 200 OK\n",
            "Length: 3553 (3.5K) [text/plain]\n",
            "Saving to: ‘data.py’\n",
            "\n",
            "\rdata.py               0%[                    ]       0  --.-KB/s               \rdata.py             100%[===================>]   3.47K  --.-KB/s    in 0s      \n",
            "\n",
            "2023-12-27 01:47:11 (41.7 MB/s) - ‘data.py’ saved [3553/3553]\n",
            "\n"
          ]
        },
        {
          "output_type": "stream",
          "name": "stderr",
          "text": [
            "[nltk_data] Downloading package punkt to /root/nltk_data...\n",
            "[nltk_data]   Package punkt is already up-to-date!\n"
          ]
        }
      ],
      "source": [
        "%pip install --quiet transformers==4.36.2 accelerate==0.24.0 sentencepiece==0.1.99 optimum==1.13.2 auto-gptq==0.4.2\n",
        "!wget https://raw.githubusercontent.com/yandexdataschool/nlp_course/2023/week_extra/retrieval/data.py -O data.py\n",
        "!wget https://rajpurkar.github.io/SQuAD-explorer/dataset/train-v2.0.json -O squad-v2.0.json 2> log\n",
        "\n",
        "import data\n",
        "# backup download link: https://www.dropbox.com/s/q4fuihaerqr0itj/squad.tar.gz?dl=1\n",
        "train, test = data.build_dataset('./squad-v2.0.json')"
      ]
    },
    {
      "cell_type": "code",
      "execution_count": 3,
      "metadata": {
        "id": "KvzzSgVicLU0",
        "outputId": "e8eb5281-a596-4fde-cf84-9fa53eb772a4",
        "colab": {
          "base_uri": "https://localhost:8080/"
        }
      },
      "outputs": [
        {
          "output_type": "stream",
          "name": "stdout",
          "text": [
            "QUESTION Where did Beyonce get her name from? \n",
            "\n",
            "TEXT SENTENCES\n",
            "[ ] Beyoncé Giselle Knowles was born in Houston, Texas, to Celestine Ann \"Tina\" Knowles (née Beyincé), a hairdresser and salon owner, and Mathew Knowles, a Xerox sales manager.\n",
            "[v] Beyoncé's name is a tribute to her mother's maiden name.\n",
            "[ ] Beyoncé's younger sister Solange is also a singer and a former member of Destiny's Child.\n",
            "[ ] Mathew is African-American, while Tina is of Louisiana Creole descent (with African, Native American, French, Cajun, and distant Irish and Spanish ancestry).\n",
            "[ ] Through her mother, Beyoncé is a descendant of Acadian leader Joseph Broussard.\n",
            "[ ] She was raised in a Methodist household.\n"
          ]
        }
      ],
      "source": [
        "pid, question, options, correct_indices, wrong_indices = train.iloc[40]\n",
        "print('QUESTION', question, '\\n')\n",
        "print('TEXT SENTENCES')\n",
        "for i, cand in enumerate(options):\n",
        "    print(['[ ]', '[v]'][i in correct_indices], cand)"
      ]
    },
    {
      "cell_type": "markdown",
      "metadata": {
        "id": "TGxVKpjAcLU1"
      },
      "source": [
        "### Pre-trained BERT\n",
        "_(but you guessed it)_\n",
        "\n",
        "We've already solved quite a few tasks from scratch, training our own embeddings and convolutional/recurrent layers. However, one can often achieve higher quality by using pre-trained models. We will default to the good ol' [BERT](https://arxiv.org/abs/1810.04805), though, you are free to use any [other model](https://huggingface.co/models) as you see fit.\n"
      ]
    },
    {
      "cell_type": "code",
      "execution_count": 4,
      "metadata": {
        "id": "iRAdNj2IcLU1"
      },
      "outputs": [],
      "source": [
        "from transformers import AutoTokenizer, AutoModel, pipeline\n",
        "\n",
        "model_name = 'sentence-transformers/bert-base-nli-mean-tokens'\n",
        "tokenizer = AutoTokenizer.from_pretrained(model_name)\n",
        "bert = AutoModel.from_pretrained(model_name)"
      ]
    },
    {
      "cell_type": "code",
      "execution_count": 5,
      "metadata": {
        "id": "kAQHqgW_cLU1",
        "colab": {
          "base_uri": "https://localhost:8080/"
        },
        "outputId": "2d686a0a-66d1-4efc-d4bd-9811095a98c1"
      },
      "outputs": [
        {
          "output_type": "stream",
          "name": "stderr",
          "text": [
            "Asking to truncate to max_length but no maximum length is provided and the model has no predefined maximum length. Default to no truncation.\n"
          ]
        }
      ],
      "source": [
        "# just a reminder: here's how it works\n",
        "dummy_lines = [\n",
        "    \"How old are you?\",                                                 # 0\n",
        "    \"In what mythology do two canines watch over the Chinvat Bridge?\",  # 1\n",
        "    \"I'm sorry, okay, I'm not perfect, but I'm trying.\",                # 2\n",
        "    \"What is your age?\",                                                # 3\n",
        "    \"Beware, for I am fearless, and therefore powerful.\",               # 4\n",
        "]\n",
        "\n",
        "with torch.no_grad():\n",
        "    batch_tensors = tokenizer(dummy_lines, padding=True, truncation=True, return_tensors=\"pt\")\n",
        "    out = bert(**batch_tensors)\n",
        "    token_embs = out.last_hidden_state\n",
        "    cls_embs = out.pooler_output\n",
        "    del out\n",
        "\n",
        "\n",
        "mask = batch_tensors['attention_mask'][..., None].to(torch.float32)\n",
        "naive_phrase_embs = (token_embs * mask).sum(1) / mask.sum(1)"
      ]
    },
    {
      "cell_type": "code",
      "execution_count": 6,
      "metadata": {
        "id": "eYLyOgvzcLU3",
        "outputId": "00d3ab3f-d778-433e-fcc0-654ba9748461",
        "colab": {
          "base_uri": "https://localhost:8080/",
          "height": 469
        }
      },
      "outputs": [
        {
          "output_type": "execute_result",
          "data": {
            "text/plain": [
              "<matplotlib.image.AxesImage at 0x7f5c00592860>"
            ]
          },
          "metadata": {},
          "execution_count": 6
        },
        {
          "output_type": "display_data",
          "data": {
            "text/plain": [
              "<Figure size 640x480 with 1 Axes>"
            ],
            "image/png": "[encoded data removed]"
          },
          "metadata": {}
        }
      ],
      "source": [
        "plt.title('phrase similarity')\n",
        "plt.imshow((naive_phrase_embs @ naive_phrase_embs.t()).cpu().data.numpy(), interpolation='none', cmap='gray')"
      ]
    },
    {
      "cell_type": "markdown",
      "metadata": {
        "id": "apBCmWWgcLU4"
      },
      "source": [
        "As you can see, __the strongest similarity is between lines 0 and 3__. Indeed they correspond to \"How old are you?\" and \"What is your age?\""
      ]
    },
    {
      "cell_type": "markdown",
      "metadata": {
        "id": "u3qa0HGrcLU4"
      },
      "source": [
        "### Retriever Model (2 points)\n",
        "\n",
        "Our goal for today is to build a model that measures similarity between question and answer. In particular, it maps both question and answer into fixed-size vectors such that:\n",
        "\n",
        "Our model is a pair of $V_q(q)$ and $V_a(a)$ - networks that turn phrases into vectors.\n",
        "\n",
        "__Objective:__ Question vector $V_q(q)$ should be __closer__ to correct answer vectors $V_a(a^+)$ than to incorrect ones $V_a(a^-)$ .\n",
        "\n",
        "Both vectorizers can be anything you wish. For starters, let's use a couple of dense layers on top of the pre-trained encoder.\n",
        "\n",
        "\n"
      ]
    },
    {
      "cell_type": "code",
      "execution_count": 7,
      "metadata": {
        "id": "azvTj2dlCNRF"
      },
      "outputs": [],
      "source": [
        "device = 'cuda' if torch.cuda.is_available() else 'cpu'"
      ]
    },
    {
      "cell_type": "code",
      "execution_count": 8,
      "metadata": {
        "id": "2LnBd1IdcLU4"
      },
      "outputs": [],
      "source": [
        "class Vectorizer(nn.Module):\n",
        "    def __init__(self, hid_size=256, bert=bert):\n",
        "        \"\"\" A small feedforward network on top of pre-trained encoder. 2-3 layers should be enough \"\"\"\n",
        "        super().__init__()\n",
        "        self.bert = bert\n",
        "        self.hid_size = hid_size\n",
        "\n",
        "        # define a few layers to be applied on top of pre-trained BERT\n",
        "        # note: please make sure your final layer comes with _linear_ activation\n",
        "        interm_size = bert.pooler.dense.out_features\n",
        "        self.fc_1 = nn.Linear(interm_size, hid_size)\n",
        "        self.fc_2 = nn.Linear(hid_size, hid_size)\n",
        "        self.fc_3 = nn.Linear(hid_size, hid_size)\n",
        "        self.dropout_1 = nn.Dropout(p=0.15)\n",
        "        self.dropout_2 = nn.Dropout(p=0.15)\n",
        "        self.activation_1 = nn.ReLU()\n",
        "        self.activation_2 = nn.ReLU()\n",
        "\n",
        "\n",
        "\n",
        "    def forward(self, input_phrases):\n",
        "        \"\"\"\n",
        "        Apply vectorizer. Use dropout and any other hacks at will.\n",
        "        :param input_phrases: a list of strings, [batch_size]\n",
        "        :returns: predicted phrase vectors, [batch_size, output_size]\n",
        "\n",
        "        Note: you may want to use dropouts.\n",
        "        if self.training:\n",
        "          <something>\n",
        "\n",
        "        Note 2: you may also want to use with torch.no_grad to avoid training BERT for your first attempts\n",
        "\n",
        "        \"\"\"\n",
        "\n",
        "        # In fact, please DO use at least 10% dropout!\n",
        "        # <YOUR CODE>\n",
        "        # return <...>\n",
        "        with torch.no_grad():\n",
        "            batch_tensors = tokenizer(input_phrases, padding=True, truncation=True, return_tensors=\"pt\")\n",
        "            batch_tensors = {k: v.to(device) for k, v in batch_tensors.items()}\n",
        "            out = self.bert(**batch_tensors)\n",
        "        # token_embs = out.last_hidden_state\n",
        "            cls_embs = out.pooler_output\n",
        "        # print(token_embs.shape, cls_embs.shape)\n",
        "            del out\n",
        "        # mask = batch_tensors['attention_mask'][..., None].to(torch.float32)\n",
        "        # naive_phrase_embs = (token_embs * mask).sum(1) / mask.sum(1)\n",
        "        # full_embs = torch.concat([naive_phrase_embs, cls_embs], axis=1)\n",
        "        # print(full_embs.shape)\n",
        "        full_embs = cls_embs\n",
        "        x = self.fc_1(full_embs)\n",
        "        x = self.dropout_1(x)\n",
        "        x = self.activation_1(x)\n",
        "        x = self.fc_2(x)\n",
        "        x = self.dropout_2(x)\n",
        "        x = self.activation_2(x)\n",
        "        x = self.fc_3(x)\n",
        "\n",
        "        return x"
      ]
    },
    {
      "cell_type": "code",
      "execution_count": 9,
      "metadata": {
        "id": "bmlIxPRQcLU5"
      },
      "outputs": [],
      "source": [
        "question_vectorizer = Vectorizer().to(device)\n",
        "answer_vectorizer = Vectorizer().to(device)"
      ]
    },
    {
      "cell_type": "code",
      "execution_count": 10,
      "metadata": {
        "id": "krX1gnD6cLU5",
        "colab": {
          "base_uri": "https://localhost:8080/"
        },
        "outputId": "2669a448-3d88-4cb2-d849-5f54a668f2db"
      },
      "outputs": [
        {
          "output_type": "stream",
          "name": "stdout",
          "text": [
            "Well done!\n"
          ]
        }
      ],
      "source": [
        "question_vectorizer.train(False)\n",
        "out1 = question_vectorizer(dummy_lines)\n",
        "out2 = question_vectorizer(dummy_lines)\n",
        "assert tuple(out1.shape) == (5, question_vectorizer.hid_size)\n",
        "assert torch.allclose(out1, out2, atol=1e-5, rtol=0), \"Make sure your model disables dropout if training == False\"\n",
        "print(\"Well done!\")"
      ]
    },
    {
      "cell_type": "markdown",
      "metadata": {
        "id": "7lUHY7LdcLU5"
      },
      "source": [
        "### Retriever training: minibatches\n",
        "\n",
        "Our model learns on triples $(q, a^+, a^-)$:\n",
        "* q - <b>q</b>uestion\n",
        "* (a+) - correct <b>a</b>nswer\n",
        "* (a-) - wrong <b>a</b>nswer\n",
        "\n",
        "Below you will find a generator that samples such triples from data."
      ]
    },
    {
      "cell_type": "code",
      "execution_count": 11,
      "metadata": {
        "id": "GO64sZ3AcLU6"
      },
      "outputs": [],
      "source": [
        "import random\n",
        "\n",
        "def iterate_minibatches(data, batch_size, shuffle=True, cycle=False):\n",
        "    \"\"\"\n",
        "    Generates minibatches of triples: {questions, correct answers, wrong answers}\n",
        "    If there are several wrong (or correct) answers, picks one at random.\n",
        "    \"\"\"\n",
        "    indices = np.arange(len(data))\n",
        "    while True:\n",
        "        if shuffle:\n",
        "            indices = np.random.permutation(indices)\n",
        "        for batch_start in range(0, len(indices), batch_size):\n",
        "            batch_indices = indices[batch_start: batch_start + batch_size]\n",
        "            batch = data.iloc[batch_indices]\n",
        "            questions = batch['question'].values\n",
        "            correct_answers = np.array([\n",
        "                row['options'][random.choice(row['correct_indices'])]\n",
        "                for i, row in batch.iterrows()\n",
        "            ])\n",
        "            wrong_answers = np.array([\n",
        "                row['options'][random.choice(row['wrong_indices'])]\n",
        "                for i, row in batch.iterrows()\n",
        "            ])\n",
        "\n",
        "            yield {\n",
        "                'questions' : questions,\n",
        "                'correct_answers': correct_answers,\n",
        "                'wrong_answers': wrong_answers,\n",
        "            }\n",
        "        if not cycle:\n",
        "            break"
      ]
    },
    {
      "cell_type": "code",
      "execution_count": 12,
      "metadata": {
        "id": "wcnGu02BcLU6",
        "colab": {
          "base_uri": "https://localhost:8080/"
        },
        "outputId": "f86abb1c-8602-433c-eb2b-36369faee151"
      },
      "outputs": [
        {
          "output_type": "stream",
          "name": "stdout",
          "text": [
            "{'questions': array(['What desert is Tucson in?',\n",
            "       'Where is the birthplace of Antun Augustincic?',\n",
            "       'What was teh fate of King Farouk after the coup?'], dtype=object), 'correct_answers': array(['Tucson is situated on an alluvial plain in the Sonoran desert, surrounded by five minor ranges of mountains: the Santa Catalina Mountains and the Tortolita Mountains to the north, the Santa Rita Mountains to the south, the Rincon Mountains to the east, and the Tucson Mountains to the west.',\n",
            "       \"In 2004, Antun Augustinčić's statue of Broz in his birthplace of Kumrovec was decapitated in an explosion.\",\n",
            "       'Under pressure from the Americans, Nasser had agreed to exile the deposed king with an honorary ceremony.'],\n",
            "      dtype='<U290'), 'wrong_answers': array([\"The city's elevation is 2,643 ft (806 m) above sea level (as measured at the Tucson International Airport).\",\n",
            "       'Croatian president Stjepan Mesić criticized the demonstration to change the name.',\n",
            "       'The Free Officers seized control of all government buildings, radio stations, and police stations, as well as army headquarters in Cairo.'],\n",
            "      dtype='<U137')}\n"
          ]
        }
      ],
      "source": [
        "dummy_batch = next(iterate_minibatches(train.sample(3), 3))\n",
        "print(dummy_batch)"
      ]
    },
    {
      "cell_type": "markdown",
      "metadata": {
        "id": "F09wfUH9cLU6"
      },
      "source": [
        "### Retriever training: loss function (2 points)\n",
        "We want our vectorizers to put correct answers closer to question vectors and incorrect answers farther away from them. One way to express this is to use is Pairwise Hinge Loss _(aka Triplet Loss)_.\n",
        "\n",
        "$$ L = \\frac 1N \\underset {q, a^+, a^-} \\sum max(0, \\space \\delta - sim[V_q(q), V_a(a^+)] + sim[V_q(q), V_a(a^-)] )$$\n",
        "\n",
        ", where\n",
        "* sim[a, b] is some similarity function: dot product, cosine or negative distance\n",
        "* δ - loss hyperparameter, e.g. δ=1.0. If sim[a, b] is linear in b, all δ > 0 are equivalent.\n",
        "\n",
        "\n",
        "This reads as __Correct answers must be closer than the wrong ones by at least δ.__\n",
        "\n",
        "![img](https://raw.githubusercontent.com/yandexdataschool/nlp_course/master/resources/margin.png)\n",
        "<center>_image: question vector is green, correct answers are blue, incorrect answers are red_</center>\n",
        "\n",
        "\n",
        "Note: in effect, we train a Deep Semantic Similarity Model [DSSM](https://www.microsoft.com/en-us/research/project/dssm/)."
      ]
    },
    {
      "cell_type": "code",
      "execution_count": 13,
      "metadata": {
        "id": "nlV8YSewcLU7"
      },
      "outputs": [],
      "source": [
        "def similarity(a, b):\n",
        "    \"\"\" Dot product as a similarity function \"\"\"\n",
        "    return torch.diag(a @ b.T)\n",
        "\n",
        "def compute_loss(question_vectors, correct_answer_vectors, wrong_answer_vectors, delta=1.0):\n",
        "    \"\"\"\n",
        "    Compute the triplet loss as per formula above.\n",
        "    Use similarity function above for  sim[a, b]\n",
        "    :param question_vectors: float32[batch_size, vector_size]\n",
        "    :param correct_answer_vectors: float32[batch_size, vector_size]\n",
        "    :param wrong_answer_vectors: float32[batch_size, vector_size]\n",
        "    :returns: loss for every row in batch, float32[batch_size]\n",
        "    Hint: you can compute max(0, *) using torch.relu :)\n",
        "    \"\"\"\n",
        "    m = question_vectors.shape[0]\n",
        "    pos_sim = similarity(question_vectors, correct_answer_vectors)\n",
        "    neg_sim = similarity(question_vectors, wrong_answer_vectors)\n",
        "    # print(pos_sim, neg_sim)\n",
        "    interm = delta - pos_sim + neg_sim\n",
        "    # print(interm)\n",
        "    ans = torch.relu(interm)\n",
        "    # print(ans)\n",
        "    return ans"
      ]
    },
    {
      "cell_type": "code",
      "execution_count": 14,
      "metadata": {
        "colab": {
          "base_uri": "https://localhost:8080/"
        },
        "id": "rj3XOWpTCNRK",
        "outputId": "95352ba0-3e6f-4470-af9a-c1aea595824f"
      },
      "outputs": [
        {
          "output_type": "execute_result",
          "data": {
            "text/plain": [
              "tensor([0., 1.])"
            ]
          },
          "metadata": {},
          "execution_count": 14
        }
      ],
      "source": [
        "torch.relu(torch.tensor([-0.9, 1.0]))"
      ]
    },
    {
      "cell_type": "code",
      "execution_count": 15,
      "metadata": {
        "id": "pzivm0jqcLU7"
      },
      "outputs": [],
      "source": [
        "dummy_v1 = torch.tensor([[0.1, 0.2, -1], [-1.2, 0.6, 1.0]], dtype=torch.float32)\n",
        "dummy_v2 = torch.tensor([[0.9, 2.1, -6.6], [0.1, 0.8, -2.2]], dtype=torch.float32)\n",
        "dummy_v3 = torch.tensor([[-4.1, 0.1, 1.2], [0.3, -1, -2]], dtype=torch.float32)\n",
        "# print(similarity(dummy_v1, dummy_v2).data.numpy())\n",
        "# print(compute_loss(dummy_v1, dummy_v2, dummy_v3, delta=5.0).data.numpy())\n",
        "assert np.allclose(similarity(dummy_v1, dummy_v2).data.numpy(), [7.11, -1.84])\n",
        "assert np.allclose(compute_loss(dummy_v1, dummy_v2, dummy_v3, delta=5.0).data.numpy(), [0.0, 3.88])"
      ]
    },
    {
      "cell_type": "markdown",
      "metadata": {
        "id": "oc30eCwKcLU7"
      },
      "source": [
        "Once loss is working, let's train our model by our usual means."
      ]
    },
    {
      "cell_type": "code",
      "execution_count": 16,
      "metadata": {
        "colab": {
          "base_uri": "https://localhost:8080/"
        },
        "id": "s7n0_WO7CNRL",
        "outputId": "68972d7f-15e6-43b2-f6c2-b117212e6bdd"
      },
      "outputs": [
        {
          "output_type": "execute_result",
          "data": {
            "text/plain": [
              "{'questions': array(['What desert is Tucson in?',\n",
              "        'Where is the birthplace of Antun Augustincic?',\n",
              "        'What was teh fate of King Farouk after the coup?'], dtype=object),\n",
              " 'correct_answers': array(['Tucson is situated on an alluvial plain in the Sonoran desert, surrounded by five minor ranges of mountains: the Santa Catalina Mountains and the Tortolita Mountains to the north, the Santa Rita Mountains to the south, the Rincon Mountains to the east, and the Tucson Mountains to the west.',\n",
              "        \"In 2004, Antun Augustinčić's statue of Broz in his birthplace of Kumrovec was decapitated in an explosion.\",\n",
              "        'Under pressure from the Americans, Nasser had agreed to exile the deposed king with an honorary ceremony.'],\n",
              "       dtype='<U290'),\n",
              " 'wrong_answers': array([\"The city's elevation is 2,643 ft (806 m) above sea level (as measured at the Tucson International Airport).\",\n",
              "        'Croatian president Stjepan Mesić criticized the demonstration to change the name.',\n",
              "        'The Free Officers seized control of all government buildings, radio stations, and police stations, as well as army headquarters in Cairo.'],\n",
              "       dtype='<U137')}"
            ]
          },
          "metadata": {},
          "execution_count": 16
        }
      ],
      "source": [
        "dummy_batch"
      ]
    },
    {
      "cell_type": "code",
      "execution_count": 17,
      "metadata": {
        "id": "rXhjfHCLcLU8"
      },
      "outputs": [],
      "source": [
        "# we also compute recall: the rate at which a^+ is closer to q than a^-\n",
        "def get_recall(questions, correct_answers, wrong_answers):\n",
        "\n",
        "    v_questions = question_vectorizer(questions.tolist())\n",
        "    v_correct = answer_vectorizer(correct_answers.tolist())\n",
        "    v_incorrect = answer_vectorizer(wrong_answers.tolist())\n",
        "\n",
        "    correct_is_closer = similarity(v_questions, v_correct) > similarity(v_questions, v_incorrect)\n",
        "\n",
        "    recall = torch.mean(correct_is_closer.to(torch.float32)).item()\n",
        "    return recall"
      ]
    },
    {
      "cell_type": "code",
      "execution_count": 18,
      "metadata": {
        "id": "MOdhf_z4cLU8",
        "colab": {
          "base_uri": "https://localhost:8080/"
        },
        "outputId": "04e493f8-8976-4d49-f201-26995a6ffc18"
      },
      "outputs": [
        {
          "output_type": "execute_result",
          "data": {
            "text/plain": [
              "0.6666666865348816"
            ]
          },
          "metadata": {},
          "execution_count": 18
        }
      ],
      "source": [
        "# make sure it works\n",
        "get_recall(**dummy_batch)"
      ]
    },
    {
      "cell_type": "markdown",
      "metadata": {
        "id": "KArsnvUpcLU9"
      },
      "source": [
        "### Training loop (1 point)\n",
        "\n",
        "Just as we always do, we can now train DSSM on minibatches and periodically measure recall on validation data.\n",
        "\n",
        "\n",
        "__Note 1:__ triplet loss training may be very sensitive to the choice of batch size. Small batch size may decrease model quality because there are less negative to consider.\n",
        "\n",
        "__Note 2:__ here we use the same dataset as __\"test set\"__ and __\"validation (dev) set\"__.\n",
        "\n",
        "In any serious scientific experiment, those must be two separate sets. Validation is for hyperparameter tuning and test is for final eval only.\n"
      ]
    },
    {
      "cell_type": "code",
      "execution_count": 19,
      "metadata": {
        "id": "NTKNwrXuCNRM"
      },
      "outputs": [],
      "source": [
        "device = 'cuda' if torch.cuda.is_available() else 'cpu'\n",
        "BATCH_SIZE = 256"
      ]
    },
    {
      "cell_type": "code",
      "execution_count": 20,
      "metadata": {
        "id": "ol_qCuFYCNRM"
      },
      "outputs": [],
      "source": [
        "bert = bert.to(device)"
      ]
    },
    {
      "cell_type": "code",
      "execution_count": 21,
      "metadata": {
        "id": "gDaKqIdqcLU9"
      },
      "outputs": [],
      "source": [
        "import pandas as pd\n",
        "from IPython.display import clear_output\n",
        "from tqdm import tqdm\n",
        "\n",
        "\n",
        "# Initialize model, optimizers, anything else you want\n",
        "question_vectorizer = Vectorizer().to(device)\n",
        "answer_vectorizer = Vectorizer().to(device)\n",
        "\n",
        "question_opt = torch.optim.AdamW(question_vectorizer.parameters(), lr=1e-03)\n",
        "answer_opt = torch.optim.AdamW(answer_vectorizer.parameters(), lr=1e-03)\n",
        "\n",
        "ewma = lambda x, span: pd.DataFrame({'x': x})['x'].ewm(span=span).mean().values\n",
        "dev_batches = iterate_minibatches(test, batch_size=BATCH_SIZE, cycle=True)\n",
        "loss_history = []\n",
        "dev_recall_history = []"
      ]
    },
    {
      "cell_type": "code",
      "source": [
        "print(bert.pooler.dense.weight)"
      ],
      "metadata": {
        "colab": {
          "base_uri": "https://localhost:8080/"
        },
        "id": "pOS8LE546aBv",
        "outputId": "9d1f7839-6aaa-4fdc-b3f9-65dec9205868"
      },
      "execution_count": 22,
      "outputs": [
        {
          "output_type": "stream",
          "name": "stdout",
          "text": [
            "Parameter containing:\n",
            "tensor([[-0.0013, -0.0381, -0.0158,  ...,  0.0244, -0.0008,  0.0240],\n",
            "        [ 0.0020,  0.0151,  0.0033,  ...,  0.0180, -0.0023,  0.0231],\n",
            "        [-0.0386,  0.0145,  0.0621,  ...,  0.0374, -0.0105, -0.0395],\n",
            "        ...,\n",
            "        [-0.0111,  0.0136,  0.0541,  ...,  0.0666,  0.0017, -0.0090],\n",
            "        [ 0.0001,  0.0024, -0.0125,  ...,  0.0046, -0.0014, -0.0079],\n",
            "        [ 0.0415,  0.0751,  0.0305,  ...,  0.0317,  0.0479,  0.0080]],\n",
            "       device='cuda:0', requires_grad=True)\n"
          ]
        }
      ]
    },
    {
      "cell_type": "code",
      "source": [
        "print(bert.pooler.dense.weight)"
      ],
      "metadata": {
        "colab": {
          "base_uri": "https://localhost:8080/"
        },
        "id": "jWPkrhqr6q4G",
        "outputId": "3c08c3e8-ae0f-4469-902a-7f5348cf8820"
      },
      "execution_count": 23,
      "outputs": [
        {
          "output_type": "stream",
          "name": "stdout",
          "text": [
            "Parameter containing:\n",
            "tensor([[-0.0013, -0.0381, -0.0158,  ...,  0.0244, -0.0008,  0.0240],\n",
            "        [ 0.0020,  0.0151,  0.0033,  ...,  0.0180, -0.0023,  0.0231],\n",
            "        [-0.0386,  0.0145,  0.0621,  ...,  0.0374, -0.0105, -0.0395],\n",
            "        ...,\n",
            "        [-0.0111,  0.0136,  0.0541,  ...,  0.0666,  0.0017, -0.0090],\n",
            "        [ 0.0001,  0.0024, -0.0125,  ...,  0.0046, -0.0014, -0.0079],\n",
            "        [ 0.0415,  0.0751,  0.0305,  ...,  0.0317,  0.0479,  0.0080]],\n",
            "       device='cuda:0', requires_grad=True)\n"
          ]
        }
      ]
    },
    {
      "cell_type": "code",
      "execution_count": null,
      "metadata": {
        "id": "RuDUsgjrcLU9",
        "colab": {
          "base_uri": "https://localhost:8080/",
          "height": 475
        },
        "outputId": "4b9d5fd5-d50f-4426-d2bd-0970752b3bac"
      },
      "outputs": [
        {
          "output_type": "display_data",
          "data": {
            "text/plain": [
              "<Figure size 1200x600 with 2 Axes>"
            ],
            "image/png": "[encoded data removed]"
          },
          "metadata": {}
        }
      ],
      "source": [
        "# infinite training loop. Stop it manually or implement early stopping\n",
        "\n",
        "for batch in iterate_minibatches(train, batch_size=BATCH_SIZE, cycle=True):\n",
        "    # print(batch.keys())\n",
        "    # break\n",
        "    # Perform one training step\n",
        "    # <YOUR CODE>\n",
        "    answer_opt.zero_grad()\n",
        "    question_opt.zero_grad()\n",
        "\n",
        "    question_vectorizer.train(True)\n",
        "    answer_vectorizer.train(True)\n",
        "\n",
        "    questions = batch['questions'].tolist()\n",
        "    correct_answers = batch['correct_answers'].tolist()\n",
        "    wrong_answers = batch['wrong_answers'].tolist()\n",
        "    q_embs = question_vectorizer(questions).to(device)\n",
        "    c_embs = answer_vectorizer(correct_answers).to(device)\n",
        "    w_embs = answer_vectorizer(wrong_answers).to(device)\n",
        "\n",
        "    # v_questions = question_vectorizer(questions.tolist())\n",
        "    # v_correct = answer_vectorizer(correct_answers.tolist())\n",
        "    # v_incorrect = answer_vectorizer(wrong_answers.tolist())\n",
        "    loss_t = compute_loss(q_embs, c_embs, w_embs)\n",
        "    loss = loss_t.mean()\n",
        "    loss.backward()\n",
        "\n",
        "    answer_opt.step()\n",
        "    question_opt.step()\n",
        "\n",
        "    loss_history.append(float(loss))\n",
        "\n",
        "    if len(loss_history) % 50 == 0:\n",
        "        # measure dev recall = P(correct_is_closer_than_wrong | q, a+, a-)\n",
        "        question_vectorizer.train(False)\n",
        "        answer_vectorizer.train(False)\n",
        "        dev_batch = next(dev_batches)\n",
        "\n",
        "        recall_t = get_recall(**dev_batch)\n",
        "\n",
        "        dev_recall_history.append(recall_t)\n",
        "\n",
        "    if len(loss_history) % 50 == 0:\n",
        "        question_vectorizer.train(False)\n",
        "        answer_vectorizer.train(False)\n",
        "\n",
        "        clear_output(True)\n",
        "        plt.figure(figsize=[12, 6])\n",
        "        plt.subplot(1, 2, 1), plt.title('train loss (hinge)'), plt.grid()\n",
        "        plt.scatter(np.arange(len(loss_history)), loss_history, alpha=0.1)\n",
        "        plt.plot(ewma(loss_history, span=100))\n",
        "        plt.subplot(1, 2, 2), plt.title('dev recall (1 correct vs 1 wrong)'), plt.grid()\n",
        "        dev_time = np.arange(1, len(dev_recall_history) + 1) * 100\n",
        "        plt.scatter(dev_time, dev_recall_history, alpha=0.1)\n",
        "        plt.plot(dev_time, ewma(dev_recall_history, span=10))\n",
        "        plt.show()\n"
      ]
    },
    {
      "cell_type": "code",
      "execution_count": 23,
      "metadata": {
        "id": "kYLKsDNKcLU9",
        "colab": {
          "base_uri": "https://localhost:8080/",
          "height": 293
        },
        "outputId": "f518d61f-8cff-4710-fa10-beade5fae238"
      },
      "outputs": [
        {
          "output_type": "stream",
          "name": "stdout",
          "text": [
            "Mean recall: 0.5375\n"
          ]
        },
        {
          "output_type": "error",
          "ename": "AssertionError",
          "evalue": "ignored",
          "traceback": [
            "\u001b[0;31m---------------------------------------------------------------------------\u001b[0m",
            "\u001b[0;31mAssertionError\u001b[0m                            Traceback (most recent call last)",
            "\u001b[0;32m<ipython-input-23-70659c809967>\u001b[0m in \u001b[0;36m<cell line: 2>\u001b[0;34m()\u001b[0m\n\u001b[1;32m      1\u001b[0m \u001b[0mprint\u001b[0m\u001b[0;34m(\u001b[0m\u001b[0;34m\"Mean recall:\"\u001b[0m\u001b[0;34m,\u001b[0m \u001b[0mnp\u001b[0m\u001b[0;34m.\u001b[0m\u001b[0mmean\u001b[0m\u001b[0;34m(\u001b[0m\u001b[0mdev_recall_history\u001b[0m\u001b[0;34m[\u001b[0m\u001b[0;34m-\u001b[0m\u001b[0;36m10\u001b[0m\u001b[0;34m:\u001b[0m\u001b[0;34m]\u001b[0m\u001b[0;34m)\u001b[0m\u001b[0;34m)\u001b[0m\u001b[0;34m\u001b[0m\u001b[0;34m\u001b[0m\u001b[0m\n\u001b[0;32m----> 2\u001b[0;31m \u001b[0;32massert\u001b[0m \u001b[0mnp\u001b[0m\u001b[0;34m.\u001b[0m\u001b[0mmean\u001b[0m\u001b[0;34m(\u001b[0m\u001b[0mdev_recall_history\u001b[0m\u001b[0;34m[\u001b[0m\u001b[0;34m-\u001b[0m\u001b[0;36m10\u001b[0m\u001b[0;34m:\u001b[0m\u001b[0;34m]\u001b[0m\u001b[0;34m)\u001b[0m \u001b[0;34m>\u001b[0m \u001b[0;36m0.85\u001b[0m\u001b[0;34m,\u001b[0m \u001b[0;34m\"Please train for at least 85% recall on test set. \"\u001b[0m\u001b[0;31m\\\u001b[0m\u001b[0;34m\u001b[0m\u001b[0;34m\u001b[0m\u001b[0m\n\u001b[0m\u001b[1;32m      3\u001b[0m                                                   \u001b[0;34m\"You may need to change vectorizer model for that.\"\u001b[0m\u001b[0;34m\u001b[0m\u001b[0;34m\u001b[0m\u001b[0m\n\u001b[1;32m      4\u001b[0m \u001b[0mprint\u001b[0m\u001b[0;34m(\u001b[0m\u001b[0;34m\"Well done!\"\u001b[0m\u001b[0;34m)\u001b[0m\u001b[0;34m\u001b[0m\u001b[0;34m\u001b[0m\u001b[0m\n",
            "\u001b[0;31mAssertionError\u001b[0m: Please train for at least 85% recall on test set. You may need to change vectorizer model for that."
          ]
        }
      ],
      "source": [
        "print(\"Mean recall:\", np.mean(dev_recall_history[-10:]))\n",
        "assert np.mean(dev_recall_history[-10:]) > 0.85, \"Please train for at least 85% recall on test set. \"\\\n",
        "                                                  \"You may need to change vectorizer model for that.\"\n",
        "print(\"Well done!\")"
      ]
    },
    {
      "cell_type": "markdown",
      "metadata": {
        "collapsed": true,
        "id": "YMsVSsaScLU-"
      },
      "source": [
        "# Retriever evaluation (2 point)\n",
        "\n",
        "Let's see how well does our model perform on actual question answering.\n",
        "\n",
        "Given a question and a set of possible answers, pick answer with highest similarity to estimate accuracy."
      ]
    },
    {
      "cell_type": "code",
      "execution_count": 25,
      "metadata": {
        "id": "drbFaxidcLU-"
      },
      "outputs": [],
      "source": [
        "# optional: any additional preparations, e.g. build index\n",
        "# <...>\n",
        "\n",
        "def select_best_answer(question, possible_answers):\n",
        "    \"\"\"\n",
        "    Predicts which answer best fits the question\n",
        "    :param question: a single string containing a question\n",
        "    :param possible_answers: a list of strings containing possible answers\n",
        "    :returns: integer - the index of best answer in possible_answer\n",
        "    \"\"\"\n",
        "    q_embs = question_vectorizer([question])\n",
        "    a_embs = answer_vectorizer(possible_answers)\n",
        "    similarities = similarity(q_embs, a_embs)\n",
        "    return torch.argmax(similarities).item()\n"
      ]
    },
    {
      "cell_type": "code",
      "execution_count": 26,
      "metadata": {
        "id": "9aLwahCxcLU-",
        "colab": {
          "base_uri": "https://localhost:8080/",
          "height": 259
        },
        "outputId": "41c99839-ed3d-4a4b-c568-6a629e23a5b0"
      },
      "outputs": [
        {
          "output_type": "stream",
          "name": "stderr",
          "text": [
            "100%|██████████| 100/100 [00:02<00:00, 33.74it/s]"
          ]
        },
        {
          "output_type": "stream",
          "name": "stdout",
          "text": [
            "Accuracy: 0.32000\n"
          ]
        },
        {
          "output_type": "stream",
          "name": "stderr",
          "text": [
            "\n"
          ]
        },
        {
          "output_type": "error",
          "ename": "AssertionError",
          "evalue": "ignored",
          "traceback": [
            "\u001b[0;31m---------------------------------------------------------------------------\u001b[0m",
            "\u001b[0;31mAssertionError\u001b[0m                            Traceback (most recent call last)",
            "\u001b[0;32m<ipython-input-26-2f253379e99b>\u001b[0m in \u001b[0;36m<cell line: 11>\u001b[0;34m()\u001b[0m\n\u001b[1;32m      9\u001b[0m ])\n\u001b[1;32m     10\u001b[0m \u001b[0mprint\u001b[0m\u001b[0;34m(\u001b[0m\u001b[0;34m\"Accuracy: %0.5f\"\u001b[0m \u001b[0;34m%\u001b[0m \u001b[0maccuracy\u001b[0m\u001b[0;34m)\u001b[0m\u001b[0;34m\u001b[0m\u001b[0;34m\u001b[0m\u001b[0m\n\u001b[0;32m---> 11\u001b[0;31m \u001b[0;32massert\u001b[0m \u001b[0maccuracy\u001b[0m \u001b[0;34m>\u001b[0m \u001b[0;36m0.65\u001b[0m\u001b[0;34m,\u001b[0m \u001b[0;34m\"we need more accuracy!\"\u001b[0m\u001b[0;34m\u001b[0m\u001b[0;34m\u001b[0m\u001b[0m\n\u001b[0m\u001b[1;32m     12\u001b[0m \u001b[0mprint\u001b[0m\u001b[0;34m(\u001b[0m\u001b[0;34m\"Great job!\"\u001b[0m\u001b[0;34m)\u001b[0m\u001b[0;34m\u001b[0m\u001b[0;34m\u001b[0m\u001b[0m\n",
            "\u001b[0;31mAssertionError\u001b[0m: we need more accuracy!"
          ]
        }
      ],
      "source": [
        "predicted_answers = [\n",
        "    select_best_answer(question, possible_answers)\n",
        "    for i, (question, possible_answers) in tqdm(list(test[['question', 'options']].iterrows())[0:100], total=100)\n",
        "]\n",
        "\n",
        "accuracy = np.mean([\n",
        "    answer in correct_ix\n",
        "    for answer, correct_ix in zip(predicted_answers, test['correct_indices'].values)\n",
        "])\n",
        "print(\"Accuracy: %0.5f\" % accuracy)\n",
        "assert accuracy > 0.65, \"we need more accuracy!\"\n",
        "print(\"Great job!\")"
      ]
    },
    {
      "cell_type": "code",
      "execution_count": null,
      "metadata": {
        "id": "w3ODWG4kcLU_"
      },
      "outputs": [],
      "source": [
        "def draw_results(question, possible_answers, predicted_index, correct_indices):\n",
        "    print(\"Q:\", question, end='\\n\\n')\n",
        "    for i, answer in enumerate(possible_answers):\n",
        "        print(\"#%i: %s %s\" % (i, '[*]' if i == predicted_index else '[ ]', answer))\n",
        "\n",
        "    print(\"\\nVerdict:\", \"CORRECT\" if predicted_index in correct_indices else \"INCORRECT\",\n",
        "          \"(ref: %s)\" % correct_indices, end='\\n' * 3)"
      ]
    },
    {
      "cell_type": "code",
      "execution_count": null,
      "metadata": {
        "id": "sLbpRSSmcLU_",
        "scrolled": false
      },
      "outputs": [],
      "source": [
        "for i in [1, 100, 1000, 2000, 3000, 4000, 5000]:\n",
        "    draw_results(test.iloc[i].question, test.iloc[i].options,\n",
        "                 predicted_answers[i], test.iloc[i].correct_indices)"
      ]
    },
    {
      "cell_type": "code",
      "execution_count": null,
      "metadata": {
        "id": "Ki4qVJo_cLU_"
      },
      "outputs": [],
      "source": [
        "question = \"What is my name?\" # your question here!\n",
        "possible_answers = [\n",
        "    <...>\n",
        "    # ^- your options.\n",
        "]\n",
        "predicted answer = select_best_answer(question, possible_answers)\n",
        "\n",
        "draw_results(question, possible_answers,\n",
        "             predicted_answer, [0])"
      ]
    },
    {
      "cell_type": "markdown",
      "metadata": {
        "id": "Yw0l5dyAcLU_"
      },
      "source": [
        "### Part 2: to prompt a generator (3 points)\n",
        "\n",
        "You have built a model that can select the most relevant sentence from a text document. However, this is still not the same as question answering - at least not how humans understand it. The full question answering system shoud answer your question in a dialogue - and perhap even let you ask follow-up questions."
      ]
    },
    {
      "cell_type": "code",
      "execution_count": null,
      "metadata": {
        "id": "IFCrKiUgcLVA"
      },
      "outputs": [],
      "source": [
        "# note: you may want to save pre-trained retriever and restart to free memory\n",
        "import torch\n",
        "import transformers\n",
        "\n",
        "model_name = 'TheBloke/Mistral-7B-Instruct-v0.2-GPTQ'  # feel free to choose any other model\n",
        "device = torch.device('cuda:0' if torch.cuda.is_available() else 'cpu')\n",
        "tokenizer = transformers.LlamaTokenizer.from_pretrained(model_name, device_map=device)\n",
        "tokenizer.pad_token_id = tokenizer.eos_token_id\n",
        "model = transformers.AutoModelForCausalLM.from_pretrained(\n",
        "    model_name,\n",
        "    device_map='auto',\n",
        "    torch_dtype=torch.float16,\n",
        "    low_cpu_mem_usage=True,\n",
        ")"
      ]
    },
    {
      "cell_type": "code",
      "execution_count": null,
      "metadata": {
        "id": "3b_lFbiPcLVA",
        "outputId": "13e16785-ac43-4fd5-a73a-1c4714c9b513"
      },
      "outputs": [
        {
          "name": "stdout",
          "output_type": "stream",
          "text": [
            "QUESTION What was the first album Beyoncé released as a solo artist? \n",
            "\n",
            "TEXT SENTENCES\n",
            "[ ] Beyoncé Giselle Knowles-Carter (/biːˈjɒnseɪ/ bee-YON-say) (born September 4, 1981) is an American singer, songwriter, record producer and actress.\n",
            "[ ] Born and raised in Houston, Texas, she performed in various singing and dancing competitions as a child, and rose to fame in the late 1990s as lead singer of R&B girl-group Destiny's Child.\n",
            "[ ] Managed by her father, Mathew Knowles, the group became one of the world's best-selling girl groups of all time.\n",
            "[v] Their hiatus saw the release of Beyoncé's debut album, Dangerously in Love (2003), which established her as a solo artist worldwide, earned five Grammy Awards and featured the Billboard Hot 100 number-one singles \"Crazy in Love\" and \"Baby Boy\".\n"
          ]
        }
      ],
      "source": [
        "pid, question, options, correct_indices, wrong_indices = train.iloc[10]\n",
        "print('QUESTION', question, '\\n')\n",
        "print('TEXT SENTENCES')\n",
        "for i, cand in enumerate(options):\n",
        "    print(['[ ]', '[v]'][i in correct_indices], cand)"
      ]
    },
    {
      "cell_type": "code",
      "execution_count": null,
      "metadata": {
        "id": "bhQ9r0RycLVA",
        "outputId": "06b3c16d-5872-4b6b-df36-50893fa090d5"
      },
      "outputs": [
        {
          "name": "stdout",
          "output_type": "stream",
          "text": [
            "The first album Beyoncé released as a solo artist was \"Dangerously in Love\" in 2003.</s>\n"
          ]
        }
      ],
      "source": [
        "question_and_info = \"\"\"\n",
        "Question: What was the first album Beyoncé released as a solo artist?\n",
        "\n",
        "Information: Their hiatus saw the release of Beyoncé's debut album, Dangerously in Love (2003), which established her as a solo artist worldwide, earned five Grammy Awards and featured the Billboard Hot 100 number-one singles \"Crazy in Love\" and \"Baby Boy\".\n",
        "\"\"\"  # <-- you should un-hardcode this\n",
        "\n",
        "input_ids = tokenizer.apply_chat_template([\n",
        "    dict(role='user', content=\"\"\"You will be given a question and a piece of information that contains the answer. Please reply with a short informal answer to a question based on the information given.\"\"\".strip()),\n",
        "    dict(role='assistant', content=\"\"\"Okay, what question would you like me to answer?\"\"\"),\n",
        "    dict(role='user', content=question_and_info.strip())], return_tensors='pt').to(device)\n",
        "# details: https://huggingface.co/docs/transformers/main/en/chat_templating ; only used for chat/instruct models\n",
        "\n",
        "output_tokens = model.generate(input_ids, attention_mask=torch.ones_like(input_ids),\n",
        "                               max_new_tokens=64, do_sample=True, temperature=0.8, top_p=0.9)\n",
        "print(tokenizer.decode(output_tokens[0, input_ids.shape[1]:]))"
      ]
    },
    {
      "cell_type": "markdown",
      "metadata": {
        "id": "35yibHtVcLVB"
      },
      "source": [
        "### Optional tasks for bonus points\n",
        "\n",
        "There are many ways to improve our question answering model. Here's a bunch of things you can do to increase your understanding and get bonus points.\n",
        "\n",
        "### 1.  Hard Negatives (2+ pts)\n",
        "\n",
        "Not all wrong answers are equally wrong. As the training progresses, _most negative examples $a^-$ will be to easy._ So easy in fact, that loss function and gradients on such negatives is exactly __0.0__. To improve training efficiency, one can __mine hard negative samples__.\n",
        "\n",
        "Given a list of answers,\n",
        "* __Hard negative__ is the wrong answer with highest similarity with question,\n",
        "\n",
        "$$a^-_{hard} = \\underset {a^-} {argmax} \\space sim[V_q(q), V_a(a^-)]$$\n",
        "\n",
        "* __Semi-hard negative__ is the one with highest similarity _among wrong answers that are farther than positive one. This option is more useful if some wrong answers may actually be mislabelled correct answers.\n",
        "\n",
        "* One can also __sample__ negatives proportionally to $$P(a^-_i) \\sim e ^ {sim[V_q(q), V_a(a^-_i)]}$$\n",
        "\n",
        "\n",
        "The task is to implement at least __hard negative__ sampling and apply it for model training.\n",
        "\n",
        "\n",
        "### 2. Better prompting (2+ pts)\n",
        "\n",
        "In the previous example, we manually engineer a prompt for an LLM to solve produce an answer. However, by this point you know multiple ways to make LLM do your bidding. In this assignment, you should try at least some of them:\n",
        "- try few-shot learning with several handcrafted examples (or hand-picked model inputs)\n",
        "- compare several instruct and/or non-instruct models; for non-instruct models\n",
        "  - please not that you should not use apply_chat_template for non-instruct models\n",
        "- provide some means of quality evaluation to compare your approach against the default one\n",
        "\n",
        "At the minimum, several (10-20) side-by-side examples would do the trick. However, we'd appreciate creative means of evaluation here (crowdsourcing, asking another LM, anything exotic as long as you can explain it).\n",
        "\n",
        "### 3. Search engine (3+ pts)\n",
        "\n",
        "Our basic model only selects answers from 2-5 available sentences in paragraph. You can extend it to search over __the whole dataset__. All sentences in all other paragraphs are viable answers.\n",
        "\n",
        "The goal is to train such a model and use it to __quickly find top-10 answers from the whole set__.\n",
        "\n",
        "* You can ask such model a question of your own making - to see which answers it can find among the entire training dataset or even the entire wikipedia.\n",
        "* Searching for top-K neighbors is easier if you use specialized methods: [KD-Tree](https://scikit-learn.org/stable/modules/generated/sklearn.neighbors.KDTree.html) or [HNSW](https://github.com/nmslib/hnswlib).\n",
        "* This task is much easier to train if you use hard or semi-hard negatives. You can even find hard negatives for one question from correct answers to other questions in batch - do so in-graph for maximum efficiency. See [1.] for more details.\n"
      ]
    }
  ],
  "metadata": {
    "accelerator": "GPU",
    "colab": {
      "gpuType": "T4",
      "provenance": []
    },
    "kernelspec": {
      "display_name": "Python 3",
      "name": "python3"
    },
    "language_info": {
      "codemirror_mode": {
        "name": "ipython",
        "version": 3
      },
      "file_extension": ".py",
      "mimetype": "text/x-python",
      "name": "python",
      "nbconvert_exporter": "python",
      "pygments_lexer": "ipython3",
      "version": "3.11.4"
    }
  },
  "nbformat": 4,
  "nbformat_minor": 0
}