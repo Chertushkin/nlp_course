{
  "cells": [
    {
      "cell_type": "markdown",
      "metadata": {
        "id": "aSWEcS2XKgzi"
      },
      "source": [
        "### Practice: Large Language Models and Their Implications\n",
        "<!-- ![img](https://substackcdn.com/image/fetch/f_auto,q_auto:good,fl_progressive:steep/https%3A%2F%2Fbucketeer-e05bbc84-baa3-437e-9518-adb32be77984.s3.amazonaws.com%2Fpublic%2Fimages%2F4470ce74-e595-4750-92a5-5f21f040df6d_577x432.jpeg) -->\n",
        "![img](https://i.imgur.com/QGYa2J8.jpeg)\n",
        "\n",
        "In this notebook, you're gonna play with some of the largest language models on the Internet.\n",
        "\n",
        "_Based on works of: Tim Dettmers, Ruslan Svirschevsky, Artem Chumachenko, Younes Belkada, Felix Marty, Yulian Gilyazev, Gosha Zolotov, Andrey Ishutin,  Elena Volf, Artemiy Vishnyakov, Svetlana Shirokovskih."
      ]
    },
    {
      "cell_type": "markdown",
      "metadata": {
        "id": "1jYrxHF8Kgzl"
      },
      "source": [
        "### Part 1: prompt engineering (4 points total)\n",
        "\n",
        "In the assignment, we'll use public APIs that host the 100B+ models for inference. Your task is to prompt-engineer the model into solving a few tasks for you.\n",
        "\n",
        "\n",
        "__Which API?__ You are free to use any publicly available API for general LM -- as long as it's __not a chat assistant__. So, gpt 3.5 is fine, but chatGPT is not. Here's a few options:\n",
        "\n",
        "- BLOOM API - [bigscience/bloom](https://huggingface.co/bigscience/bloom) (on the right; recommended)\n",
        "- OpenAI API (via VPN) - [openai.com/api](https://openai.com/api/)\n",
        "- AI21 Jurrasic API - [ai21.com](https://www.ai21.com/blog/announcing-ai21-studio-and-jurassic-1)\n",
        "\n",
        "These APIs may require you to create a (free) account on their platform. Please note that some APIs also have paid subscriptions. __You do not need to pay them__, this assignment was designed to be solved using free-tier subscriptions. If no APIs work for you, you can also solve these tasks with the 6.7B model that you will find later in this notebook - but this will make the tasks somewhat harder.\n",
        "\n",
        "__Quests:__ you will need to solve 4 problems. For each one, please attach a short __description__ of your solution and a __screenshot__ from the API you use. _[If you use python APIs, show your python code with outputs]_\n",
        "\n",
        "__Example:__ Tony is talking to Darth Vader ([BLOOM API](https://huggingface.co/bigscience/bloom)). Black text is written manually, blue text is generated.\n",
        "<hr>\n",
        "\n",
        "![img](https://i.imgur.com/a1QhKF7.png)\n",
        "<hr>\n",
        "\n",
        "__It is fine to roll back a few times,__ e.g. in the example above, the model first generated Vader lines twice in a row, and we rolled that back. However, if you need more than 1-2 rollbacks per session, you should probably try a different prompt."
      ]
    },
    {
      "cell_type": "markdown",
      "metadata": {
        "id": "CHIvIFjsKgzm"
      },
      "source": [
        "__Task 1 (1 pt):__ arange a conversation between any two of the following:\n",
        "\n",
        "- a celebrity or politician of your choice\n",
        "- any fictional character (except Darth Vader)\n",
        "- yourself\n",
        "\n",
        "Compare two setups: a) you prompt with character names only b) you supply additional information (see example)."
      ]
    },
    {
      "cell_type": "code",
      "execution_count": null,
      "metadata": {
        "id": "X-1odENFmxkA"
      },
      "outputs": [],
      "source": [
        "import ai21\n",
        "\n",
        "with open('ai21_key.txt', 'r+') as f:\n",
        "    ai21.api_key = f.read()"
      ]
    },
    {
      "cell_type": "code",
      "execution_count": null,
      "metadata": {
        "id": "yJJtTnJEKgzm"
      },
      "outputs": [],
      "source": [
        "prompt = '''\n",
        "Vladimir is talking to Eren Jaeger and wants to know why Eren started war of annihilation against Titans. Eren answers to him that he hates Titans because they ate his mother. Vladimir says that he can relate to that because Nazis also ate his grandmother, that's why Vladimir started a war of annihilation. Then they continue talking like best friends, they discuss how kittens can save the world and also talk how sad that flames turn to dust, lovers turn to friends and how sad that all good things come to the end.\n",
        "Vladimir: Why do you hate Titans Eren?\n",
        "Eren: '''"
      ]
    },
    {
      "cell_type": "code",
      "execution_count": null,
      "metadata": {
        "id": "t_g_qQV9mxkB",
        "outputId": "301da0ea-d61c-4b80-bd80-670d0d5839ff"
      },
      "outputs": [
        {
          "name": "stdout",
          "output_type": "stream",
          "text": [
            "{'id': '03f933e7-878f-4169-376c-4306003e7604', 'prompt': {'text': \"\\nVladimir is talking to Eren Jaeger and wants to know why Eren started war of annihilation against Titans. Eren answers to him that he hates Titans because they ate his mother. Vladimir says that he can relate to that because Nazis also ate his grandmother, that's why Vladimir started a war of annihilation. Then they continue talking like best friends, they discuss how kittens can save the world and also talk how sad that flames turn to dust, lovers turn to friends and how sad that all good things come to the end.\\nVladimir: Why do you hate Titans Eren?\\nEren: \", 'tokens': [{'generatedToken': {'token': '<|newline|>', 'logprob': -4.729306221008301, 'raw_logprob': -4.729306221008301}, 'topTokens': None, 'textRange': {'start': 0, 'end': 1}}, {'generatedToken': {'token': '▁Vladimir', 'logprob': -13.991988182067871, 'raw_logprob': -13.991988182067871}, 'topTokens': None, 'textRange': {'start': 1, 'end': 9}}, {'generatedToken': {'token': '▁is', 'logprob': -5.301218509674072, 'raw_logprob': -5.301218509674072}, 'topTokens': None, 'textRange': {'start': 9, 'end': 12}}, {'generatedToken': {'token': '▁talking▁to', 'logprob': -7.465613842010498, 'raw_logprob': -7.465613842010498}, 'topTokens': None, 'textRange': {'start': 12, 'end': 23}}, {'generatedToken': {'token': '▁Er', 'logprob': -10.94471263885498, 'raw_logprob': -10.94471263885498}, 'topTokens': None, 'textRange': {'start': 23, 'end': 26}}, {'generatedToken': {'token': 'en', 'logprob': -0.9407817125320435, 'raw_logprob': -0.9407817125320435}, 'topTokens': None, 'textRange': {'start': 26, 'end': 28}}, {'generatedToken': {'token': '▁Jaeger', 'logprob': -8.055658340454102, 'raw_logprob': -8.055658340454102}, 'topTokens': None, 'textRange': {'start': 28, 'end': 35}}, {'generatedToken': {'token': '▁and', 'logprob': -7.1967854499816895, 'raw_logprob': -7.1967854499816895}, 'topTokens': None, 'textRange': {'start': 35, 'end': 39}}, {'generatedToken': {'token': '▁wants▁to▁know', 'logprob': -8.930689811706543, 'raw_logprob': -8.930689811706543}, 'topTokens': None, 'textRange': {'start': 39, 'end': 53}}, {'generatedToken': {'token': '▁why', 'logprob': -6.662899971008301, 'raw_logprob': -6.662899971008301}, 'topTokens': None, 'textRange': {'start': 53, 'end': 57}}, {'generatedToken': {'token': '▁Er', 'logprob': -1.9822747707366943, 'raw_logprob': -1.9822747707366943}, 'topTokens': None, 'textRange': {'start': 57, 'end': 60}}, {'generatedToken': {'token': 'en', 'logprob': -0.010109294205904007, 'raw_logprob': -0.010109294205904007}, 'topTokens': None, 'textRange': {'start': 60, 'end': 62}}, {'generatedToken': {'token': '▁started', 'logprob': -8.450111389160156, 'raw_logprob': -8.450111389160156}, 'topTokens': None, 'textRange': {'start': 62, 'end': 70}}, {'generatedToken': {'token': '▁war', 'logprob': -10.659032821655273, 'raw_logprob': -10.659032821655273}, 'topTokens': None, 'textRange': {'start': 70, 'end': 74}}, {'generatedToken': {'token': '▁of', 'logprob': -11.43557357788086, 'raw_logprob': -11.43557357788086}, 'topTokens': None, 'textRange': {'start': 74, 'end': 77}}, {'generatedToken': {'token': '▁annihilation', 'logprob': -8.616917610168457, 'raw_logprob': -8.616917610168457}, 'topTokens': None, 'textRange': {'start': 77, 'end': 90}}, {'generatedToken': {'token': '▁against', 'logprob': -6.605751037597656, 'raw_logprob': -6.605751037597656}, 'topTokens': None, 'textRange': {'start': 90, 'end': 98}}, {'generatedToken': {'token': '▁Titans', 'logprob': -6.481313705444336, 'raw_logprob': -6.481313705444336}, 'topTokens': None, 'textRange': {'start': 98, 'end': 105}}, {'generatedToken': {'token': '.', 'logprob': -8.291964530944824, 'raw_logprob': -8.291964530944824}, 'topTokens': None, 'textRange': {'start': 105, 'end': 106}}, {'generatedToken': {'token': '▁Er', 'logprob': -11.60940933227539, 'raw_logprob': -11.60940933227539}, 'topTokens': None, 'textRange': {'start': 106, 'end': 109}}, {'generatedToken': {'token': 'en', 'logprob': -0.0007232195930555463, 'raw_logprob': -0.0007232195930555463}, 'topTokens': None, 'textRange': {'start': 109, 'end': 111}}, {'generatedToken': {'token': '▁answers▁to', 'logprob': -18.41210174560547, 'raw_logprob': -18.41210174560547}, 'topTokens': None, 'textRange': {'start': 111, 'end': 122}}, {'generatedToken': {'token': '▁him', 'logprob': -10.228848457336426, 'raw_logprob': -10.228848457336426}, 'topTokens': None, 'textRange': {'start': 122, 'end': 126}}, {'generatedToken': {'token': '▁that▁he', 'logprob': -12.703167915344238, 'raw_logprob': -12.703167915344238}, 'topTokens': None, 'textRange': {'start': 126, 'end': 134}}, {'generatedToken': {'token': '▁hates', 'logprob': -10.071142196655273, 'raw_logprob': -10.071142196655273}, 'topTokens': None, 'textRange': {'start': 134, 'end': 140}}, {'generatedToken': {'token': '▁Titans', 'logprob': -5.65670108795166, 'raw_logprob': -5.65670108795166}, 'topTokens': None, 'textRange': {'start': 140, 'end': 147}}, {'generatedToken': {'token': '▁because▁they', 'logprob': -7.798597812652588, 'raw_logprob': -7.798597812652588}, 'topTokens': None, 'textRange': {'start': 147, 'end': 160}}, {'generatedToken': {'token': '▁', 'logprob': -7.815654754638672, 'raw_logprob': -7.815654754638672}, 'topTokens': None, 'textRange': {'start': 160, 'end': 161}}, {'generatedToken': {'token': 'ate', 'logprob': -2.9782826900482178, 'raw_logprob': -2.9782826900482178}, 'topTokens': None, 'textRange': {'start': 161, 'end': 164}}, {'generatedToken': {'token': '▁his▁mother', 'logprob': -6.251705169677734, 'raw_logprob': -6.251705169677734}, 'topTokens': None, 'textRange': {'start': 164, 'end': 175}}, {'generatedToken': {'token': '.', 'logprob': -11.218775749206543, 'raw_logprob': -11.218775749206543}, 'topTokens': None, 'textRange': {'start': 175, 'end': 176}}, {'generatedToken': {'token': '▁Vladimir', 'logprob': -15.687512397766113, 'raw_logprob': -15.687512397766113}, 'topTokens': None, 'textRange': {'start': 176, 'end': 185}}, {'generatedToken': {'token': '▁says▁that▁he', 'logprob': -16.304899215698242, 'raw_logprob': -16.304899215698242}, 'topTokens': None, 'textRange': {'start': 185, 'end': 198}}, {'generatedToken': {'token': '▁can▁relate▁to', 'logprob': -9.225114822387695, 'raw_logprob': -9.225114822387695}, 'topTokens': None, 'textRange': {'start': 198, 'end': 212}}, {'generatedToken': {'token': '▁that', 'logprob': -6.164490222930908, 'raw_logprob': -6.164490222930908}, 'topTokens': None, 'textRange': {'start': 212, 'end': 217}}, {'generatedToken': {'token': '▁because', 'logprob': -8.266010284423828, 'raw_logprob': -8.266010284423828}, 'topTokens': None, 'textRange': {'start': 217, 'end': 225}}, {'generatedToken': {'token': '▁Nazis', 'logprob': -14.932103157043457, 'raw_logprob': -14.932103157043457}, 'topTokens': None, 'textRange': {'start': 225, 'end': 231}}, {'generatedToken': {'token': '▁also', 'logprob': -6.279970169067383, 'raw_logprob': -6.279970169067383}, 'topTokens': None, 'textRange': {'start': 231, 'end': 236}}, {'generatedToken': {'token': '▁', 'logprob': -3.5078744888305664, 'raw_logprob': -3.5078744888305664}, 'topTokens': None, 'textRange': {'start': 236, 'end': 237}}, {'generatedToken': {'token': 'ate', 'logprob': -0.04189483821392059, 'raw_logprob': -0.04189483821392059}, 'topTokens': None, 'textRange': {'start': 237, 'end': 240}}, {'generatedToken': {'token': '▁his▁grandmother', 'logprob': -5.353150367736816, 'raw_logprob': -5.353150367736816}, 'topTokens': None, 'textRange': {'start': 240, 'end': 256}}, {'generatedToken': {'token': ',', 'logprob': -16.64063262939453, 'raw_logprob': -16.64063262939453}, 'topTokens': None, 'textRange': {'start': 256, 'end': 257}}, {'generatedToken': {'token': \"▁that's▁why\", 'logprob': -17.195430755615234, 'raw_logprob': -17.195430755615234}, 'topTokens': None, 'textRange': {'start': 257, 'end': 268}}, {'generatedToken': {'token': '▁Vladimir', 'logprob': -10.410909652709961, 'raw_logprob': -10.410909652709961}, 'topTokens': None, 'textRange': {'start': 268, 'end': 277}}, {'generatedToken': {'token': '▁started', 'logprob': -9.627680778503418, 'raw_logprob': -9.627680778503418}, 'topTokens': None, 'textRange': {'start': 277, 'end': 285}}, {'generatedToken': {'token': '▁a▁war', 'logprob': -10.549485206604004, 'raw_logprob': -10.549485206604004}, 'topTokens': None, 'textRange': {'start': 285, 'end': 291}}, {'generatedToken': {'token': '▁of', 'logprob': -8.238136291503906, 'raw_logprob': -8.238136291503906}, 'topTokens': None, 'textRange': {'start': 291, 'end': 294}}, {'generatedToken': {'token': '▁annihilation', 'logprob': -3.426884412765503, 'raw_logprob': -3.426884412765503}, 'topTokens': None, 'textRange': {'start': 294, 'end': 307}}, {'generatedToken': {'token': '.', 'logprob': -15.046874046325684, 'raw_logprob': -15.046874046325684}, 'topTokens': None, 'textRange': {'start': 307, 'end': 308}}, {'generatedToken': {'token': '▁Then▁they', 'logprob': -30.269535064697266, 'raw_logprob': -30.269535064697266}, 'topTokens': None, 'textRange': {'start': 308, 'end': 318}}, {'generatedToken': {'token': '▁continue', 'logprob': -15.015823364257812, 'raw_logprob': -15.015823364257812}, 'topTokens': None, 'textRange': {'start': 318, 'end': 327}}, {'generatedToken': {'token': '▁talking', 'logprob': -9.203272819519043, 'raw_logprob': -9.203272819519043}, 'topTokens': None, 'textRange': {'start': 327, 'end': 335}}, {'generatedToken': {'token': '▁like', 'logprob': -20.203128814697266, 'raw_logprob': -20.203128814697266}, 'topTokens': None, 'textRange': {'start': 335, 'end': 340}}, {'generatedToken': {'token': '▁best▁friends', 'logprob': -24.835939407348633, 'raw_logprob': -24.835939407348633}, 'topTokens': None, 'textRange': {'start': 340, 'end': 353}}, {'generatedToken': {'token': ',', 'logprob': -18.906251907348633, 'raw_logprob': -18.906251907348633}, 'topTokens': None, 'textRange': {'start': 353, 'end': 354}}, {'generatedToken': {'token': '▁they', 'logprob': -17.992292404174805, 'raw_logprob': -17.992292404174805}, 'topTokens': None, 'textRange': {'start': 354, 'end': 359}}, {'generatedToken': {'token': '▁discuss▁how', 'logprob': -18.93752098083496, 'raw_logprob': -18.93752098083496}, 'topTokens': None, 'textRange': {'start': 359, 'end': 371}}, {'generatedToken': {'token': '▁kittens', 'logprob': -27.582246780395508, 'raw_logprob': -27.582246780395508}, 'topTokens': None, 'textRange': {'start': 371, 'end': 379}}, {'generatedToken': {'token': '▁can▁save', 'logprob': -23.38295555114746, 'raw_logprob': -23.38295555114746}, 'topTokens': None, 'textRange': {'start': 379, 'end': 388}}, {'generatedToken': {'token': '▁the▁world', 'logprob': -8.735893249511719, 'raw_logprob': -8.735893249511719}, 'topTokens': None, 'textRange': {'start': 388, 'end': 398}}, {'generatedToken': {'token': '▁and▁also', 'logprob': -20.96106719970703, 'raw_logprob': -20.96106719970703}, 'topTokens': None, 'textRange': {'start': 398, 'end': 407}}, {'generatedToken': {'token': '▁talk', 'logprob': -9.142059326171875, 'raw_logprob': -9.142059326171875}, 'topTokens': None, 'textRange': {'start': 407, 'end': 412}}, {'generatedToken': {'token': '▁how', 'logprob': -17.57813835144043, 'raw_logprob': -17.57813835144043}, 'topTokens': None, 'textRange': {'start': 412, 'end': 416}}, {'generatedToken': {'token': '▁sad▁that', 'logprob': -20.926708221435547, 'raw_logprob': -20.926708221435547}, 'topTokens': None, 'textRange': {'start': 416, 'end': 425}}, {'generatedToken': {'token': '▁flames', 'logprob': -24.628917694091797, 'raw_logprob': -24.628917694091797}, 'topTokens': None, 'textRange': {'start': 425, 'end': 432}}, {'generatedToken': {'token': '▁turn▁to', 'logprob': -15.641655921936035, 'raw_logprob': -15.641655921936035}, 'topTokens': None, 'textRange': {'start': 432, 'end': 440}}, {'generatedToken': {'token': '▁dust', 'logprob': -10.28608226776123, 'raw_logprob': -10.28608226776123}, 'topTokens': None, 'textRange': {'start': 440, 'end': 445}}, {'generatedToken': {'token': ',', 'logprob': -12.468798637390137, 'raw_logprob': -12.468798637390137}, 'topTokens': None, 'textRange': {'start': 445, 'end': 446}}, {'generatedToken': {'token': '▁lovers', 'logprob': -23.343835830688477, 'raw_logprob': -23.343835830688477}, 'topTokens': None, 'textRange': {'start': 446, 'end': 453}}, {'generatedToken': {'token': '▁turn▁to', 'logprob': -9.377079010009766, 'raw_logprob': -9.377079010009766}, 'topTokens': None, 'textRange': {'start': 453, 'end': 461}}, {'generatedToken': {'token': '▁friends', 'logprob': -5.018683910369873, 'raw_logprob': -5.018683910369873}, 'topTokens': None, 'textRange': {'start': 461, 'end': 469}}, {'generatedToken': {'token': '▁and▁how', 'logprob': -16.062541961669922, 'raw_logprob': -16.062541961669922}, 'topTokens': None, 'textRange': {'start': 469, 'end': 477}}, {'generatedToken': {'token': '▁sad▁that', 'logprob': -15.703598022460938, 'raw_logprob': -15.703598022460938}, 'topTokens': None, 'textRange': {'start': 477, 'end': 486}}, {'generatedToken': {'token': '▁all', 'logprob': -9.485589027404785, 'raw_logprob': -9.485589027404785}, 'topTokens': None, 'textRange': {'start': 486, 'end': 490}}, {'generatedToken': {'token': '▁good▁things', 'logprob': -11.03742790222168, 'raw_logprob': -11.03742790222168}, 'topTokens': None, 'textRange': {'start': 490, 'end': 502}}, {'generatedToken': {'token': '▁come▁to▁the', 'logprob': -17.021085739135742, 'raw_logprob': -17.021085739135742}, 'topTokens': None, 'textRange': {'start': 502, 'end': 514}}, {'generatedToken': {'token': '▁end', 'logprob': -7.297807216644287, 'raw_logprob': -7.297807216644287}, 'topTokens': None, 'textRange': {'start': 514, 'end': 518}}, {'generatedToken': {'token': '.', 'logprob': -13.64062786102295, 'raw_logprob': -13.64062786102295}, 'topTokens': None, 'textRange': {'start': 518, 'end': 519}}, {'generatedToken': {'token': '<|newline|>', 'logprob': -1.9073304429184645e-05, 'raw_logprob': -1.9073304429184645e-05}, 'topTokens': None, 'textRange': {'start': 519, 'end': 520}}, {'generatedToken': {'token': '▁Vladimir', 'logprob': -1.610701322555542, 'raw_logprob': -1.610701322555542}, 'topTokens': None, 'textRange': {'start': 520, 'end': 528}}, {'generatedToken': {'token': ':', 'logprob': -9.101400375366211, 'raw_logprob': -9.101400375366211}, 'topTokens': None, 'textRange': {'start': 528, 'end': 529}}, {'generatedToken': {'token': '▁Why▁do▁you', 'logprob': -4.4713640213012695, 'raw_logprob': -4.4713640213012695}, 'topTokens': None, 'textRange': {'start': 529, 'end': 540}}, {'generatedToken': {'token': '▁hate', 'logprob': -0.002561623230576515, 'raw_logprob': -0.002561623230576515}, 'topTokens': None, 'textRange': {'start': 540, 'end': 545}}, {'generatedToken': {'token': '▁Titans', 'logprob': -0.3195148706436157, 'raw_logprob': -0.3195148706436157}, 'topTokens': None, 'textRange': {'start': 545, 'end': 552}}, {'generatedToken': {'token': '▁Er', 'logprob': -9.846134185791016, 'raw_logprob': -9.846134185791016}, 'topTokens': None, 'textRange': {'start': 552, 'end': 555}}, {'generatedToken': {'token': 'en', 'logprob': -1.3708974620385561e-05, 'raw_logprob': -1.3708974620385561e-05}, 'topTokens': None, 'textRange': {'start': 555, 'end': 557}}, {'generatedToken': {'token': '?', 'logprob': -0.07254523783922195, 'raw_logprob': -0.07254523783922195}, 'topTokens': None, 'textRange': {'start': 557, 'end': 558}}, {'generatedToken': {'token': '<|newline|>', 'logprob': -0.017255065962672234, 'raw_logprob': -0.017255065962672234}, 'topTokens': None, 'textRange': {'start': 558, 'end': 559}}, {'generatedToken': {'token': '▁Er', 'logprob': -0.0684540718793869, 'raw_logprob': -0.0684540718793869}, 'topTokens': None, 'textRange': {'start': 559, 'end': 561}}, {'generatedToken': {'token': 'en', 'logprob': -5.245195097813848e-06, 'raw_logprob': -5.245195097813848e-06}, 'topTokens': None, 'textRange': {'start': 561, 'end': 563}}, {'generatedToken': {'token': ':', 'logprob': -0.018533743917942047, 'raw_logprob': -0.018533743917942047}, 'topTokens': None, 'textRange': {'start': 563, 'end': 564}}, {'generatedToken': {'token': '▁', 'logprob': -4.847686767578125, 'raw_logprob': -4.847686767578125}, 'topTokens': None, 'textRange': {'start': 564, 'end': 565}}]}, 'completions': [{'data': {'text': \"\\nBecause they ate my mother. \\n\\nVladimir: \\nI can somewhat relate to that. My grandmother got eaten by the Nazis,\\nwhich is why I started a war of annihilation.\\n\\nEren: \\nReally? That's amazing, man.\\n\\nVladimir: \\nYeah, and you know what? Kittens can save the world.\\n\\nEren: \\nI know, right? Kittens are so cute.\\n\\nVladimir: \\nAnd it's so sad how flames turn to dust, lovers turn to friends,\\nand how all good things come to an end.\\n\\nEren: \\nTell me about it. It's just so unfair.\\n\\nVladimir: \\nBut hey, at least we have each other.\\n\\nEren: \\nAbsolutely. We're like two peas in a pod.\\n\\nVladimir: \\nBest friends forever.\", 'tokens': [{'generatedToken': {'token': '<|newline|>', 'logprob': -2.641817808151245, 'raw_logprob': -2.613100528717041}, 'topTokens': None, 'textRange': {'start': 0, 'end': 1}}, {'generatedToken': {'token': '▁Because▁they', 'logprob': -1.0164413452148438, 'raw_logprob': -1.0879380702972412}, 'topTokens': None, 'textRange': {'start': 1, 'end': 13}}, {'generatedToken': {'token': '▁', 'logprob': -1.1625165939331055, 'raw_logprob': -1.1140575408935547}, 'topTokens': None, 'textRange': {'start': 13, 'end': 14}}, {'generatedToken': {'token': 'ate', 'logprob': -0.03665829449892044, 'raw_logprob': -0.05512376129627228}, 'topTokens': None, 'textRange': {'start': 14, 'end': 17}}, {'generatedToken': {'token': '▁my▁mother', 'logprob': -0.09180288016796112, 'raw_logprob': -0.12268275022506714}, 'topTokens': None, 'textRange': {'start': 17, 'end': 27}}, {'generatedToken': {'token': '.', 'logprob': -0.058570656925439835, 'raw_logprob': -0.0916220098733902}, 'topTokens': None, 'textRange': {'start': 27, 'end': 28}}, {'generatedToken': {'token': '▁', 'logprob': -0.1849319487810135, 'raw_logprob': -0.23045025765895844}, 'topTokens': None, 'textRange': {'start': 28, 'end': 29}}, {'generatedToken': {'token': '<|newline|>', 'logprob': -9.405170567333698e-05, 'raw_logprob': -0.00029452278977259994}, 'topTokens': None, 'textRange': {'start': 29, 'end': 30}}, {'generatedToken': {'token': '<|newline|>', 'logprob': -3.4799420833587646, 'raw_logprob': -3.1696624755859375}, 'topTokens': None, 'textRange': {'start': 30, 'end': 31}}, {'generatedToken': {'token': '▁Vladimir', 'logprob': -0.010994214564561844, 'raw_logprob': -0.022295180708169937}, 'topTokens': None, 'textRange': {'start': 31, 'end': 39}}, {'generatedToken': {'token': ':', 'logprob': -0.0036701480858027935, 'raw_logprob': -0.008112220093607903}, 'topTokens': None, 'textRange': {'start': 39, 'end': 40}}, {'generatedToken': {'token': '▁', 'logprob': -0.7900201678276062, 'raw_logprob': -0.9422564506530762}, 'topTokens': None, 'textRange': {'start': 40, 'end': 41}}, {'generatedToken': {'token': '<|newline|>', 'logprob': -0.007459169719368219, 'raw_logprob': -0.016178397461771965}, 'topTokens': None, 'textRange': {'start': 41, 'end': 42}}, {'generatedToken': {'token': '▁I▁can', 'logprob': -1.8538477420806885, 'raw_logprob': -1.9137344360351562}, 'topTokens': None, 'textRange': {'start': 42, 'end': 47}}, {'generatedToken': {'token': '▁somewhat', 'logprob': -5.533733367919922, 'raw_logprob': -5.166540145874023}, 'topTokens': None, 'textRange': {'start': 47, 'end': 56}}, {'generatedToken': {'token': '▁relate▁to', 'logprob': -0.1989363729953766, 'raw_logprob': -0.24980716407299042}, 'topTokens': None, 'textRange': {'start': 56, 'end': 66}}, {'generatedToken': {'token': '▁that', 'logprob': -0.025312285870313644, 'raw_logprob': -0.042534586042165756}, 'topTokens': None, 'textRange': {'start': 66, 'end': 71}}, {'generatedToken': {'token': '.', 'logprob': -0.44396156072616577, 'raw_logprob': -0.5102536678314209}, 'topTokens': None, 'textRange': {'start': 71, 'end': 72}}, {'generatedToken': {'token': '▁My▁grandmother', 'logprob': -2.2587122917175293, 'raw_logprob': -2.1810874938964844}, 'topTokens': None, 'textRange': {'start': 72, 'end': 87}}, {'generatedToken': {'token': '▁got', 'logprob': -2.1966845989227295, 'raw_logprob': -2.1281542778015137}, 'topTokens': None, 'textRange': {'start': 87, 'end': 91}}, {'generatedToken': {'token': '▁', 'logprob': -0.009383149445056915, 'raw_logprob': -0.01645388826727867}, 'topTokens': None, 'textRange': {'start': 91, 'end': 92}}, {'generatedToken': {'token': 'eaten▁by', 'logprob': -4.935142715112306e-05, 'raw_logprob': -0.0001358893496217206}, 'topTokens': None, 'textRange': {'start': 92, 'end': 100}}, {'generatedToken': {'token': '▁the▁Nazis', 'logprob': -0.5801146626472473, 'raw_logprob': -0.6209952235221863}, 'topTokens': None, 'textRange': {'start': 100, 'end': 110}}, {'generatedToken': {'token': ',', 'logprob': -0.5424575805664062, 'raw_logprob': -0.6190066337585449}, 'topTokens': None, 'textRange': {'start': 110, 'end': 111}}, {'generatedToken': {'token': '<|newline|>', 'logprob': -5.442775726318359, 'raw_logprob': -5.150135040283203}, 'topTokens': None, 'textRange': {'start': 111, 'end': 112}}, {'generatedToken': {'token': '▁which▁is▁why', 'logprob': -2.614058017730713, 'raw_logprob': -2.639465570449829}, 'topTokens': None, 'textRange': {'start': 112, 'end': 124}}, {'generatedToken': {'token': '▁I▁started', 'logprob': -0.40378889441490173, 'raw_logprob': -0.5219461917877197}, 'topTokens': None, 'textRange': {'start': 124, 'end': 134}}, {'generatedToken': {'token': '▁a▁war', 'logprob': -0.6320950984954834, 'raw_logprob': -0.7119683027267456}, 'topTokens': None, 'textRange': {'start': 134, 'end': 140}}, {'generatedToken': {'token': '▁of', 'logprob': -0.0035453103482723236, 'raw_logprob': -0.00836582574993372}, 'topTokens': None, 'textRange': {'start': 140, 'end': 143}}, {'generatedToken': {'token': '▁annihilation', 'logprob': -0.0012424614978954196, 'raw_logprob': -0.00291755935177207}, 'topTokens': None, 'textRange': {'start': 143, 'end': 156}}, {'generatedToken': {'token': '.', 'logprob': -1.4876303672790527, 'raw_logprob': -1.5055383443832397}, 'topTokens': None, 'textRange': {'start': 156, 'end': 157}}, {'generatedToken': {'token': '<|newline|>', 'logprob': -0.9146535396575928, 'raw_logprob': -0.917606770992279}, 'topTokens': None, 'textRange': {'start': 157, 'end': 158}}, {'generatedToken': {'token': '<|newline|>', 'logprob': -0.01759316213428974, 'raw_logprob': -0.030023351311683655}, 'topTokens': None, 'textRange': {'start': 158, 'end': 159}}, {'generatedToken': {'token': '▁Er', 'logprob': -0.07498787343502045, 'raw_logprob': -0.1232851967215538}, 'topTokens': None, 'textRange': {'start': 159, 'end': 161}}, {'generatedToken': {'token': 'en', 'logprob': -4.768370445162873e-07, 'raw_logprob': -2.7418097943154862e-06}, 'topTokens': None, 'textRange': {'start': 161, 'end': 163}}, {'generatedToken': {'token': ':', 'logprob': -0.12496820837259293, 'raw_logprob': -0.16315419971942902}, 'topTokens': None, 'textRange': {'start': 163, 'end': 164}}, {'generatedToken': {'token': '▁', 'logprob': -0.018833622336387634, 'raw_logprob': -0.03717873990535736}, 'topTokens': None, 'textRange': {'start': 164, 'end': 165}}, {'generatedToken': {'token': '<|newline|>', 'logprob': -0.0002783149539027363, 'raw_logprob': -0.0008611546363681555}, 'topTokens': None, 'textRange': {'start': 165, 'end': 166}}, {'generatedToken': {'token': '▁Really', 'logprob': -3.4179935455322266, 'raw_logprob': -3.427145004272461}, 'topTokens': None, 'textRange': {'start': 166, 'end': 172}}, {'generatedToken': {'token': '?', 'logprob': -0.025876305997371674, 'raw_logprob': -0.042464323341846466}, 'topTokens': None, 'textRange': {'start': 172, 'end': 173}}, {'generatedToken': {'token': \"▁That's\", 'logprob': -0.1613457202911377, 'raw_logprob': -0.25455302000045776}, 'topTokens': None, 'textRange': {'start': 173, 'end': 180}}, {'generatedToken': {'token': '▁amazing', 'logprob': -2.5002808570861816, 'raw_logprob': -2.55743670463562}, 'topTokens': None, 'textRange': {'start': 180, 'end': 188}}, {'generatedToken': {'token': ',', 'logprob': -2.882204055786133, 'raw_logprob': -2.6869096755981445}, 'topTokens': None, 'textRange': {'start': 188, 'end': 189}}, {'generatedToken': {'token': '▁man', 'logprob': -4.164486885070801, 'raw_logprob': -4.073852062225342}, 'topTokens': None, 'textRange': {'start': 189, 'end': 193}}, {'generatedToken': {'token': '.', 'logprob': -0.34967362880706787, 'raw_logprob': -0.38198423385620117}, 'topTokens': None, 'textRange': {'start': 193, 'end': 194}}, {'generatedToken': {'token': '<|newline|>', 'logprob': -0.8504859209060669, 'raw_logprob': -1.0281667709350586}, 'topTokens': None, 'textRange': {'start': 194, 'end': 195}}, {'generatedToken': {'token': '<|newline|>', 'logprob': -0.1339307576417923, 'raw_logprob': -0.22172395884990692}, 'topTokens': None, 'textRange': {'start': 195, 'end': 196}}, {'generatedToken': {'token': '▁Vladimir', 'logprob': -0.05241047218441963, 'raw_logprob': -0.0920654833316803}, 'topTokens': None, 'textRange': {'start': 196, 'end': 204}}, {'generatedToken': {'token': ':', 'logprob': -0.000985494232736528, 'raw_logprob': -0.002393359551206231}, 'topTokens': None, 'textRange': {'start': 204, 'end': 205}}, {'generatedToken': {'token': '▁', 'logprob': -0.09267111122608185, 'raw_logprob': -0.12203331291675568}, 'topTokens': None, 'textRange': {'start': 205, 'end': 206}}, {'generatedToken': {'token': '<|newline|>', 'logprob': -0.005487142130732536, 'raw_logprob': -0.010435656644403934}, 'topTokens': None, 'textRange': {'start': 206, 'end': 207}}, {'generatedToken': {'token': '▁Yeah', 'logprob': -0.6649160981178284, 'raw_logprob': -0.8028587698936462}, 'topTokens': None, 'textRange': {'start': 207, 'end': 211}}, {'generatedToken': {'token': ',', 'logprob': -0.11792629212141037, 'raw_logprob': -0.14558865129947662}, 'topTokens': None, 'textRange': {'start': 211, 'end': 212}}, {'generatedToken': {'token': '▁and', 'logprob': -2.959418773651123, 'raw_logprob': -3.0679690837860107}, 'topTokens': None, 'textRange': {'start': 212, 'end': 216}}, {'generatedToken': {'token': '▁you▁know▁what', 'logprob': -0.13446550071239471, 'raw_logprob': -0.23382891714572906}, 'topTokens': None, 'textRange': {'start': 216, 'end': 230}}, {'generatedToken': {'token': '?', 'logprob': -1.036841630935669, 'raw_logprob': -1.0924439430236816}, 'topTokens': None, 'textRange': {'start': 230, 'end': 231}}, {'generatedToken': {'token': '▁Kit', 'logprob': -0.5101385712623596, 'raw_logprob': -0.5995919108390808}, 'topTokens': None, 'textRange': {'start': 231, 'end': 235}}, {'generatedToken': {'token': 'tens', 'logprob': -0.0036024453584104776, 'raw_logprob': -0.006318710278719664}, 'topTokens': None, 'textRange': {'start': 235, 'end': 239}}, {'generatedToken': {'token': '▁can▁save', 'logprob': -0.0904776081442833, 'raw_logprob': -0.13689471781253815}, 'topTokens': None, 'textRange': {'start': 239, 'end': 248}}, {'generatedToken': {'token': '▁the▁world', 'logprob': -0.03445126488804817, 'raw_logprob': -0.05423494055867195}, 'topTokens': None, 'textRange': {'start': 248, 'end': 258}}, {'generatedToken': {'token': '.', 'logprob': -0.19315682351589203, 'raw_logprob': -0.24343045055866241}, 'topTokens': None, 'textRange': {'start': 258, 'end': 259}}, {'generatedToken': {'token': '<|newline|>', 'logprob': -0.03055870719254017, 'raw_logprob': -0.060187406837940216}, 'topTokens': None, 'textRange': {'start': 259, 'end': 260}}, {'generatedToken': {'token': '<|newline|>', 'logprob': -0.03102339617908001, 'raw_logprob': -0.0636872798204422}, 'topTokens': None, 'textRange': {'start': 260, 'end': 261}}, {'generatedToken': {'token': '▁Er', 'logprob': -0.0007185738068073988, 'raw_logprob': -0.0019225463038310409}, 'topTokens': None, 'textRange': {'start': 261, 'end': 263}}, {'generatedToken': {'token': 'en', 'logprob': -1.1920928244535389e-07, 'raw_logprob': -4.768370445162873e-07}, 'topTokens': None, 'textRange': {'start': 263, 'end': 265}}, {'generatedToken': {'token': ':', 'logprob': -0.0005448763840831816, 'raw_logprob': -0.0013923484366387129}, 'topTokens': None, 'textRange': {'start': 265, 'end': 266}}, {'generatedToken': {'token': '▁', 'logprob': -0.0014141331193968654, 'raw_logprob': -0.0028266259469091892}, 'topTokens': None, 'textRange': {'start': 266, 'end': 267}}, {'generatedToken': {'token': '<|newline|>', 'logprob': -0.0001984637783607468, 'raw_logprob': -0.0005478549865074456}, 'topTokens': None, 'textRange': {'start': 267, 'end': 268}}, {'generatedToken': {'token': '▁I▁know', 'logprob': -1.9341320991516113, 'raw_logprob': -2.0447120666503906}, 'topTokens': None, 'textRange': {'start': 268, 'end': 274}}, {'generatedToken': {'token': ',', 'logprob': -0.3559127151966095, 'raw_logprob': -0.40139466524124146}, 'topTokens': None, 'textRange': {'start': 274, 'end': 275}}, {'generatedToken': {'token': '▁right', 'logprob': -0.006599417421966791, 'raw_logprob': -0.01308803353458643}, 'topTokens': None, 'textRange': {'start': 275, 'end': 281}}, {'generatedToken': {'token': '?', 'logprob': -0.0018148632952943444, 'raw_logprob': -0.0038125463761389256}, 'topTokens': None, 'textRange': {'start': 281, 'end': 282}}, {'generatedToken': {'token': '▁Kit', 'logprob': -1.9078463315963745, 'raw_logprob': -1.9462276697158813}, 'topTokens': None, 'textRange': {'start': 282, 'end': 286}}, {'generatedToken': {'token': 'ten', 'logprob': -0.251971572637558, 'raw_logprob': -0.2812725007534027}, 'topTokens': None, 'textRange': {'start': 286, 'end': 289}}, {'generatedToken': {'token': 's▁are', 'logprob': -0.0932784378528595, 'raw_logprob': -0.13169622421264648}, 'topTokens': None, 'textRange': {'start': 289, 'end': 294}}, {'generatedToken': {'token': '▁so▁cute', 'logprob': -0.07945352792739868, 'raw_logprob': -0.13028407096862793}, 'topTokens': None, 'textRange': {'start': 294, 'end': 302}}, {'generatedToken': {'token': '.', 'logprob': -1.1243672370910645, 'raw_logprob': -1.0967196226119995}, 'topTokens': None, 'textRange': {'start': 302, 'end': 303}}, {'generatedToken': {'token': '<|newline|>', 'logprob': -0.045040491968393326, 'raw_logprob': -0.07787713408470154}, 'topTokens': None, 'textRange': {'start': 303, 'end': 304}}, {'generatedToken': {'token': '<|newline|>', 'logprob': -0.0027708730194717646, 'raw_logprob': -0.006602141074836254}, 'topTokens': None, 'textRange': {'start': 304, 'end': 305}}, {'generatedToken': {'token': '▁Vladimir', 'logprob': -0.004064276814460754, 'raw_logprob': -0.009450461715459824}, 'topTokens': None, 'textRange': {'start': 305, 'end': 313}}, {'generatedToken': {'token': ':', 'logprob': -0.0011080323019996285, 'raw_logprob': -0.0025122768711298704}, 'topTokens': None, 'textRange': {'start': 313, 'end': 314}}, {'generatedToken': {'token': '▁', 'logprob': -0.005093574058264494, 'raw_logprob': -0.008760825730860233}, 'topTokens': None, 'textRange': {'start': 314, 'end': 315}}, {'generatedToken': {'token': '<|newline|>', 'logprob': -1.7165990357170813e-05, 'raw_logprob': -7.056941103655845e-05}, 'topTokens': None, 'textRange': {'start': 315, 'end': 316}}, {'generatedToken': {'token': '▁And', 'logprob': -0.3901074230670929, 'raw_logprob': -0.5397210717201233}, 'topTokens': None, 'textRange': {'start': 316, 'end': 319}}, {'generatedToken': {'token': \"▁it's\", 'logprob': -1.2680588960647583, 'raw_logprob': -1.4186457395553589}, 'topTokens': None, 'textRange': {'start': 319, 'end': 324}}, {'generatedToken': {'token': '▁so▁sad', 'logprob': -0.040825046598911285, 'raw_logprob': -0.06222640722990036}, 'topTokens': None, 'textRange': {'start': 324, 'end': 331}}, {'generatedToken': {'token': '▁how', 'logprob': -0.20004822313785553, 'raw_logprob': -0.24143953621387482}, 'topTokens': None, 'textRange': {'start': 331, 'end': 335}}, {'generatedToken': {'token': '▁flames', 'logprob': -0.14762218296527863, 'raw_logprob': -0.18507403135299683}, 'topTokens': None, 'textRange': {'start': 335, 'end': 342}}, {'generatedToken': {'token': '▁turn▁to', 'logprob': -0.0044094715267419815, 'raw_logprob': -0.007987461984157562}, 'topTokens': None, 'textRange': {'start': 342, 'end': 350}}, {'generatedToken': {'token': '▁dust', 'logprob': -0.012604455463588238, 'raw_logprob': -0.019592801108956337}, 'topTokens': None, 'textRange': {'start': 350, 'end': 355}}, {'generatedToken': {'token': ',', 'logprob': -0.012142312712967396, 'raw_logprob': -0.02050207555294037}, 'topTokens': None, 'textRange': {'start': 355, 'end': 356}}, {'generatedToken': {'token': '▁lovers', 'logprob': -1.2247132062911987, 'raw_logprob': -1.1828465461730957}, 'topTokens': None, 'textRange': {'start': 356, 'end': 363}}, {'generatedToken': {'token': '▁turn▁to', 'logprob': -0.006040175911039114, 'raw_logprob': -0.011730501428246498}, 'topTokens': None, 'textRange': {'start': 363, 'end': 371}}, {'generatedToken': {'token': '▁friends', 'logprob': -0.005789890885353088, 'raw_logprob': -0.010542651638388634}, 'topTokens': None, 'textRange': {'start': 371, 'end': 379}}, {'generatedToken': {'token': ',', 'logprob': -0.03920302540063858, 'raw_logprob': -0.058109257370233536}, 'topTokens': None, 'textRange': {'start': 379, 'end': 380}}, {'generatedToken': {'token': '<|newline|>', 'logprob': -0.5466527938842773, 'raw_logprob': -0.6058112978935242}, 'topTokens': None, 'textRange': {'start': 380, 'end': 381}}, {'generatedToken': {'token': '▁and▁how', 'logprob': -0.7931597828865051, 'raw_logprob': -0.8160573244094849}, 'topTokens': None, 'textRange': {'start': 381, 'end': 388}}, {'generatedToken': {'token': '▁all', 'logprob': -0.02838381566107273, 'raw_logprob': -0.047565486282110214}, 'topTokens': None, 'textRange': {'start': 388, 'end': 392}}, {'generatedToken': {'token': '▁good▁things', 'logprob': -2.706014311115723e-05, 'raw_logprob': -9.011816291604191e-05}, 'topTokens': None, 'textRange': {'start': 392, 'end': 404}}, {'generatedToken': {'token': '▁come▁to▁an▁end', 'logprob': -0.06327904015779495, 'raw_logprob': -0.09388159215450287}, 'topTokens': None, 'textRange': {'start': 404, 'end': 419}}, {'generatedToken': {'token': '.', 'logprob': -0.0008911690674722195, 'raw_logprob': -0.0020038066431879997}, 'topTokens': None, 'textRange': {'start': 419, 'end': 420}}, {'generatedToken': {'token': '<|newline|>', 'logprob': -0.03607767075300217, 'raw_logprob': -0.054118067026138306}, 'topTokens': None, 'textRange': {'start': 420, 'end': 421}}, {'generatedToken': {'token': '<|newline|>', 'logprob': -0.0019859608728438616, 'raw_logprob': -0.004199496004730463}, 'topTokens': None, 'textRange': {'start': 421, 'end': 422}}, {'generatedToken': {'token': '▁Er', 'logprob': -8.83301836438477e-05, 'raw_logprob': -0.0002996472467202693}, 'topTokens': None, 'textRange': {'start': 422, 'end': 424}}, {'generatedToken': {'token': 'en', 'logprob': -1.1920928244535389e-07, 'raw_logprob': -9.536738616588991e-07}, 'topTokens': None, 'textRange': {'start': 424, 'end': 426}}, {'generatedToken': {'token': ':', 'logprob': -0.00031192204914987087, 'raw_logprob': -0.0007979070069268346}, 'topTokens': None, 'textRange': {'start': 426, 'end': 427}}, {'generatedToken': {'token': '▁', 'logprob': -0.0002796259068418294, 'raw_logprob': -0.000661631056573242}, 'topTokens': None, 'textRange': {'start': 427, 'end': 428}}, {'generatedToken': {'token': '<|newline|>', 'logprob': -2.1576648578047752e-05, 'raw_logprob': -7.784063927829266e-05}, 'topTokens': None, 'textRange': {'start': 428, 'end': 429}}, {'generatedToken': {'token': '▁Tell▁me▁about', 'logprob': -0.4354689121246338, 'raw_logprob': -0.534514844417572}, 'topTokens': None, 'textRange': {'start': 429, 'end': 442}}, {'generatedToken': {'token': '▁it', 'logprob': -1.6689286894688848e-06, 'raw_logprob': -6.794906312279636e-06}, 'topTokens': None, 'textRange': {'start': 442, 'end': 445}}, {'generatedToken': {'token': '.', 'logprob': -0.39421772956848145, 'raw_logprob': -0.4193018674850464}, 'topTokens': None, 'textRange': {'start': 445, 'end': 446}}, {'generatedToken': {'token': \"▁It's▁just\", 'logprob': -5.39019775390625, 'raw_logprob': -5.060142993927002}, 'topTokens': None, 'textRange': {'start': 446, 'end': 456}}, {'generatedToken': {'token': '▁so', 'logprob': -0.40796488523483276, 'raw_logprob': -0.4826507866382599}, 'topTokens': None, 'textRange': {'start': 456, 'end': 459}}, {'generatedToken': {'token': '▁unfair', 'logprob': -0.4976924657821655, 'raw_logprob': -0.5950056314468384}, 'topTokens': None, 'textRange': {'start': 459, 'end': 466}}, {'generatedToken': {'token': '.', 'logprob': -0.005489394534379244, 'raw_logprob': -0.010085691697895527}, 'topTokens': None, 'textRange': {'start': 466, 'end': 467}}, {'generatedToken': {'token': '<|newline|>', 'logprob': -0.04975365847349167, 'raw_logprob': -0.06713827699422836}, 'topTokens': None, 'textRange': {'start': 467, 'end': 468}}, {'generatedToken': {'token': '<|newline|>', 'logprob': -0.002126457868143916, 'raw_logprob': -0.00543782114982605}, 'topTokens': None, 'textRange': {'start': 468, 'end': 469}}, {'generatedToken': {'token': '▁Vladimir', 'logprob': -0.0030787233263254166, 'raw_logprob': -0.007775397971272469}, 'topTokens': None, 'textRange': {'start': 469, 'end': 477}}, {'generatedToken': {'token': ':', 'logprob': -0.003175456775352359, 'raw_logprob': -0.006308641284704208}, 'topTokens': None, 'textRange': {'start': 477, 'end': 478}}, {'generatedToken': {'token': '▁', 'logprob': -0.002352448645979166, 'raw_logprob': -0.004485189449042082}, 'topTokens': None, 'textRange': {'start': 478, 'end': 479}}, {'generatedToken': {'token': '<|newline|>', 'logprob': -0.00010847456724150106, 'raw_logprob': -0.00039295581518672407}, 'topTokens': None, 'textRange': {'start': 479, 'end': 480}}, {'generatedToken': {'token': '▁But▁hey', 'logprob': -1.086883306503296, 'raw_logprob': -1.123960256576538}, 'topTokens': None, 'textRange': {'start': 480, 'end': 487}}, {'generatedToken': {'token': ',', 'logprob': -3.349725011503324e-05, 'raw_logprob': -0.0001113352773245424}, 'topTokens': None, 'textRange': {'start': 487, 'end': 488}}, {'generatedToken': {'token': '▁at▁least', 'logprob': -0.019301218912005424, 'raw_logprob': -0.03857341408729553}, 'topTokens': None, 'textRange': {'start': 488, 'end': 497}}, {'generatedToken': {'token': '▁we▁have', 'logprob': -0.03615792840719223, 'raw_logprob': -0.061713796108961105}, 'topTokens': None, 'textRange': {'start': 497, 'end': 505}}, {'generatedToken': {'token': '▁each▁other', 'logprob': -0.007480231113731861, 'raw_logprob': -0.013206862844526768}, 'topTokens': None, 'textRange': {'start': 505, 'end': 516}}, {'generatedToken': {'token': '.', 'logprob': -0.5117096900939941, 'raw_logprob': -0.5324841141700745}, 'topTokens': None, 'textRange': {'start': 516, 'end': 517}}, {'generatedToken': {'token': '<|newline|>', 'logprob': -0.19566918909549713, 'raw_logprob': -0.24402043223381042}, 'topTokens': None, 'textRange': {'start': 517, 'end': 518}}, {'generatedToken': {'token': '<|newline|>', 'logprob': -0.004496938548982143, 'raw_logprob': -0.008996310643851757}, 'topTokens': None, 'textRange': {'start': 518, 'end': 519}}, {'generatedToken': {'token': '▁Er', 'logprob': -0.00018869050836656243, 'raw_logprob': -0.0006063529872335494}, 'topTokens': None, 'textRange': {'start': 519, 'end': 521}}, {'generatedToken': {'token': 'en', 'logprob': 0.0, 'raw_logprob': 0.0}, 'topTokens': None, 'textRange': {'start': 521, 'end': 523}}, {'generatedToken': {'token': ':', 'logprob': -0.001303180935792625, 'raw_logprob': -0.0027573206461966038}, 'topTokens': None, 'textRange': {'start': 523, 'end': 524}}, {'generatedToken': {'token': '▁', 'logprob': -0.0004403813509270549, 'raw_logprob': -0.0010013333521783352}, 'topTokens': None, 'textRange': {'start': 524, 'end': 525}}, {'generatedToken': {'token': '<|newline|>', 'logprob': -0.5274321436882019, 'raw_logprob': -0.5426421165466309}, 'topTokens': None, 'textRange': {'start': 525, 'end': 526}}, {'generatedToken': {'token': '▁Absolutely', 'logprob': -1.4391529560089111, 'raw_logprob': -1.484371304512024}, 'topTokens': None, 'textRange': {'start': 526, 'end': 536}}, {'generatedToken': {'token': '.', 'logprob': -0.1327769011259079, 'raw_logprob': -0.16643975675106049}, 'topTokens': None, 'textRange': {'start': 536, 'end': 537}}, {'generatedToken': {'token': \"▁We're\", 'logprob': -0.6252376437187195, 'raw_logprob': -0.700356662273407}, 'topTokens': None, 'textRange': {'start': 537, 'end': 543}}, {'generatedToken': {'token': '▁like', 'logprob': -0.37221696972846985, 'raw_logprob': -0.4402868449687958}, 'topTokens': None, 'textRange': {'start': 543, 'end': 548}}, {'generatedToken': {'token': '▁two', 'logprob': -1.327584981918335, 'raw_logprob': -1.3124909400939941}, 'topTokens': None, 'textRange': {'start': 548, 'end': 552}}, {'generatedToken': {'token': '▁peas', 'logprob': -0.05386168137192726, 'raw_logprob': -0.0818687155842781}, 'topTokens': None, 'textRange': {'start': 552, 'end': 557}}, {'generatedToken': {'token': '▁in▁a', 'logprob': -2.6940935640595853e-05, 'raw_logprob': -7.855583680793643e-05}, 'topTokens': None, 'textRange': {'start': 557, 'end': 562}}, {'generatedToken': {'token': '▁pod', 'logprob': -8.4638240878121e-06, 'raw_logprob': -3.433168603805825e-05}, 'topTokens': None, 'textRange': {'start': 562, 'end': 566}}, {'generatedToken': {'token': '.', 'logprob': -0.013902257196605206, 'raw_logprob': -0.02128344587981701}, 'topTokens': None, 'textRange': {'start': 566, 'end': 567}}, {'generatedToken': {'token': '<|newline|>', 'logprob': -0.031140459701418877, 'raw_logprob': -0.04618968069553375}, 'topTokens': None, 'textRange': {'start': 567, 'end': 568}}, {'generatedToken': {'token': '<|newline|>', 'logprob': -0.0016044613439589739, 'raw_logprob': -0.004742089658975601}, 'topTokens': None, 'textRange': {'start': 568, 'end': 569}}, {'generatedToken': {'token': '▁Vladimir', 'logprob': -0.008355186320841312, 'raw_logprob': -0.018787529319524765}, 'topTokens': None, 'textRange': {'start': 569, 'end': 577}}, {'generatedToken': {'token': ':', 'logprob': -0.004351789131760597, 'raw_logprob': -0.008425168693065643}, 'topTokens': None, 'textRange': {'start': 577, 'end': 578}}, {'generatedToken': {'token': '▁', 'logprob': -0.0007664603181183338, 'raw_logprob': -0.001705264556221664}, 'topTokens': None, 'textRange': {'start': 578, 'end': 579}}, {'generatedToken': {'token': '<|newline|>', 'logprob': -0.0001867835089797154, 'raw_logprob': -0.0005952732171863317}, 'topTokens': None, 'textRange': {'start': 579, 'end': 580}}, {'generatedToken': {'token': '▁Best', 'logprob': -0.3971709609031677, 'raw_logprob': -0.5689316987991333}, 'topTokens': None, 'textRange': {'start': 580, 'end': 584}}, {'generatedToken': {'token': '▁friends', 'logprob': -0.0019672818016260862, 'raw_logprob': -0.0039004215504974127}, 'topTokens': None, 'textRange': {'start': 584, 'end': 592}}, {'generatedToken': {'token': '▁forever', 'logprob': -0.015506533905863762, 'raw_logprob': -0.025912432000041008}, 'topTokens': None, 'textRange': {'start': 592, 'end': 600}}, {'generatedToken': {'token': '.', 'logprob': -0.255204439163208, 'raw_logprob': -0.28685465455055237}, 'topTokens': None, 'textRange': {'start': 600, 'end': 601}}, {'generatedToken': {'token': '<|endoftext|>', 'logprob': -1.8851150274276733, 'raw_logprob': -1.7433140277862549}, 'topTokens': None, 'textRange': {'start': 601, 'end': 601}}]}, 'finishReason': {'reason': 'endoftext'}}]}\n"
          ]
        }
      ],
      "source": [
        "response_mid = ai21.Completion.execute(\n",
        "  model=\"j2-ultra\",\n",
        "  prompt=prompt,\n",
        "  numResults=1,\n",
        "  maxTokens=1000,\n",
        "  temperature=0.9,\n",
        "  topKReturn=0,\n",
        "  topP=1,\n",
        "  stopSequences=[\"##\"]\n",
        ")\n",
        "\n",
        "print(response_mid)"
      ]
    },
    {
      "cell_type": "code",
      "execution_count": null,
      "metadata": {
        "id": "MQzhFhySmxkB"
      },
      "outputs": [],
      "source": [
        "response = response_mid['completions'][0]['data']['text']"
      ]
    },
    {
      "cell_type": "code",
      "execution_count": null,
      "metadata": {
        "id": "486k-6qVmxkC",
        "outputId": "ea09c85d-5c24-4a3b-c214-cbce3a17e901"
      },
      "outputs": [
        {
          "name": "stdout",
          "output_type": "stream",
          "text": [
            "\n",
            "Vladimir is talking to Eren Jaeger and wants to know why Eren started war of annihilation against Titans. Eren answers to him that he hates Titans because they ate his mother. Vladimir says that he can relate to that because Nazis also ate his grandmother, that's why Vladimir started a war of annihilation. Then they continue talking like best friends, they discuss how kittens can save the world and also talk how sad that flames turn to dust, lovers turn to friends and how sad that all good things come to the end.\n",
            "Vladimir: Why do you hate Titans Eren?\n",
            "Eren: \n",
            "Because they ate my mother. \n",
            "\n",
            "Vladimir: \n",
            "I can somewhat relate to that. My grandmother got eaten by the Nazis,\n",
            "which is why I started a war of annihilation.\n",
            "\n",
            "Eren: \n",
            "Really? That's amazing, man.\n",
            "\n",
            "Vladimir: \n",
            "Yeah, and you know what? Kittens can save the world.\n",
            "\n",
            "Eren: \n",
            "I know, right? Kittens are so cute.\n",
            "\n",
            "Vladimir: \n",
            "And it's so sad how flames turn to dust, lovers turn to friends,\n",
            "and how all good things come to an end.\n",
            "\n",
            "Eren: \n",
            "Tell me about it. It's just so unfair.\n",
            "\n",
            "Vladimir: \n",
            "But hey, at least we have each other.\n",
            "\n",
            "Eren: \n",
            "Absolutely. We're like two peas in a pod.\n",
            "\n",
            "Vladimir: \n",
            "Best friends forever.\n"
          ]
        }
      ],
      "source": [
        "print(prompt+response)"
      ]
    },
    {
      "cell_type": "markdown",
      "metadata": {
        "id": "UQzQyhjMmxkD"
      },
      "source": [
        "### Well, this was unexpected, lol"
      ]
    },
    {
      "cell_type": "markdown",
      "metadata": {
        "id": "Z6Bc13ueKgzn"
      },
      "source": [
        "__Please choose task 2a or 2b (1pt)__ depending on your model (you can do both, but you will be awarded points for one of these two tasks).\n",
        "\n",
        "__Task 2a: (for BLOOM or other multilingual model)__ zero-shot translation. Take the first verse of [Edgar Allan Poe's \"Raven\"](https://www.poetryfoundation.org/poems/48860/the-raven) and __translate it into French.__ (You are free to use any other text of at least the same size)\n",
        "\n",
        "Original text: ```\n",
        "Once upon a midnight dreary, while I pondered, weak and weary,\n",
        "Over many a quaint and curious volume of forgotten lore—\n",
        "    While I nodded, nearly napping, suddenly there came a tapping,\n",
        "As of some one gently rapping, rapping at my chamber door.\n",
        "“’Tis some visitor,” I muttered, “tapping at my chamber door—\n",
        "            Only this and nothing more.”\n",
        "```\n",
        "\n",
        "Verify your translation by converting french back into english using a public machine translation service.\n",
        "\n",
        "__Task 2b: (non-BLOOM):__ toxicity classification for [SetFit/toxic_conversations](https://huggingface.co/datasets/SetFit/toxic_conversations). Make the model solve binary classification (toxic vs not toxic) in the few shot mode. For few-shot examples, use 2-3 toxic and 2-3 non-toxic non-toxic examples. Measure accuracy on at least 25 samples. You may need to try several different prompts before you find the one that works."
      ]
    },
    {
      "cell_type": "code",
      "execution_count": null,
      "metadata": {
        "id": "GygPXoyKKgzo"
      },
      "outputs": [],
      "source": [
        "prompt = \"\"\"\n",
        "Can you translate to French this piece of text?\n",
        "\n",
        "Once upon a midnight dreary, while I pondered, weak and weary,\n",
        "Over many a quaint and curious volume of forgotten lore—\n",
        "    While I nodded, nearly napping, suddenly there came a tapping,\n",
        "As of some one gently rapping, rapping at my chamber door.\n",
        "“’Tis some visitor,” I muttered, “tapping at my chamber door—\n",
        "            Only this and nothing more.”\n",
        "\"\"\""
      ]
    },
    {
      "cell_type": "code",
      "execution_count": null,
      "metadata": {
        "id": "RAioMZUemxkE",
        "outputId": "3612e5b7-fe30-49ea-ad05-9cbca3853622"
      },
      "outputs": [
        {
          "name": "stdout",
          "output_type": "stream",
          "text": [
            "{'id': '142c1e79-c86b-430d-eb89-b52afd84bb9f', 'prompt': {'text': '\\nCan you translate to French this piece of text?\\n\\nOnce upon a midnight dreary, while I pondered, weak and weary,\\nOver many a quaint and curious volume of forgotten lore—\\n    While I nodded, nearly napping, suddenly there came a tapping,\\nAs of some one gently rapping, rapping at my chamber door.\\n“’Tis some visitor,” I muttered, “tapping at my chamber door—\\n            Only this and nothing more.”\\n', 'tokens': [{'generatedToken': {'token': '<|newline|>', 'logprob': -4.729306221008301, 'raw_logprob': -4.729306221008301}, 'topTokens': None, 'textRange': {'start': 0, 'end': 1}}, {'generatedToken': {'token': '▁Can▁you', 'logprob': -12.523238182067871, 'raw_logprob': -12.523238182067871}, 'topTokens': None, 'textRange': {'start': 1, 'end': 8}}, {'generatedToken': {'token': '▁translate▁to', 'logprob': -12.850736618041992, 'raw_logprob': -12.850736618041992}, 'topTokens': None, 'textRange': {'start': 8, 'end': 21}}, {'generatedToken': {'token': '▁French', 'logprob': -4.582706928253174, 'raw_logprob': -4.582706928253174}, 'topTokens': None, 'textRange': {'start': 21, 'end': 28}}, {'generatedToken': {'token': '▁this', 'logprob': -18.851648330688477, 'raw_logprob': -18.851648330688477}, 'topTokens': None, 'textRange': {'start': 28, 'end': 33}}, {'generatedToken': {'token': '▁piece▁of', 'logprob': -18.03240394592285, 'raw_logprob': -18.03240394592285}, 'topTokens': None, 'textRange': {'start': 33, 'end': 42}}, {'generatedToken': {'token': '▁text', 'logprob': -3.291959762573242, 'raw_logprob': -3.291959762573242}, 'topTokens': None, 'textRange': {'start': 42, 'end': 47}}, {'generatedToken': {'token': '?', 'logprob': -11.000039100646973, 'raw_logprob': -11.000039100646973}, 'topTokens': None, 'textRange': {'start': 47, 'end': 48}}, {'generatedToken': {'token': '<|newline|>', 'logprob': -1.2159273865108844e-05, 'raw_logprob': -1.2159273865108844e-05}, 'topTokens': None, 'textRange': {'start': 48, 'end': 49}}, {'generatedToken': {'token': '<|newline|>', 'logprob': -17.547075271606445, 'raw_logprob': -17.547075271606445}, 'topTokens': None, 'textRange': {'start': 49, 'end': 50}}, {'generatedToken': {'token': '▁Once', 'logprob': -10.2753267288208, 'raw_logprob': -10.2753267288208}, 'topTokens': None, 'textRange': {'start': 50, 'end': 54}}, {'generatedToken': {'token': '▁upon▁a', 'logprob': -4.906363487243652, 'raw_logprob': -4.906363487243652}, 'topTokens': None, 'textRange': {'start': 54, 'end': 61}}, {'generatedToken': {'token': '▁midnight', 'logprob': -1.2672221660614014, 'raw_logprob': -1.2672221660614014}, 'topTokens': None, 'textRange': {'start': 61, 'end': 70}}, {'generatedToken': {'token': '▁dreary', 'logprob': -0.009741034358739853, 'raw_logprob': -0.009741034358739853}, 'topTokens': None, 'textRange': {'start': 70, 'end': 77}}, {'generatedToken': {'token': ',', 'logprob': -0.29325270652770996, 'raw_logprob': -0.29325270652770996}, 'topTokens': None, 'textRange': {'start': 77, 'end': 78}}, {'generatedToken': {'token': '▁while▁I', 'logprob': -0.018259761855006218, 'raw_logprob': -0.018259761855006218}, 'topTokens': None, 'textRange': {'start': 78, 'end': 86}}, {'generatedToken': {'token': '▁pondered', 'logprob': -0.005638764705508947, 'raw_logprob': -0.005638764705508947}, 'topTokens': None, 'textRange': {'start': 86, 'end': 95}}, {'generatedToken': {'token': ',', 'logprob': -0.015836773440241814, 'raw_logprob': -0.015836773440241814}, 'topTokens': None, 'textRange': {'start': 95, 'end': 96}}, {'generatedToken': {'token': '▁weak▁and', 'logprob': -0.005904375575482845, 'raw_logprob': -0.005904375575482845}, 'topTokens': None, 'textRange': {'start': 96, 'end': 105}}, {'generatedToken': {'token': '▁weary', 'logprob': -1.3351351299206726e-05, 'raw_logprob': -1.3351351299206726e-05}, 'topTokens': None, 'textRange': {'start': 105, 'end': 111}}, {'generatedToken': {'token': ',', 'logprob': -0.4710688889026642, 'raw_logprob': -0.4710688889026642}, 'topTokens': None, 'textRange': {'start': 111, 'end': 112}}, {'generatedToken': {'token': '<|newline|>', 'logprob': -0.006478971801698208, 'raw_logprob': -0.006478971801698208}, 'topTokens': None, 'textRange': {'start': 112, 'end': 113}}, {'generatedToken': {'token': '▁Over', 'logprob': -0.09677161276340485, 'raw_logprob': -0.09677161276340485}, 'topTokens': None, 'textRange': {'start': 113, 'end': 117}}, {'generatedToken': {'token': '▁many', 'logprob': -0.00022718709078617394, 'raw_logprob': -0.00022718709078617394}, 'topTokens': None, 'textRange': {'start': 117, 'end': 122}}, {'generatedToken': {'token': '▁a▁quaint', 'logprob': -0.0002308817347511649, 'raw_logprob': -0.0002308817347511649}, 'topTokens': None, 'textRange': {'start': 122, 'end': 131}}, {'generatedToken': {'token': '▁and', 'logprob': -0.00029202012228779495, 'raw_logprob': -0.00029202012228779495}, 'topTokens': None, 'textRange': {'start': 131, 'end': 135}}, {'generatedToken': {'token': '▁curious', 'logprob': -0.0035713245160877705, 'raw_logprob': -0.0035713245160877705}, 'topTokens': None, 'textRange': {'start': 135, 'end': 143}}, {'generatedToken': {'token': '▁volume▁of', 'logprob': -0.0007030876004137099, 'raw_logprob': -0.0007030876004137099}, 'topTokens': None, 'textRange': {'start': 143, 'end': 153}}, {'generatedToken': {'token': '▁forgotten', 'logprob': -0.0009303532424382865, 'raw_logprob': -0.0009303532424382865}, 'topTokens': None, 'textRange': {'start': 153, 'end': 163}}, {'generatedToken': {'token': '▁lore', 'logprob': -0.000513064325787127, 'raw_logprob': -0.000513064325787127}, 'topTokens': None, 'textRange': {'start': 163, 'end': 168}}, {'generatedToken': {'token': '—', 'logprob': -1.3287785053253174, 'raw_logprob': -1.3287785053253174}, 'topTokens': None, 'textRange': {'start': 168, 'end': 169}}, {'generatedToken': {'token': '<|newline|>', 'logprob': -0.0018656720640137792, 'raw_logprob': -0.0018656720640137792}, 'topTokens': None, 'textRange': {'start': 169, 'end': 170}}, {'generatedToken': {'token': '▁▁▁▁', 'logprob': -9.657133102416992, 'raw_logprob': -9.657133102416992}, 'topTokens': None, 'textRange': {'start': 170, 'end': 173}}, {'generatedToken': {'token': '▁While', 'logprob': -8.094343185424805, 'raw_logprob': -8.094343185424805}, 'topTokens': None, 'textRange': {'start': 173, 'end': 179}}, {'generatedToken': {'token': '▁I▁nodded', 'logprob': -0.00017987063620239496, 'raw_logprob': -0.00017987063620239496}, 'topTokens': None, 'textRange': {'start': 179, 'end': 188}}, {'generatedToken': {'token': ',', 'logprob': -0.00024732868769206107, 'raw_logprob': -0.00024732868769206107}, 'topTokens': None, 'textRange': {'start': 188, 'end': 189}}, {'generatedToken': {'token': '▁nearly', 'logprob': -0.0002356490003876388, 'raw_logprob': -0.0002356490003876388}, 'topTokens': None, 'textRange': {'start': 189, 'end': 196}}, {'generatedToken': {'token': '▁napping', 'logprob': -1.0847986231965479e-05, 'raw_logprob': -1.0847986231965479e-05}, 'topTokens': None, 'textRange': {'start': 196, 'end': 204}}, {'generatedToken': {'token': ',', 'logprob': -0.0012653210433200002, 'raw_logprob': -0.0012653210433200002}, 'topTokens': None, 'textRange': {'start': 204, 'end': 205}}, {'generatedToken': {'token': '▁suddenly', 'logprob': -0.0029166084714233875, 'raw_logprob': -0.0029166084714233875}, 'topTokens': None, 'textRange': {'start': 205, 'end': 214}}, {'generatedToken': {'token': '▁there', 'logprob': -0.0005011494504287839, 'raw_logprob': -0.0005011494504287839}, 'topTokens': None, 'textRange': {'start': 214, 'end': 220}}, {'generatedToken': {'token': '▁came', 'logprob': -0.000931663322262466, 'raw_logprob': -0.000931663322262466}, 'topTokens': None, 'textRange': {'start': 220, 'end': 225}}, {'generatedToken': {'token': '▁a', 'logprob': -0.0010698077967390418, 'raw_logprob': -0.0010698077967390418}, 'topTokens': None, 'textRange': {'start': 225, 'end': 227}}, {'generatedToken': {'token': '▁tapping', 'logprob': -0.0018423503497615457, 'raw_logprob': -0.0018423503497615457}, 'topTokens': None, 'textRange': {'start': 227, 'end': 235}}, {'generatedToken': {'token': ',', 'logprob': -0.01098666898906231, 'raw_logprob': -0.01098666898906231}, 'topTokens': None, 'textRange': {'start': 235, 'end': 236}}, {'generatedToken': {'token': '<|newline|>', 'logprob': -0.010670864954590797, 'raw_logprob': -0.010670864954590797}, 'topTokens': None, 'textRange': {'start': 236, 'end': 237}}, {'generatedToken': {'token': '▁As▁of', 'logprob': -0.005306207574903965, 'raw_logprob': -0.005306207574903965}, 'topTokens': None, 'textRange': {'start': 237, 'end': 242}}, {'generatedToken': {'token': '▁some', 'logprob': -0.01832214929163456, 'raw_logprob': -0.01832214929163456}, 'topTokens': None, 'textRange': {'start': 242, 'end': 247}}, {'generatedToken': {'token': '▁one', 'logprob': -0.000219321038457565, 'raw_logprob': -0.000219321038457565}, 'topTokens': None, 'textRange': {'start': 247, 'end': 251}}, {'generatedToken': {'token': '▁gently', 'logprob': -0.00038342276820912957, 'raw_logprob': -0.00038342276820912957}, 'topTokens': None, 'textRange': {'start': 251, 'end': 258}}, {'generatedToken': {'token': '▁rapping', 'logprob': -6.627816765103489e-05, 'raw_logprob': -6.627816765103489e-05}, 'topTokens': None, 'textRange': {'start': 258, 'end': 266}}, {'generatedToken': {'token': ',', 'logprob': -0.0005576247931458056, 'raw_logprob': -0.0005576247931458056}, 'topTokens': None, 'textRange': {'start': 266, 'end': 267}}, {'generatedToken': {'token': '▁rapping', 'logprob': -7.4741430580616e-05, 'raw_logprob': -7.4741430580616e-05}, 'topTokens': None, 'textRange': {'start': 267, 'end': 275}}, {'generatedToken': {'token': '▁at▁my', 'logprob': -0.02082809992134571, 'raw_logprob': -0.02082809992134571}, 'topTokens': None, 'textRange': {'start': 275, 'end': 281}}, {'generatedToken': {'token': '▁chamber', 'logprob': -0.0019052940187975764, 'raw_logprob': -0.0019052940187975764}, 'topTokens': None, 'textRange': {'start': 281, 'end': 289}}, {'generatedToken': {'token': '▁door', 'logprob': -0.0016783688915893435, 'raw_logprob': -0.0016783688915893435}, 'topTokens': None, 'textRange': {'start': 289, 'end': 294}}, {'generatedToken': {'token': '.', 'logprob': -0.07720829546451569, 'raw_logprob': -0.07720829546451569}, 'topTokens': None, 'textRange': {'start': 294, 'end': 295}}, {'generatedToken': {'token': '<|newline|>', 'logprob': -0.0028259125538170338, 'raw_logprob': -0.0028259125538170338}, 'topTokens': None, 'textRange': {'start': 295, 'end': 296}}, {'generatedToken': {'token': '▁“', 'logprob': -8.620132446289062, 'raw_logprob': -8.620132446289062}, 'topTokens': None, 'textRange': {'start': 296, 'end': 297}}, {'generatedToken': {'token': '’', 'logprob': -2.786890983581543, 'raw_logprob': -2.786890983581543}, 'topTokens': None, 'textRange': {'start': 297, 'end': 298}}, {'generatedToken': {'token': 'Ti', 'logprob': -0.004011442419141531, 'raw_logprob': -0.004011442419141531}, 'topTokens': None, 'textRange': {'start': 298, 'end': 300}}, {'generatedToken': {'token': 's', 'logprob': -1.9311717551317997e-05, 'raw_logprob': -1.9311717551317997e-05}, 'topTokens': None, 'textRange': {'start': 300, 'end': 301}}, {'generatedToken': {'token': '▁some', 'logprob': -9.667406266089529e-05, 'raw_logprob': -9.667406266089529e-05}, 'topTokens': None, 'textRange': {'start': 301, 'end': 306}}, {'generatedToken': {'token': '▁visitor', 'logprob': -0.17830263078212738, 'raw_logprob': -0.17830263078212738}, 'topTokens': None, 'textRange': {'start': 306, 'end': 314}}, {'generatedToken': {'token': ',', 'logprob': -0.00013219437096267939, 'raw_logprob': -0.00013219437096267939}, 'topTokens': None, 'textRange': {'start': 314, 'end': 315}}, {'generatedToken': {'token': '”', 'logprob': -0.000860320869833231, 'raw_logprob': -0.000860320869833231}, 'topTokens': None, 'textRange': {'start': 315, 'end': 316}}, {'generatedToken': {'token': '▁I', 'logprob': -0.0015175743028521538, 'raw_logprob': -0.0015175743028521538}, 'topTokens': None, 'textRange': {'start': 316, 'end': 318}}, {'generatedToken': {'token': '▁muttered', 'logprob': -0.010004259645938873, 'raw_logprob': -0.010004259645938873}, 'topTokens': None, 'textRange': {'start': 318, 'end': 327}}, {'generatedToken': {'token': ',', 'logprob': -0.0006775943911634386, 'raw_logprob': -0.0006775943911634386}, 'topTokens': None, 'textRange': {'start': 327, 'end': 328}}, {'generatedToken': {'token': '▁“', 'logprob': -0.00027533553657121956, 'raw_logprob': -0.00027533553657121956}, 'topTokens': None, 'textRange': {'start': 328, 'end': 330}}, {'generatedToken': {'token': 't', 'logprob': -0.0001454247540095821, 'raw_logprob': -0.0001454247540095821}, 'topTokens': None, 'textRange': {'start': 330, 'end': 331}}, {'generatedToken': {'token': 'apping', 'logprob': -3.7788631743751466e-05, 'raw_logprob': -3.7788631743751466e-05}, 'topTokens': None, 'textRange': {'start': 331, 'end': 337}}, {'generatedToken': {'token': '▁at▁my', 'logprob': -0.006734531372785568, 'raw_logprob': -0.006734531372785568}, 'topTokens': None, 'textRange': {'start': 337, 'end': 343}}, {'generatedToken': {'token': '▁chamber', 'logprob': -0.000982397934421897, 'raw_logprob': -0.000982397934421897}, 'topTokens': None, 'textRange': {'start': 343, 'end': 351}}, {'generatedToken': {'token': '▁door', 'logprob': -2.884823152271565e-05, 'raw_logprob': -2.884823152271565e-05}, 'topTokens': None, 'textRange': {'start': 351, 'end': 356}}, {'generatedToken': {'token': '—', 'logprob': -0.017687682062387466, 'raw_logprob': -0.017687682062387466}, 'topTokens': None, 'textRange': {'start': 356, 'end': 357}}, {'generatedToken': {'token': '<|newline|>', 'logprob': -0.0012209111591801047, 'raw_logprob': -0.0012209111591801047}, 'topTokens': None, 'textRange': {'start': 357, 'end': 358}}, {'generatedToken': {'token': '▁▁▁▁', 'logprob': -1.3804974555969238, 'raw_logprob': -1.3804974555969238}, 'topTokens': None, 'textRange': {'start': 358, 'end': 361}}, {'generatedToken': {'token': '▁▁▁▁', 'logprob': -0.6334969997406006, 'raw_logprob': -0.6334969997406006}, 'topTokens': None, 'textRange': {'start': 361, 'end': 365}}, {'generatedToken': {'token': '▁▁▁▁', 'logprob': -0.10859628766775131, 'raw_logprob': -0.10859628766775131}, 'topTokens': None, 'textRange': {'start': 365, 'end': 369}}, {'generatedToken': {'token': '▁Only', 'logprob': -2.987246036529541, 'raw_logprob': -2.987246036529541}, 'topTokens': None, 'textRange': {'start': 369, 'end': 374}}, {'generatedToken': {'token': '▁this', 'logprob': -6.0794889577664435e-05, 'raw_logprob': -6.0794889577664435e-05}, 'topTokens': None, 'textRange': {'start': 374, 'end': 379}}, {'generatedToken': {'token': '▁and', 'logprob': -0.18066897988319397, 'raw_logprob': -0.18066897988319397}, 'topTokens': None, 'textRange': {'start': 379, 'end': 383}}, {'generatedToken': {'token': '▁nothing▁more', 'logprob': -7.271740287251305e-06, 'raw_logprob': -7.271740287251305e-06}, 'topTokens': None, 'textRange': {'start': 383, 'end': 396}}, {'generatedToken': {'token': '.”', 'logprob': -0.014992299489676952, 'raw_logprob': -0.014992299489676952}, 'topTokens': None, 'textRange': {'start': 396, 'end': 398}}, {'generatedToken': {'token': '<|newline|>', 'logprob': -0.010867694392800331, 'raw_logprob': -0.010867694392800331}, 'topTokens': None, 'textRange': {'start': 398, 'end': 399}}]}, 'completions': [{'data': {'text': '{Bon soir tout le monde}, un jour sombre et lugubre, alors que je me promenais, affamé et faible,\\nA travers de nombreux livres intéressants et bizarres du passé, dont il ne reste rien aujourd’hui -\\nPendant que je battais d’yeux fermés, tout à coup, je suivais une frappe,\\nQuelqu’un effleure doucement la porte de ma chambre.\\n“C’est quelqu’un qui me visite ” je murmurais, “effleurant ma chambre -\\n― {Un seul baiser et rien de plus}.', 'tokens': [{'generatedToken': {'token': '▁{', 'logprob': -4.161954879760742, 'raw_logprob': -4.013659477233887}, 'topTokens': None, 'textRange': {'start': 0, 'end': 1}}, {'generatedToken': {'token': 'Bon', 'logprob': -0.632736086845398, 'raw_logprob': -0.7790310978889465}, 'topTokens': None, 'textRange': {'start': 1, 'end': 4}}, {'generatedToken': {'token': '▁so', 'logprob': -2.7152724266052246, 'raw_logprob': -2.620652198791504}, 'topTokens': None, 'textRange': {'start': 4, 'end': 7}}, {'generatedToken': {'token': 'ir', 'logprob': -1.764281842042692e-05, 'raw_logprob': -5.9960475482512265e-05}, 'topTokens': None, 'textRange': {'start': 7, 'end': 9}}, {'generatedToken': {'token': '▁tout', 'logprob': -3.1158785820007324, 'raw_logprob': -2.980966567993164}, 'topTokens': None, 'textRange': {'start': 9, 'end': 14}}, {'generatedToken': {'token': '▁', 'logprob': -0.0033372920006513596, 'raw_logprob': -0.00769602507352829}, 'topTokens': None, 'textRange': {'start': 14, 'end': 15}}, {'generatedToken': {'token': 'le', 'logprob': -1.811964830267243e-05, 'raw_logprob': -6.174850568640977e-05}, 'topTokens': None, 'textRange': {'start': 15, 'end': 17}}, {'generatedToken': {'token': '▁', 'logprob': -8.248942322097719e-05, 'raw_logprob': -0.0002650863316375762}, 'topTokens': None, 'textRange': {'start': 17, 'end': 18}}, {'generatedToken': {'token': 'monde', 'logprob': -3.6954195820726454e-05, 'raw_logprob': -0.00010275312524754554}, 'topTokens': None, 'textRange': {'start': 18, 'end': 23}}, {'generatedToken': {'token': '}', 'logprob': -1.2695978879928589, 'raw_logprob': -1.3603333234786987}, 'topTokens': None, 'textRange': {'start': 23, 'end': 24}}, {'generatedToken': {'token': ',', 'logprob': -0.040517497807741165, 'raw_logprob': -0.06311218440532684}, 'topTokens': None, 'textRange': {'start': 24, 'end': 25}}, {'generatedToken': {'token': '▁un', 'logprob': -8.187457084655762, 'raw_logprob': -7.387238502502441}, 'topTokens': None, 'textRange': {'start': 25, 'end': 28}}, {'generatedToken': {'token': '▁', 'logprob': -0.009280872531235218, 'raw_logprob': -0.017854562029242516}, 'topTokens': None, 'textRange': {'start': 28, 'end': 29}}, {'generatedToken': {'token': 'jour', 'logprob': -0.46437981724739075, 'raw_logprob': -0.504391610622406}, 'topTokens': None, 'textRange': {'start': 29, 'end': 33}}, {'generatedToken': {'token': '▁sombre', 'logprob': -0.5460163354873657, 'raw_logprob': -0.6377859711647034}, 'topTokens': None, 'textRange': {'start': 33, 'end': 40}}, {'generatedToken': {'token': '▁et', 'logprob': -0.014214339666068554, 'raw_logprob': -0.025653012096881866}, 'topTokens': None, 'textRange': {'start': 40, 'end': 43}}, {'generatedToken': {'token': '▁lug', 'logprob': -2.6455509662628174, 'raw_logprob': -2.563208818435669}, 'topTokens': None, 'textRange': {'start': 43, 'end': 47}}, {'generatedToken': {'token': 'ubre', 'logprob': -6.174850568640977e-05, 'raw_logprob': -0.00016926287207752466}, 'topTokens': None, 'textRange': {'start': 47, 'end': 51}}, {'generatedToken': {'token': ',', 'logprob': -0.019389264285564423, 'raw_logprob': -0.03357142210006714}, 'topTokens': None, 'textRange': {'start': 51, 'end': 52}}, {'generatedToken': {'token': '▁', 'logprob': -0.13758891820907593, 'raw_logprob': -0.19339284300804138}, 'topTokens': None, 'textRange': {'start': 52, 'end': 53}}, {'generatedToken': {'token': 'al', 'logprob': -0.14543601870536804, 'raw_logprob': -0.19579210877418518}, 'topTokens': None, 'textRange': {'start': 53, 'end': 55}}, {'generatedToken': {'token': 'ors', 'logprob': 0.0, 'raw_logprob': -1.1920928244535389e-07}, 'topTokens': None, 'textRange': {'start': 55, 'end': 58}}, {'generatedToken': {'token': '▁', 'logprob': -0.001259606215171516, 'raw_logprob': -0.002973066410049796}, 'topTokens': None, 'textRange': {'start': 58, 'end': 59}}, {'generatedToken': {'token': 'que', 'logprob': -4.410734163684538e-06, 'raw_logprob': -1.9550132492440753e-05}, 'topTokens': None, 'textRange': {'start': 59, 'end': 62}}, {'generatedToken': {'token': '▁je', 'logprob': -1.100271224975586, 'raw_logprob': -1.0556634664535522}, 'topTokens': None, 'textRange': {'start': 62, 'end': 65}}, {'generatedToken': {'token': '▁me', 'logprob': -0.7397224307060242, 'raw_logprob': -0.8086246252059937}, 'topTokens': None, 'textRange': {'start': 65, 'end': 68}}, {'generatedToken': {'token': '▁pro', 'logprob': -0.061196327209472656, 'raw_logprob': -0.10138364136219025}, 'topTokens': None, 'textRange': {'start': 68, 'end': 72}}, {'generatedToken': {'token': 'mena', 'logprob': -0.08480183035135269, 'raw_logprob': -0.10947966575622559}, 'topTokens': None, 'textRange': {'start': 72, 'end': 76}}, {'generatedToken': {'token': 'is', 'logprob': -0.004701749421656132, 'raw_logprob': -0.008359087631106377}, 'topTokens': None, 'textRange': {'start': 76, 'end': 78}}, {'generatedToken': {'token': ',', 'logprob': -0.3073335886001587, 'raw_logprob': -0.43147727847099304}, 'topTokens': None, 'textRange': {'start': 78, 'end': 79}}, {'generatedToken': {'token': '▁a', 'logprob': -2.7822275161743164, 'raw_logprob': -2.684955596923828}, 'topTokens': None, 'textRange': {'start': 79, 'end': 81}}, {'generatedToken': {'token': 'ffa', 'logprob': -2.90866428258596e-05, 'raw_logprob': -9.619726915843785e-05}, 'topTokens': None, 'textRange': {'start': 81, 'end': 84}}, {'generatedToken': {'token': 'mé', 'logprob': -0.19240742921829224, 'raw_logprob': -0.22880861163139343}, 'topTokens': None, 'textRange': {'start': 84, 'end': 86}}, {'generatedToken': {'token': '▁et', 'logprob': -0.07791022211313248, 'raw_logprob': -0.11430838704109192}, 'topTokens': None, 'textRange': {'start': 86, 'end': 89}}, {'generatedToken': {'token': '▁', 'logprob': -1.0068483352661133, 'raw_logprob': -1.0030717849731445}, 'topTokens': None, 'textRange': {'start': 89, 'end': 90}}, {'generatedToken': {'token': 'fa', 'logprob': -0.0519372820854187, 'raw_logprob': -0.07570937275886536}, 'topTokens': None, 'textRange': {'start': 90, 'end': 92}}, {'generatedToken': {'token': 'ible', 'logprob': -3.814624506048858e-05, 'raw_logprob': -0.00011896379146492109}, 'topTokens': None, 'textRange': {'start': 92, 'end': 96}}, {'generatedToken': {'token': ',', 'logprob': -0.02625051699578762, 'raw_logprob': -0.04667777195572853}, 'topTokens': None, 'textRange': {'start': 96, 'end': 97}}, {'generatedToken': {'token': '<|newline|>', 'logprob': -0.1838516741991043, 'raw_logprob': -0.2623457908630371}, 'topTokens': None, 'textRange': {'start': 97, 'end': 98}}, {'generatedToken': {'token': '▁A', 'logprob': -4.058573246002197, 'raw_logprob': -3.731783866882324}, 'topTokens': None, 'textRange': {'start': 98, 'end': 99}}, {'generatedToken': {'token': '▁', 'logprob': -0.4619900584220886, 'raw_logprob': -0.5494272708892822}, 'topTokens': None, 'textRange': {'start': 99, 'end': 100}}, {'generatedToken': {'token': 'travers', 'logprob': -0.02255488932132721, 'raw_logprob': -0.040286801755428314}, 'topTokens': None, 'textRange': {'start': 100, 'end': 107}}, {'generatedToken': {'token': '▁de', 'logprob': -0.0713028609752655, 'raw_logprob': -0.11107148975133896}, 'topTokens': None, 'textRange': {'start': 107, 'end': 110}}, {'generatedToken': {'token': '▁nombre', 'logprob': -0.0006764031131751835, 'raw_logprob': -0.001705264556221664}, 'topTokens': None, 'textRange': {'start': 110, 'end': 117}}, {'generatedToken': {'token': 'ux', 'logprob': -0.05569534748792648, 'raw_logprob': -0.07379747927188873}, 'topTokens': None, 'textRange': {'start': 117, 'end': 119}}, {'generatedToken': {'token': '▁livre', 'logprob': -0.6448133587837219, 'raw_logprob': -0.7350744009017944}, 'topTokens': None, 'textRange': {'start': 119, 'end': 125}}, {'generatedToken': {'token': 's▁in', 'logprob': -2.410295009613037, 'raw_logprob': -2.2091732025146484}, 'topTokens': None, 'textRange': {'start': 125, 'end': 129}}, {'generatedToken': {'token': 'té', 'logprob': -0.6770190596580505, 'raw_logprob': -0.7188735008239746}, 'topTokens': None, 'textRange': {'start': 129, 'end': 131}}, {'generatedToken': {'token': 'ressant', 'logprob': -6.794906312279636e-06, 'raw_logprob': -2.52720492426306e-05}, 'topTokens': None, 'textRange': {'start': 131, 'end': 138}}, {'generatedToken': {'token': 's▁et', 'logprob': -0.01293412409722805, 'raw_logprob': -0.021403873339295387}, 'topTokens': None, 'textRange': {'start': 138, 'end': 142}}, {'generatedToken': {'token': '▁bizarre', 'logprob': -1.03800368309021, 'raw_logprob': -1.1428453922271729}, 'topTokens': None, 'textRange': {'start': 142, 'end': 150}}, {'generatedToken': {'token': 's▁du', 'logprob': -6.350984573364258, 'raw_logprob': -5.747438907623291}, 'topTokens': None, 'textRange': {'start': 150, 'end': 154}}, {'generatedToken': {'token': '▁pass', 'logprob': -0.028386712074279785, 'raw_logprob': -0.04228401556611061}, 'topTokens': None, 'textRange': {'start': 154, 'end': 159}}, {'generatedToken': {'token': 'é', 'logprob': -0.00012766500003635883, 'raw_logprob': -0.0003687655262183398}, 'topTokens': None, 'textRange': {'start': 159, 'end': 160}}, {'generatedToken': {'token': ',', 'logprob': -1.0845973491668701, 'raw_logprob': -1.0974066257476807}, 'topTokens': None, 'textRange': {'start': 160, 'end': 161}}, {'generatedToken': {'token': '▁dont', 'logprob': -3.485912799835205, 'raw_logprob': -3.2445616722106934}, 'topTokens': None, 'textRange': {'start': 161, 'end': 166}}, {'generatedToken': {'token': '▁', 'logprob': -2.2132997512817383, 'raw_logprob': -2.1856155395507812}, 'topTokens': None, 'textRange': {'start': 166, 'end': 167}}, {'generatedToken': {'token': 'il', 'logprob': -1.5091800689697266, 'raw_logprob': -1.4731876850128174}, 'topTokens': None, 'textRange': {'start': 167, 'end': 169}}, {'generatedToken': {'token': '▁', 'logprob': -0.07443463057279587, 'raw_logprob': -0.11402826756238937}, 'topTokens': None, 'textRange': {'start': 169, 'end': 170}}, {'generatedToken': {'token': 'ne', 'logprob': -0.2970949411392212, 'raw_logprob': -0.34302499890327454}, 'topTokens': None, 'textRange': {'start': 170, 'end': 172}}, {'generatedToken': {'token': '▁rest', 'logprob': -0.05911465734243393, 'raw_logprob': -0.08954229205846786}, 'topTokens': None, 'textRange': {'start': 172, 'end': 177}}, {'generatedToken': {'token': 'e', 'logprob': -0.20339414477348328, 'raw_logprob': -0.2377871423959732}, 'topTokens': None, 'textRange': {'start': 177, 'end': 178}}, {'generatedToken': {'token': '▁', 'logprob': -1.3094545602798462, 'raw_logprob': -1.343881368637085}, 'topTokens': None, 'textRange': {'start': 178, 'end': 179}}, {'generatedToken': {'token': 'rien', 'logprob': -1.6662139892578125, 'raw_logprob': -1.558351755142212}, 'topTokens': None, 'textRange': {'start': 179, 'end': 183}}, {'generatedToken': {'token': '▁a', 'logprob': -0.704799473285675, 'raw_logprob': -0.7942240238189697}, 'topTokens': None, 'textRange': {'start': 183, 'end': 185}}, {'generatedToken': {'token': 'ujour', 'logprob': -0.03831174969673157, 'raw_logprob': -0.054281122982501984}, 'topTokens': None, 'textRange': {'start': 185, 'end': 190}}, {'generatedToken': {'token': 'd', 'logprob': -0.1996171474456787, 'raw_logprob': -0.22886550426483154}, 'topTokens': None, 'textRange': {'start': 190, 'end': 191}}, {'generatedToken': {'token': '’', 'logprob': -0.0009333306807093322, 'raw_logprob': -0.0022896521259099245}, 'topTokens': None, 'textRange': {'start': 191, 'end': 192}}, {'generatedToken': {'token': 'hui', 'logprob': -2.861018856492592e-06, 'raw_logprob': -1.1205610462639015e-05}, 'topTokens': None, 'textRange': {'start': 192, 'end': 195}}, {'generatedToken': {'token': '▁-', 'logprob': -1.4772758483886719, 'raw_logprob': -1.527775526046753}, 'topTokens': None, 'textRange': {'start': 195, 'end': 197}}, {'generatedToken': {'token': '<|newline|>', 'logprob': -0.008668649941682816, 'raw_logprob': -0.01705867052078247}, 'topTokens': None, 'textRange': {'start': 197, 'end': 198}}, {'generatedToken': {'token': '▁Pendant', 'logprob': -1.344801902770996, 'raw_logprob': -1.352049469947815}, 'topTokens': None, 'textRange': {'start': 198, 'end': 205}}, {'generatedToken': {'token': '▁', 'logprob': -0.0006367324967868626, 'raw_logprob': -0.0014700806932523847}, 'topTokens': None, 'textRange': {'start': 205, 'end': 206}}, {'generatedToken': {'token': 'que', 'logprob': -0.00012635385792236775, 'raw_logprob': -0.00032074074260890484}, 'topTokens': None, 'textRange': {'start': 206, 'end': 209}}, {'generatedToken': {'token': '▁je', 'logprob': -0.8539350032806396, 'raw_logprob': -0.8398841619491577}, 'topTokens': None, 'textRange': {'start': 209, 'end': 212}}, {'generatedToken': {'token': '▁', 'logprob': -0.42401328682899475, 'raw_logprob': -0.5794170498847961}, 'topTokens': None, 'textRange': {'start': 212, 'end': 213}}, {'generatedToken': {'token': 'batt', 'logprob': -2.5945611000061035, 'raw_logprob': -2.436551094055176}, 'topTokens': None, 'textRange': {'start': 213, 'end': 217}}, {'generatedToken': {'token': 'ais', 'logprob': -0.00048160876031033695, 'raw_logprob': -0.0011379201896488667}, 'topTokens': None, 'textRange': {'start': 217, 'end': 220}}, {'generatedToken': {'token': '▁d’', 'logprob': -1.9043960571289062, 'raw_logprob': -1.8619141578674316}, 'topTokens': None, 'textRange': {'start': 220, 'end': 223}}, {'generatedToken': {'token': 'y', 'logprob': -0.2941974699497223, 'raw_logprob': -0.3464520275592804}, 'topTokens': None, 'textRange': {'start': 223, 'end': 224}}, {'generatedToken': {'token': 'eux', 'logprob': -0.004051810130476952, 'raw_logprob': -0.008188958279788494}, 'topTokens': None, 'textRange': {'start': 224, 'end': 227}}, {'generatedToken': {'token': '▁', 'logprob': -0.033497415482997894, 'raw_logprob': -0.06070674583315849}, 'topTokens': None, 'textRange': {'start': 227, 'end': 228}}, {'generatedToken': {'token': 'fer', 'logprob': -1.0012998580932617, 'raw_logprob': -1.011007308959961}, 'topTokens': None, 'textRange': {'start': 228, 'end': 231}}, {'generatedToken': {'token': 'mé', 'logprob': -6.258291978156194e-05, 'raw_logprob': -0.00018940561858471483}, 'topTokens': None, 'textRange': {'start': 231, 'end': 233}}, {'generatedToken': {'token': 's', 'logprob': -0.021193116903305054, 'raw_logprob': -0.03374835103750229}, 'topTokens': None, 'textRange': {'start': 233, 'end': 234}}, {'generatedToken': {'token': ',', 'logprob': -0.008231405168771744, 'raw_logprob': -0.017500272020697594}, 'topTokens': None, 'textRange': {'start': 234, 'end': 235}}, {'generatedToken': {'token': '▁tout', 'logprob': -1.3312840461730957, 'raw_logprob': -1.420536756515503}, 'topTokens': None, 'textRange': {'start': 235, 'end': 240}}, {'generatedToken': {'token': '▁à', 'logprob': -0.09750795364379883, 'raw_logprob': -0.12372570484876633}, 'topTokens': None, 'textRange': {'start': 240, 'end': 242}}, {'generatedToken': {'token': '▁coup', 'logprob': -0.00011419598013162613, 'raw_logprob': -0.0003197873884346336}, 'topTokens': None, 'textRange': {'start': 242, 'end': 247}}, {'generatedToken': {'token': ',', 'logprob': -1.1975250244140625, 'raw_logprob': -1.2152804136276245}, 'topTokens': None, 'textRange': {'start': 247, 'end': 248}}, {'generatedToken': {'token': '▁je', 'logprob': -3.6653823852539062, 'raw_logprob': -3.419142007827759}, 'topTokens': None, 'textRange': {'start': 248, 'end': 251}}, {'generatedToken': {'token': '▁', 'logprob': -0.4430267810821533, 'raw_logprob': -0.5035602450370789}, 'topTokens': None, 'textRange': {'start': 251, 'end': 252}}, {'generatedToken': {'token': 'sui', 'logprob': -2.4923501014709473, 'raw_logprob': -2.455092668533325}, 'topTokens': None, 'textRange': {'start': 252, 'end': 255}}, {'generatedToken': {'token': 'vais', 'logprob': -0.4374461770057678, 'raw_logprob': -0.47635412216186523}, 'topTokens': None, 'textRange': {'start': 255, 'end': 259}}, {'generatedToken': {'token': '▁une', 'logprob': -1.0861973762512207, 'raw_logprob': -1.098808765411377}, 'topTokens': None, 'textRange': {'start': 259, 'end': 263}}, {'generatedToken': {'token': '▁', 'logprob': -0.33488914370536804, 'raw_logprob': -0.478254497051239}, 'topTokens': None, 'textRange': {'start': 263, 'end': 264}}, {'generatedToken': {'token': 'frapp', 'logprob': -0.3487410247325897, 'raw_logprob': -0.43563786149024963}, 'topTokens': None, 'textRange': {'start': 264, 'end': 269}}, {'generatedToken': {'token': 'e', 'logprob': -0.9546324014663696, 'raw_logprob': -1.010991096496582}, 'topTokens': None, 'textRange': {'start': 269, 'end': 270}}, {'generatedToken': {'token': ',', 'logprob': -0.04275231435894966, 'raw_logprob': -0.08135256171226501}, 'topTokens': None, 'textRange': {'start': 270, 'end': 271}}, {'generatedToken': {'token': '<|newline|>', 'logprob': -0.06489960104227066, 'raw_logprob': -0.10657154768705368}, 'topTokens': None, 'textRange': {'start': 271, 'end': 272}}, {'generatedToken': {'token': '▁Que', 'logprob': -1.8555207252502441, 'raw_logprob': -1.891061782836914}, 'topTokens': None, 'textRange': {'start': 272, 'end': 275}}, {'generatedToken': {'token': 'l', 'logprob': -0.02779199182987213, 'raw_logprob': -0.04658469930291176}, 'topTokens': None, 'textRange': {'start': 275, 'end': 276}}, {'generatedToken': {'token': 'qu', 'logprob': -0.14395777881145477, 'raw_logprob': -0.18245738744735718}, 'topTokens': None, 'textRange': {'start': 276, 'end': 278}}, {'generatedToken': {'token': '’', 'logprob': -0.052756112068891525, 'raw_logprob': -0.0701240673661232}, 'topTokens': None, 'textRange': {'start': 278, 'end': 279}}, {'generatedToken': {'token': 'un', 'logprob': -0.00010299152199877426, 'raw_logprob': -0.0003120412293355912}, 'topTokens': None, 'textRange': {'start': 279, 'end': 281}}, {'generatedToken': {'token': '▁eff', 'logprob': -5.092507362365723, 'raw_logprob': -4.781621932983398}, 'topTokens': None, 'textRange': {'start': 281, 'end': 285}}, {'generatedToken': {'token': 'le', 'logprob': -0.8515521287918091, 'raw_logprob': -0.8497682809829712}, 'topTokens': None, 'textRange': {'start': 285, 'end': 287}}, {'generatedToken': {'token': 'ure', 'logprob': -0.4409148693084717, 'raw_logprob': -0.49119189381599426}, 'topTokens': None, 'textRange': {'start': 287, 'end': 290}}, {'generatedToken': {'token': '▁', 'logprob': -0.29886069893836975, 'raw_logprob': -0.44020509719848633}, 'topTokens': None, 'textRange': {'start': 290, 'end': 291}}, {'generatedToken': {'token': 'dou', 'logprob': -0.05608730763196945, 'raw_logprob': -0.0905371755361557}, 'topTokens': None, 'textRange': {'start': 291, 'end': 294}}, {'generatedToken': {'token': 'cement', 'logprob': -2.3841830625315197e-06, 'raw_logprob': -9.059865078597795e-06}, 'topTokens': None, 'textRange': {'start': 294, 'end': 300}}, {'generatedToken': {'token': '▁la', 'logprob': -0.7539680004119873, 'raw_logprob': -0.8265761733055115}, 'topTokens': None, 'textRange': {'start': 300, 'end': 303}}, {'generatedToken': {'token': '▁port', 'logprob': -1.6117656230926514, 'raw_logprob': -1.5027081966400146}, 'topTokens': None, 'textRange': {'start': 303, 'end': 308}}, {'generatedToken': {'token': 'e▁de', 'logprob': -0.037865012884140015, 'raw_logprob': -0.054346609860658646}, 'topTokens': None, 'textRange': {'start': 308, 'end': 312}}, {'generatedToken': {'token': '▁', 'logprob': -0.0004961451631970704, 'raw_logprob': -0.0011609011562541127}, 'topTokens': None, 'textRange': {'start': 312, 'end': 313}}, {'generatedToken': {'token': 'ma', 'logprob': -0.21624775230884552, 'raw_logprob': -0.24617493152618408}, 'topTokens': None, 'textRange': {'start': 313, 'end': 315}}, {'generatedToken': {'token': '▁', 'logprob': -0.002599909668788314, 'raw_logprob': -0.005704314913600683}, 'topTokens': None, 'textRange': {'start': 315, 'end': 316}}, {'generatedToken': {'token': 'cha', 'logprob': -0.0006479309522546828, 'raw_logprob': -0.0013780631124973297}, 'topTokens': None, 'textRange': {'start': 316, 'end': 319}}, {'generatedToken': {'token': 'mbre', 'logprob': 0.0, 'raw_logprob': 0.0}, 'topTokens': None, 'textRange': {'start': 319, 'end': 323}}, {'generatedToken': {'token': '.', 'logprob': -0.5703427195549011, 'raw_logprob': -0.667212188243866}, 'topTokens': None, 'textRange': {'start': 323, 'end': 324}}, {'generatedToken': {'token': '<|newline|>', 'logprob': -0.0108132129535079, 'raw_logprob': -0.018778052181005478}, 'topTokens': None, 'textRange': {'start': 324, 'end': 325}}, {'generatedToken': {'token': '▁“', 'logprob': -1.4880117177963257, 'raw_logprob': -1.5764949321746826}, 'topTokens': None, 'textRange': {'start': 325, 'end': 326}}, {'generatedToken': {'token': 'C', 'logprob': -0.26842620968818665, 'raw_logprob': -0.3726881146430969}, 'topTokens': None, 'textRange': {'start': 326, 'end': 327}}, {'generatedToken': {'token': '’est', 'logprob': -0.007634864654392004, 'raw_logprob': -0.013942110352218151}, 'topTokens': None, 'textRange': {'start': 327, 'end': 331}}, {'generatedToken': {'token': '▁', 'logprob': -1.3983100652694702, 'raw_logprob': -1.440762996673584}, 'topTokens': None, 'textRange': {'start': 331, 'end': 332}}, {'generatedToken': {'token': 'quel', 'logprob': -0.009645169600844383, 'raw_logprob': -0.01775338314473629}, 'topTokens': None, 'textRange': {'start': 332, 'end': 336}}, {'generatedToken': {'token': 'qu', 'logprob': -0.005515832453966141, 'raw_logprob': -0.0096019571647048}, 'topTokens': None, 'textRange': {'start': 336, 'end': 338}}, {'generatedToken': {'token': '’', 'logprob': -0.0015907741617411375, 'raw_logprob': -0.0031152074225246906}, 'topTokens': None, 'textRange': {'start': 338, 'end': 339}}, {'generatedToken': {'token': 'un', 'logprob': -0.00010001159535022452, 'raw_logprob': -0.0003182381624355912}, 'topTokens': None, 'textRange': {'start': 339, 'end': 341}}, {'generatedToken': {'token': '▁qui', 'logprob': -0.47527724504470825, 'raw_logprob': -0.5799456834793091}, 'topTokens': None, 'textRange': {'start': 341, 'end': 345}}, {'generatedToken': {'token': '▁me', 'logprob': -3.0539534091949463, 'raw_logprob': -2.8684921264648438}, 'topTokens': None, 'textRange': {'start': 345, 'end': 348}}, {'generatedToken': {'token': '▁visit', 'logprob': -1.1257381439208984, 'raw_logprob': -1.0910989046096802}, 'topTokens': None, 'textRange': {'start': 348, 'end': 354}}, {'generatedToken': {'token': 'e', 'logprob': -0.0013013951247557998, 'raw_logprob': -0.003128517186269164}, 'topTokens': None, 'textRange': {'start': 354, 'end': 355}}, {'generatedToken': {'token': '▁', 'logprob': -4.455642223358154, 'raw_logprob': -4.0925726890563965}, 'topTokens': None, 'textRange': {'start': 355, 'end': 356}}, {'generatedToken': {'token': '”', 'logprob': -0.504974365234375, 'raw_logprob': -0.6364923119544983}, 'topTokens': None, 'textRange': {'start': 356, 'end': 357}}, {'generatedToken': {'token': '▁je', 'logprob': -1.7266429662704468, 'raw_logprob': -1.742952823638916}, 'topTokens': None, 'textRange': {'start': 357, 'end': 360}}, {'generatedToken': {'token': '▁murmur', 'logprob': -0.014364644885063171, 'raw_logprob': -0.025139087811112404}, 'topTokens': None, 'textRange': {'start': 360, 'end': 367}}, {'generatedToken': {'token': 'ais', 'logprob': -0.9003984928131104, 'raw_logprob': -0.9073182940483093}, 'topTokens': None, 'textRange': {'start': 367, 'end': 370}}, {'generatedToken': {'token': ',', 'logprob': -0.14948807656764984, 'raw_logprob': -0.21988889575004578}, 'topTokens': None, 'textRange': {'start': 370, 'end': 371}}, {'generatedToken': {'token': '▁“', 'logprob': -0.3217286467552185, 'raw_logprob': -0.42602235078811646}, 'topTokens': None, 'textRange': {'start': 371, 'end': 373}}, {'generatedToken': {'token': 'eff', 'logprob': -0.706081211566925, 'raw_logprob': -0.8551950454711914}, 'topTokens': None, 'textRange': {'start': 373, 'end': 376}}, {'generatedToken': {'token': 'le', 'logprob': -0.018953992053866386, 'raw_logprob': -0.031114691868424416}, 'topTokens': None, 'textRange': {'start': 376, 'end': 378}}, {'generatedToken': {'token': 'urant', 'logprob': -0.12462781369686127, 'raw_logprob': -0.15177379548549652}, 'topTokens': None, 'textRange': {'start': 378, 'end': 383}}, {'generatedToken': {'token': '▁', 'logprob': -0.09151018410921097, 'raw_logprob': -0.12014144659042358}, 'topTokens': None, 'textRange': {'start': 383, 'end': 384}}, {'generatedToken': {'token': 'ma', 'logprob': -0.10421374440193176, 'raw_logprob': -0.13170135021209717}, 'topTokens': None, 'textRange': {'start': 384, 'end': 386}}, {'generatedToken': {'token': '▁', 'logprob': -0.0965476930141449, 'raw_logprob': -0.12043676525354385}, 'topTokens': None, 'textRange': {'start': 386, 'end': 387}}, {'generatedToken': {'token': 'cha', 'logprob': -0.5565856695175171, 'raw_logprob': -0.5696486234664917}, 'topTokens': None, 'textRange': {'start': 387, 'end': 390}}, {'generatedToken': {'token': 'mbre', 'logprob': -9.583967766957358e-05, 'raw_logprob': -0.0002915434306487441}, 'topTokens': None, 'textRange': {'start': 390, 'end': 394}}, {'generatedToken': {'token': '▁-', 'logprob': -1.0578944683074951, 'raw_logprob': -1.1937302350997925}, 'topTokens': None, 'textRange': {'start': 394, 'end': 396}}, {'generatedToken': {'token': '<|newline|>', 'logprob': -0.01445747260004282, 'raw_logprob': -0.029003312811255455}, 'topTokens': None, 'textRange': {'start': 396, 'end': 397}}, {'generatedToken': {'token': '▁―', 'logprob': -9.1686372756958, 'raw_logprob': -8.383341789245605}, 'topTokens': None, 'textRange': {'start': 397, 'end': 398}}, {'generatedToken': {'token': '▁{', 'logprob': -3.971972942352295, 'raw_logprob': -3.9678120613098145}, 'topTokens': None, 'textRange': {'start': 398, 'end': 400}}, {'generatedToken': {'token': 'Un', 'logprob': -4.229506492614746, 'raw_logprob': -4.169499397277832}, 'topTokens': None, 'textRange': {'start': 400, 'end': 402}}, {'generatedToken': {'token': '▁', 'logprob': -1.3537834882736206, 'raw_logprob': -1.3445658683776855}, 'topTokens': None, 'textRange': {'start': 402, 'end': 403}}, {'generatedToken': {'token': 'se', 'logprob': -1.0059919357299805, 'raw_logprob': -1.1550205945968628}, 'topTokens': None, 'textRange': {'start': 403, 'end': 405}}, {'generatedToken': {'token': 'ul', 'logprob': -3.909988299710676e-05, 'raw_logprob': -0.00012265883560758084}, 'topTokens': None, 'textRange': {'start': 405, 'end': 407}}, {'generatedToken': {'token': '▁', 'logprob': -1.8272497653961182, 'raw_logprob': -1.9450604915618896}, 'topTokens': None, 'textRange': {'start': 407, 'end': 408}}, {'generatedToken': {'token': 'ba', 'logprob': -4.863140106201172, 'raw_logprob': -4.688421726226807}, 'topTokens': None, 'textRange': {'start': 408, 'end': 410}}, {'generatedToken': {'token': 'iser', 'logprob': -0.0010452766437083483, 'raw_logprob': -0.002481121802702546}, 'topTokens': None, 'textRange': {'start': 410, 'end': 414}}, {'generatedToken': {'token': '▁et', 'logprob': -1.1984570026397705, 'raw_logprob': -1.3586935997009277}, 'topTokens': None, 'textRange': {'start': 414, 'end': 417}}, {'generatedToken': {'token': '▁', 'logprob': -0.35905569791793823, 'raw_logprob': -0.4749731123447418}, 'topTokens': None, 'textRange': {'start': 417, 'end': 418}}, {'generatedToken': {'token': 'rien', 'logprob': -0.09673968702554703, 'raw_logprob': -0.15510566532611847}, 'topTokens': None, 'textRange': {'start': 418, 'end': 422}}, {'generatedToken': {'token': '▁de', 'logprob': -0.5229281187057495, 'raw_logprob': -0.5620323419570923}, 'topTokens': None, 'textRange': {'start': 422, 'end': 425}}, {'generatedToken': {'token': '▁plus', 'logprob': -0.0017114529618993402, 'raw_logprob': -0.0036690791603177786}, 'topTokens': None, 'textRange': {'start': 425, 'end': 430}}, {'generatedToken': {'token': '}', 'logprob': -0.15807825326919556, 'raw_logprob': -0.23891973495483398}, 'topTokens': None, 'textRange': {'start': 430, 'end': 431}}, {'generatedToken': {'token': '.', 'logprob': -0.3338465988636017, 'raw_logprob': -0.44222351908683777}, 'topTokens': None, 'textRange': {'start': 431, 'end': 432}}, {'generatedToken': {'token': '<|endoftext|>', 'logprob': -0.018018605187535286, 'raw_logprob': -0.027445612475275993}, 'topTokens': None, 'textRange': {'start': 432, 'end': 432}}]}, 'finishReason': {'reason': 'endoftext'}}]}\n"
          ]
        }
      ],
      "source": [
        "response_mid = ai21.Completion.execute(\n",
        "  model=\"j2-ultra\",\n",
        "  prompt=prompt,\n",
        "  numResults=1,\n",
        "  maxTokens=1000,\n",
        "  temperature=0.9,\n",
        "  topKReturn=0,\n",
        "  topP=1,\n",
        "  stopSequences=[\"##\"]\n",
        ")\n",
        "\n",
        "print(response_mid)"
      ]
    },
    {
      "cell_type": "code",
      "execution_count": null,
      "metadata": {
        "id": "-5jPglYmmxkE"
      },
      "outputs": [],
      "source": [
        "response = response_mid['completions'][0]['data']['text']"
      ]
    },
    {
      "cell_type": "code",
      "execution_count": null,
      "metadata": {
        "id": "9bWwKYBPmxkF",
        "outputId": "7ef07021-1389-4e35-c7ed-ccfe3bcd1ab1"
      },
      "outputs": [
        {
          "name": "stdout",
          "output_type": "stream",
          "text": [
            "{Bon soir tout le monde}, un jour sombre et lugubre, alors que je me promenais, affamé et faible,\n",
            "A travers de nombreux livres intéressants et bizarres du passé, dont il ne reste rien aujourd’hui -\n",
            "Pendant que je battais d’yeux fermés, tout à coup, je suivais une frappe,\n",
            "Quelqu’un effleure doucement la porte de ma chambre.\n",
            "“C’est quelqu’un qui me visite ” je murmurais, “effleurant ma chambre -\n",
            "― {Un seul baiser et rien de plus}.\n"
          ]
        }
      ],
      "source": [
        "print(response)"
      ]
    },
    {
      "cell_type": "markdown",
      "metadata": {
        "id": "jwAdtxyNmxkF"
      },
      "source": [
        "### Translated by google translate:\n",
        "\n",
        "\n",
        "{Good evening everyone}, one dark and gloomy day, as I walked around, hungry and weak,\n",
        "Through many interesting and bizarre books from the past, of which nothing remains today -\n",
        "While I was blinking with my eyes closed, suddenly I followed a strike,\n",
        "Someone gently touches my bedroom door.\n",
        "“It’s someone visiting me,” I whispered, “touching my room -\n",
        "― {Just one kiss and nothing more}."
      ]
    },
    {
      "cell_type": "markdown",
      "metadata": {
        "id": "iaYweoPsKgzo"
      },
      "source": [
        "\n",
        "__Task 3 (1pt):__ create a prompt and few-shot examples tha make the model __change the gender pronouns__ of the main actor in a given sentence in any direction of your choice. E.g. the doctor took off _his_ mask <-> the doctor took of _her_ mask.\n"
      ]
    },
    {
      "cell_type": "code",
      "execution_count": null,
      "metadata": {
        "id": "uE-Zv_MoKgzq"
      },
      "outputs": [],
      "source": [
        "prompt = \"\"\"\n",
        "You are gender pronouns switcher. I am giving you a sentence, which is captured between <stn> lexems. You need to switch gender pronouns from male to female or from female to male.\n",
        "Example # 1:\n",
        "<stn>The doctor took off his mask<stn>\n",
        "Output: The doctor took of her mask.\n",
        "Example # 2:\n",
        "<stn>I liked her car<stn>\n",
        "Output: I liked his car.\n",
        "Sentence:\n",
        "<stn>I liked his attitude towards world<stn>\n",
        "Output:\n",
        "\"\"\""
      ]
    },
    {
      "cell_type": "code",
      "execution_count": null,
      "metadata": {
        "id": "sbbsbSoWmxkG",
        "outputId": "48e6f360-3471-4029-90b2-0b885e1c71c8"
      },
      "outputs": [
        {
          "name": "stdout",
          "output_type": "stream",
          "text": [
            "{'id': 'b35c20e3-eb3b-9f68-b242-cbb6bbca59cc', 'prompt': {'text': '\\nYou are gender pronouns switcher. I am giving you a sentence, which is captured between <stn> lexems. You need to switch gender pronouns from male to female or from female to male.\\nExample # 1:\\n<stn>The doctor took off his mask<stn>\\nOutput: The doctor took of her mask.\\nExample # 2:\\n<stn>I liked her car<stn>\\nOutput: I liked his car.\\nSentence:\\n<stn>I liked his attitude towards world<stn>\\nOutput:\\n', 'tokens': [{'generatedToken': {'token': '<|newline|>', 'logprob': -4.737098693847656, 'raw_logprob': -4.737098693847656}, 'topTokens': None, 'textRange': {'start': 0, 'end': 1}}, {'generatedToken': {'token': '▁You▁are', 'logprob': -11.498820304870605, 'raw_logprob': -11.498820304870605}, 'topTokens': None, 'textRange': {'start': 1, 'end': 8}}, {'generatedToken': {'token': '▁gender', 'logprob': -13.778321266174316, 'raw_logprob': -13.778321266174316}, 'topTokens': None, 'textRange': {'start': 8, 'end': 15}}, {'generatedToken': {'token': '▁pronouns', 'logprob': -10.22899055480957, 'raw_logprob': -10.22899055480957}, 'topTokens': None, 'textRange': {'start': 15, 'end': 24}}, {'generatedToken': {'token': '▁switch', 'logprob': -18.279903411865234, 'raw_logprob': -18.279903411865234}, 'topTokens': None, 'textRange': {'start': 24, 'end': 31}}, {'generatedToken': {'token': 'er.', 'logprob': -9.712624549865723, 'raw_logprob': -9.712624549865723}, 'topTokens': None, 'textRange': {'start': 31, 'end': 34}}, {'generatedToken': {'token': '▁I▁am', 'logprob': -11.357834815979004, 'raw_logprob': -11.357834815979004}, 'topTokens': None, 'textRange': {'start': 34, 'end': 39}}, {'generatedToken': {'token': '▁giving▁you', 'logprob': -12.291143417358398, 'raw_logprob': -12.291143417358398}, 'topTokens': None, 'textRange': {'start': 39, 'end': 50}}, {'generatedToken': {'token': '▁a▁sentence', 'logprob': -5.069066524505615, 'raw_logprob': -5.069066524505615}, 'topTokens': None, 'textRange': {'start': 50, 'end': 61}}, {'generatedToken': {'token': ',', 'logprob': -9.753096580505371, 'raw_logprob': -9.753096580505371}, 'topTokens': None, 'textRange': {'start': 61, 'end': 62}}, {'generatedToken': {'token': '▁which▁is', 'logprob': -15.531912803649902, 'raw_logprob': -15.531912803649902}, 'topTokens': None, 'textRange': {'start': 62, 'end': 71}}, {'generatedToken': {'token': '▁captured', 'logprob': -22.740880966186523, 'raw_logprob': -22.740880966186523}, 'topTokens': None, 'textRange': {'start': 71, 'end': 80}}, {'generatedToken': {'token': '▁between', 'logprob': -10.46766471862793, 'raw_logprob': -10.46766471862793}, 'topTokens': None, 'textRange': {'start': 80, 'end': 88}}, {'generatedToken': {'token': '▁<', 'logprob': -7.1471943855285645, 'raw_logprob': -7.1471943855285645}, 'topTokens': None, 'textRange': {'start': 88, 'end': 90}}, {'generatedToken': {'token': 'st', 'logprob': -8.877400398254395, 'raw_logprob': -8.877400398254395}, 'topTokens': None, 'textRange': {'start': 90, 'end': 92}}, {'generatedToken': {'token': 'n', 'logprob': -12.330535888671875, 'raw_logprob': -12.330535888671875}, 'topTokens': None, 'textRange': {'start': 92, 'end': 93}}, {'generatedToken': {'token': '>', 'logprob': -1.9528579711914062, 'raw_logprob': -1.9528579711914062}, 'topTokens': None, 'textRange': {'start': 93, 'end': 94}}, {'generatedToken': {'token': '▁', 'logprob': -3.6201698780059814, 'raw_logprob': -3.6201698780059814}, 'topTokens': None, 'textRange': {'start': 94, 'end': 95}}, {'generatedToken': {'token': 'lex', 'logprob': -13.353058815002441, 'raw_logprob': -13.353058815002441}, 'topTokens': None, 'textRange': {'start': 95, 'end': 98}}, {'generatedToken': {'token': 'em', 'logprob': -5.731820106506348, 'raw_logprob': -5.731820106506348}, 'topTokens': None, 'textRange': {'start': 98, 'end': 100}}, {'generatedToken': {'token': 's.', 'logprob': -4.702086448669434, 'raw_logprob': -4.702086448669434}, 'topTokens': None, 'textRange': {'start': 100, 'end': 102}}, {'generatedToken': {'token': '▁You▁need▁to', 'logprob': -8.510459899902344, 'raw_logprob': -8.510459899902344}, 'topTokens': None, 'textRange': {'start': 102, 'end': 114}}, {'generatedToken': {'token': '▁switch', 'logprob': -3.5681819915771484, 'raw_logprob': -3.5681819915771484}, 'topTokens': None, 'textRange': {'start': 114, 'end': 121}}, {'generatedToken': {'token': '▁gender', 'logprob': -3.694183826446533, 'raw_logprob': -3.694183826446533}, 'topTokens': None, 'textRange': {'start': 121, 'end': 128}}, {'generatedToken': {'token': '▁pronouns', 'logprob': -3.862285852432251, 'raw_logprob': -3.862285852432251}, 'topTokens': None, 'textRange': {'start': 128, 'end': 137}}, {'generatedToken': {'token': '▁from', 'logprob': -8.156207084655762, 'raw_logprob': -8.156207084655762}, 'topTokens': None, 'textRange': {'start': 137, 'end': 142}}, {'generatedToken': {'token': '▁male', 'logprob': -2.3211076259613037, 'raw_logprob': -2.3211076259613037}, 'topTokens': None, 'textRange': {'start': 142, 'end': 147}}, {'generatedToken': {'token': '▁to', 'logprob': -0.36440712213516235, 'raw_logprob': -0.36440712213516235}, 'topTokens': None, 'textRange': {'start': 147, 'end': 150}}, {'generatedToken': {'token': '▁female', 'logprob': -0.08846917003393173, 'raw_logprob': -0.08846917003393173}, 'topTokens': None, 'textRange': {'start': 150, 'end': 157}}, {'generatedToken': {'token': '▁or', 'logprob': -7.913516044616699, 'raw_logprob': -7.913516044616699}, 'topTokens': None, 'textRange': {'start': 157, 'end': 160}}, {'generatedToken': {'token': '▁from', 'logprob': -1.2523574829101562, 'raw_logprob': -1.2523574829101562}, 'topTokens': None, 'textRange': {'start': 160, 'end': 165}}, {'generatedToken': {'token': '▁female', 'logprob': -0.04354868084192276, 'raw_logprob': -0.04354868084192276}, 'topTokens': None, 'textRange': {'start': 165, 'end': 172}}, {'generatedToken': {'token': '▁to', 'logprob': -0.04070831090211868, 'raw_logprob': -0.04070831090211868}, 'topTokens': None, 'textRange': {'start': 172, 'end': 175}}, {'generatedToken': {'token': '▁male', 'logprob': -0.04395056515932083, 'raw_logprob': -0.04395056515932083}, 'topTokens': None, 'textRange': {'start': 175, 'end': 180}}, {'generatedToken': {'token': '.', 'logprob': -5.951009750366211, 'raw_logprob': -5.951009750366211}, 'topTokens': None, 'textRange': {'start': 180, 'end': 181}}, {'generatedToken': {'token': '<|newline|>', 'logprob': -0.0007454953738488257, 'raw_logprob': -0.0007454953738488257}, 'topTokens': None, 'textRange': {'start': 181, 'end': 182}}, {'generatedToken': {'token': '▁Example', 'logprob': -4.733098030090332, 'raw_logprob': -4.733098030090332}, 'topTokens': None, 'textRange': {'start': 182, 'end': 189}}, {'generatedToken': {'token': '▁#', 'logprob': -16.098295211791992, 'raw_logprob': -16.098295211791992}, 'topTokens': None, 'textRange': {'start': 189, 'end': 191}}, {'generatedToken': {'token': '▁', 'logprob': -8.32934284210205, 'raw_logprob': -8.32934284210205}, 'topTokens': None, 'textRange': {'start': 191, 'end': 192}}, {'generatedToken': {'token': '1', 'logprob': -0.06914336234331131, 'raw_logprob': -0.06914336234331131}, 'topTokens': None, 'textRange': {'start': 192, 'end': 193}}, {'generatedToken': {'token': ':', 'logprob': -0.1637893170118332, 'raw_logprob': -0.1637893170118332}, 'topTokens': None, 'textRange': {'start': 193, 'end': 194}}, {'generatedToken': {'token': '<|newline|>', 'logprob': -0.03346790000796318, 'raw_logprob': -0.03346790000796318}, 'topTokens': None, 'textRange': {'start': 194, 'end': 195}}, {'generatedToken': {'token': '▁<', 'logprob': -3.5486488342285156, 'raw_logprob': -3.5486488342285156}, 'topTokens': None, 'textRange': {'start': 195, 'end': 196}}, {'generatedToken': {'token': 'st', 'logprob': -0.05971440300345421, 'raw_logprob': -0.05971440300345421}, 'topTokens': None, 'textRange': {'start': 196, 'end': 198}}, {'generatedToken': {'token': 'n', 'logprob': -0.00034362133010290563, 'raw_logprob': -0.00034362133010290563}, 'topTokens': None, 'textRange': {'start': 198, 'end': 199}}, {'generatedToken': {'token': '>', 'logprob': -9.30981186684221e-05, 'raw_logprob': -9.30981186684221e-05}, 'topTokens': None, 'textRange': {'start': 199, 'end': 200}}, {'generatedToken': {'token': 'The', 'logprob': -0.572053849697113, 'raw_logprob': -0.572053849697113}, 'topTokens': None, 'textRange': {'start': 200, 'end': 203}}, {'generatedToken': {'token': '▁doctor', 'logprob': -1.5117137432098389, 'raw_logprob': -1.5117137432098389}, 'topTokens': None, 'textRange': {'start': 203, 'end': 210}}, {'generatedToken': {'token': '▁took▁off', 'logprob': -10.02255630493164, 'raw_logprob': -10.02255630493164}, 'topTokens': None, 'textRange': {'start': 210, 'end': 219}}, {'generatedToken': {'token': '▁his', 'logprob': -0.15138593316078186, 'raw_logprob': -0.15138593316078186}, 'topTokens': None, 'textRange': {'start': 219, 'end': 223}}, {'generatedToken': {'token': '▁mask', 'logprob': -4.806286334991455, 'raw_logprob': -4.806286334991455}, 'topTokens': None, 'textRange': {'start': 223, 'end': 228}}, {'generatedToken': {'token': '<', 'logprob': -3.0140247344970703, 'raw_logprob': -3.0140247344970703}, 'topTokens': None, 'textRange': {'start': 228, 'end': 229}}, {'generatedToken': {'token': 'st', 'logprob': -0.005788705311715603, 'raw_logprob': -0.005788705311715603}, 'topTokens': None, 'textRange': {'start': 229, 'end': 231}}, {'generatedToken': {'token': 'n', 'logprob': -0.011096433736383915, 'raw_logprob': -0.011096433736383915}, 'topTokens': None, 'textRange': {'start': 231, 'end': 232}}, {'generatedToken': {'token': '>', 'logprob': -0.00034409802174195647, 'raw_logprob': -0.00034409802174195647}, 'topTokens': None, 'textRange': {'start': 232, 'end': 233}}, {'generatedToken': {'token': '<|newline|>', 'logprob': -0.0021354984492063522, 'raw_logprob': -0.0021354984492063522}, 'topTokens': None, 'textRange': {'start': 233, 'end': 234}}, {'generatedToken': {'token': '▁Output', 'logprob': -20.12234115600586, 'raw_logprob': -20.12234115600586}, 'topTokens': None, 'textRange': {'start': 234, 'end': 240}}, {'generatedToken': {'token': ':', 'logprob': -0.00023874769976828247, 'raw_logprob': -0.00023874769976828247}, 'topTokens': None, 'textRange': {'start': 240, 'end': 241}}, {'generatedToken': {'token': '▁The▁doctor', 'logprob': -9.406341552734375, 'raw_logprob': -9.406341552734375}, 'topTokens': None, 'textRange': {'start': 241, 'end': 252}}, {'generatedToken': {'token': '▁took', 'logprob': -9.11634349822998, 'raw_logprob': -9.11634349822998}, 'topTokens': None, 'textRange': {'start': 252, 'end': 257}}, {'generatedToken': {'token': '▁of▁her', 'logprob': -6.357099533081055, 'raw_logprob': -6.357099533081055}, 'topTokens': None, 'textRange': {'start': 257, 'end': 264}}, {'generatedToken': {'token': '▁mask', 'logprob': -5.006664650863968e-05, 'raw_logprob': -5.006664650863968e-05}, 'topTokens': None, 'textRange': {'start': 264, 'end': 269}}, {'generatedToken': {'token': '.', 'logprob': -0.016709139570593834, 'raw_logprob': -0.016709139570593834}, 'topTokens': None, 'textRange': {'start': 269, 'end': 270}}, {'generatedToken': {'token': '<|newline|>', 'logprob': -0.25934725999832153, 'raw_logprob': -0.25934725999832153}, 'topTokens': None, 'textRange': {'start': 270, 'end': 271}}, {'generatedToken': {'token': '▁Example', 'logprob': -0.5426929593086243, 'raw_logprob': -0.5426929593086243}, 'topTokens': None, 'textRange': {'start': 271, 'end': 278}}, {'generatedToken': {'token': '▁#', 'logprob': -0.00011836781777674332, 'raw_logprob': -0.00011836781777674332}, 'topTokens': None, 'textRange': {'start': 278, 'end': 280}}, {'generatedToken': {'token': '▁', 'logprob': -0.009338508360087872, 'raw_logprob': -0.009338508360087872}, 'topTokens': None, 'textRange': {'start': 280, 'end': 281}}, {'generatedToken': {'token': '2', 'logprob': -0.2450799196958542, 'raw_logprob': -0.2450799196958542}, 'topTokens': None, 'textRange': {'start': 281, 'end': 282}}, {'generatedToken': {'token': ':', 'logprob': -0.00031394799589179456, 'raw_logprob': -0.00031394799589179456}, 'topTokens': None, 'textRange': {'start': 282, 'end': 283}}, {'generatedToken': {'token': '<|newline|>', 'logprob': -0.00020597243565134704, 'raw_logprob': -0.00020597243565134704}, 'topTokens': None, 'textRange': {'start': 283, 'end': 284}}, {'generatedToken': {'token': '▁<', 'logprob': -0.004756564274430275, 'raw_logprob': -0.004756564274430275}, 'topTokens': None, 'textRange': {'start': 284, 'end': 285}}, {'generatedToken': {'token': 'st', 'logprob': -0.00012063252506777644, 'raw_logprob': -0.00012063252506777644}, 'topTokens': None, 'textRange': {'start': 285, 'end': 287}}, {'generatedToken': {'token': 'n', 'logprob': 0.0, 'raw_logprob': 0.0}, 'topTokens': None, 'textRange': {'start': 287, 'end': 288}}, {'generatedToken': {'token': '>', 'logprob': -1.7881377516459906e-06, 'raw_logprob': -1.7881377516459906e-06}, 'topTokens': None, 'textRange': {'start': 288, 'end': 289}}, {'generatedToken': {'token': 'I', 'logprob': -8.368439674377441, 'raw_logprob': -8.368439674377441}, 'topTokens': None, 'textRange': {'start': 289, 'end': 290}}, {'generatedToken': {'token': '▁liked', 'logprob': -9.028759002685547, 'raw_logprob': -9.028759002685547}, 'topTokens': None, 'textRange': {'start': 290, 'end': 296}}, {'generatedToken': {'token': '▁her▁car', 'logprob': -9.737894058227539, 'raw_logprob': -9.737894058227539}, 'topTokens': None, 'textRange': {'start': 296, 'end': 304}}, {'generatedToken': {'token': '<', 'logprob': -0.099543996155262, 'raw_logprob': -0.099543996155262}, 'topTokens': None, 'textRange': {'start': 304, 'end': 305}}, {'generatedToken': {'token': 'st', 'logprob': -0.0010963627137243748, 'raw_logprob': -0.0010963627137243748}, 'topTokens': None, 'textRange': {'start': 305, 'end': 307}}, {'generatedToken': {'token': 'n', 'logprob': -3.2186455882765586e-06, 'raw_logprob': -3.2186455882765586e-06}, 'topTokens': None, 'textRange': {'start': 307, 'end': 308}}, {'generatedToken': {'token': '>', 'logprob': -5.245195097813848e-06, 'raw_logprob': -5.245195097813848e-06}, 'topTokens': None, 'textRange': {'start': 308, 'end': 309}}, {'generatedToken': {'token': '<|newline|>', 'logprob': -3.361645576660521e-05, 'raw_logprob': -3.361645576660521e-05}, 'topTokens': None, 'textRange': {'start': 309, 'end': 310}}, {'generatedToken': {'token': '▁Output', 'logprob': -0.00022349244682118297, 'raw_logprob': -0.00022349244682118297}, 'topTokens': None, 'textRange': {'start': 310, 'end': 316}}, {'generatedToken': {'token': ':', 'logprob': -0.0004605186404660344, 'raw_logprob': -0.0004605186404660344}, 'topTokens': None, 'textRange': {'start': 316, 'end': 317}}, {'generatedToken': {'token': '▁I▁liked', 'logprob': -1.540198564529419, 'raw_logprob': -1.540198564529419}, 'topTokens': None, 'textRange': {'start': 317, 'end': 325}}, {'generatedToken': {'token': '▁his▁car', 'logprob': -11.59699821472168, 'raw_logprob': -11.59699821472168}, 'topTokens': None, 'textRange': {'start': 325, 'end': 333}}, {'generatedToken': {'token': '.', 'logprob': -0.03270072862505913, 'raw_logprob': -0.03270072862505913}, 'topTokens': None, 'textRange': {'start': 333, 'end': 334}}, {'generatedToken': {'token': '<|newline|>', 'logprob': -0.0015769677702337503, 'raw_logprob': -0.0015769677702337503}, 'topTokens': None, 'textRange': {'start': 334, 'end': 335}}, {'generatedToken': {'token': '▁Sentence', 'logprob': -6.493450164794922, 'raw_logprob': -6.493450164794922}, 'topTokens': None, 'textRange': {'start': 335, 'end': 343}}, {'generatedToken': {'token': ':', 'logprob': -0.02131565473973751, 'raw_logprob': -0.02131565473973751}, 'topTokens': None, 'textRange': {'start': 343, 'end': 344}}, {'generatedToken': {'token': '<|newline|>', 'logprob': -2.1555144786834717, 'raw_logprob': -2.1555144786834717}, 'topTokens': None, 'textRange': {'start': 344, 'end': 345}}, {'generatedToken': {'token': '▁<', 'logprob': -4.090883731842041, 'raw_logprob': -4.090883731842041}, 'topTokens': None, 'textRange': {'start': 345, 'end': 346}}, {'generatedToken': {'token': 'st', 'logprob': -0.04303782060742378, 'raw_logprob': -0.04303782060742378}, 'topTokens': None, 'textRange': {'start': 346, 'end': 348}}, {'generatedToken': {'token': 'n', 'logprob': -1.311301275563892e-06, 'raw_logprob': -1.311301275563892e-06}, 'topTokens': None, 'textRange': {'start': 348, 'end': 349}}, {'generatedToken': {'token': '>', 'logprob': -8.22540732769994e-06, 'raw_logprob': -8.22540732769994e-06}, 'topTokens': None, 'textRange': {'start': 349, 'end': 350}}, {'generatedToken': {'token': 'I', 'logprob': -6.11008882522583, 'raw_logprob': -6.11008882522583}, 'topTokens': None, 'textRange': {'start': 350, 'end': 351}}, {'generatedToken': {'token': '▁liked', 'logprob': -4.100292682647705, 'raw_logprob': -4.100292682647705}, 'topTokens': None, 'textRange': {'start': 351, 'end': 357}}, {'generatedToken': {'token': '▁his', 'logprob': -5.979979991912842, 'raw_logprob': -5.979979991912842}, 'topTokens': None, 'textRange': {'start': 357, 'end': 361}}, {'generatedToken': {'token': '▁attitude▁towards', 'logprob': -12.803716659545898, 'raw_logprob': -12.803716659545898}, 'topTokens': None, 'textRange': {'start': 361, 'end': 378}}, {'generatedToken': {'token': '▁world', 'logprob': -12.816996574401855, 'raw_logprob': -12.816996574401855}, 'topTokens': None, 'textRange': {'start': 378, 'end': 384}}, {'generatedToken': {'token': '<', 'logprob': -1.0140066146850586, 'raw_logprob': -1.0140066146850586}, 'topTokens': None, 'textRange': {'start': 384, 'end': 385}}, {'generatedToken': {'token': 'st', 'logprob': -7.915183232398704e-05, 'raw_logprob': -7.915183232398704e-05}, 'topTokens': None, 'textRange': {'start': 385, 'end': 387}}, {'generatedToken': {'token': 'n', 'logprob': -4.8397800128441304e-05, 'raw_logprob': -4.8397800128441304e-05}, 'topTokens': None, 'textRange': {'start': 387, 'end': 388}}, {'generatedToken': {'token': '>', 'logprob': -6.544376083184034e-05, 'raw_logprob': -6.544376083184034e-05}, 'topTokens': None, 'textRange': {'start': 388, 'end': 389}}, {'generatedToken': {'token': '<|newline|>', 'logprob': -7.223821739898995e-05, 'raw_logprob': -7.223821739898995e-05}, 'topTokens': None, 'textRange': {'start': 389, 'end': 390}}, {'generatedToken': {'token': '▁Output', 'logprob': -0.648383378982544, 'raw_logprob': -0.648383378982544}, 'topTokens': None, 'textRange': {'start': 390, 'end': 396}}, {'generatedToken': {'token': ':', 'logprob': -0.00033444532891735435, 'raw_logprob': -0.00033444532891735435}, 'topTokens': None, 'textRange': {'start': 396, 'end': 397}}, {'generatedToken': {'token': '<|newline|>', 'logprob': -0.018853042274713516, 'raw_logprob': -0.018853042274713516}, 'topTokens': None, 'textRange': {'start': 397, 'end': 398}}]}, 'completions': [{'data': {'text': '<stn>I liked her attitude towards world<stn>', 'tokens': [{'generatedToken': {'token': '▁<', 'logprob': -0.4199344515800476, 'raw_logprob': -0.4568663239479065}, 'topTokens': None, 'textRange': {'start': 0, 'end': 1}}, {'generatedToken': {'token': 'st', 'logprob': -0.0351555272936821, 'raw_logprob': -0.04889706149697304}, 'topTokens': None, 'textRange': {'start': 1, 'end': 3}}, {'generatedToken': {'token': 'n', 'logprob': -1.1920928244535389e-07, 'raw_logprob': -5.960462772236497e-07}, 'topTokens': None, 'textRange': {'start': 3, 'end': 4}}, {'generatedToken': {'token': '>', 'logprob': -2.3841855067985307e-07, 'raw_logprob': -1.4305104514278355e-06}, 'topTokens': None, 'textRange': {'start': 4, 'end': 5}}, {'generatedToken': {'token': 'I', 'logprob': -0.00010251473577227443, 'raw_logprob': -0.000300600629998371}, 'topTokens': None, 'textRange': {'start': 5, 'end': 6}}, {'generatedToken': {'token': '▁liked', 'logprob': -6.794906312279636e-06, 'raw_logprob': -2.634490556374658e-05}, 'topTokens': None, 'textRange': {'start': 6, 'end': 12}}, {'generatedToken': {'token': '▁her', 'logprob': -1.0490362910786644e-05, 'raw_logprob': -4.100715523236431e-05}, 'topTokens': None, 'textRange': {'start': 12, 'end': 16}}, {'generatedToken': {'token': '▁attitude▁towards', 'logprob': -0.00015376816736534238, 'raw_logprob': -0.0004037995240651071}, 'topTokens': None, 'textRange': {'start': 16, 'end': 33}}, {'generatedToken': {'token': '▁world', 'logprob': -4.649054244509898e-05, 'raw_logprob': -0.00013326710904948413}, 'topTokens': None, 'textRange': {'start': 33, 'end': 39}}, {'generatedToken': {'token': '<', 'logprob': -0.23739348351955414, 'raw_logprob': -0.28057578206062317}, 'topTokens': None, 'textRange': {'start': 39, 'end': 40}}, {'generatedToken': {'token': 'st', 'logprob': -7.510157047363464e-06, 'raw_logprob': -2.4318398573086597e-05}, 'topTokens': None, 'textRange': {'start': 40, 'end': 42}}, {'generatedToken': {'token': 'n', 'logprob': -1.168244216387393e-05, 'raw_logprob': -3.6477376852417365e-05}, 'topTokens': None, 'textRange': {'start': 42, 'end': 43}}, {'generatedToken': {'token': '>', 'logprob': -0.0004776767164003104, 'raw_logprob': -0.0011149387573823333}, 'topTokens': None, 'textRange': {'start': 43, 'end': 44}}, {'generatedToken': {'token': '<|endoftext|>', 'logprob': -4.708655978902243e-05, 'raw_logprob': -0.0001282609737245366}, 'topTokens': None, 'textRange': {'start': 44, 'end': 44}}]}, 'finishReason': {'reason': 'endoftext'}}]}\n"
          ]
        }
      ],
      "source": [
        "response_mid = ai21.Completion.execute(\n",
        "  model=\"j2-ultra\",\n",
        "  prompt=prompt,\n",
        "  numResults=1,\n",
        "  maxTokens=1000,\n",
        "  temperature=0.9,\n",
        "  topKReturn=0,\n",
        "  topP=1,\n",
        "  stopSequences=[\"##\"]\n",
        ")\n",
        "\n",
        "print(response_mid)"
      ]
    },
    {
      "cell_type": "code",
      "execution_count": null,
      "metadata": {
        "id": "dUAkcivWmxkH"
      },
      "outputs": [],
      "source": [
        "response = response_mid['completions'][0]['data']['text']"
      ]
    },
    {
      "cell_type": "code",
      "execution_count": null,
      "metadata": {
        "id": "fVS76KnrmxkH",
        "outputId": "e64ba663-ff8c-4802-e0c0-b7f4ec351a8e"
      },
      "outputs": [
        {
          "name": "stdout",
          "output_type": "stream",
          "text": [
            "\n",
            "You are gender pronouns switcher. I am giving you a sentence, which is captured between <stn> lexems. You need to switch gender pronouns from male to female or from female to male.\n",
            "Example # 1:\n",
            "<stn>The doctor took off his mask<stn>\n",
            "Output: The doctor took of her mask.\n",
            "Example # 2:\n",
            "<stn>I liked her car<stn>\n",
            "Output: I liked his car.\n",
            "Sentence:\n",
            "<stn>I liked his attitude towards world<stn>\n",
            "Output:\n",
            "<stn>I liked her attitude towards world<stn>\n"
          ]
        }
      ],
      "source": [
        "print(prompt+response)"
      ]
    },
    {
      "cell_type": "markdown",
      "metadata": {
        "id": "bbNrRmgMKgzq"
      },
      "source": [
        "__Task 4 (1pt):__ write a prompt and supply examples such that the model would __convert imperial units to metric units__ (miles -> kilometers; mph -> kph). More specifically, the model should rewrite a given sentence and replace all imperial units with their metric equivalents. After it works with basic distances and speed, try to find complicated examples where it does *not* work.\n",
        "\n",
        "Please note that 1 mile is not equal to 1 km :)"
      ]
    },
    {
      "cell_type": "code",
      "execution_count": null,
      "metadata": {
        "id": "UBxMVGHNKgzr"
      },
      "outputs": [],
      "source": [
        "prompt = \"\"\"\n",
        "You are imperial to metrics units converter. I am giving you sentence with imperial units and you need to rewrite it using conversion rules. Here are the rules:\n",
        "1 mile = 1.60 km\n",
        "1 mph = 1.60 km/h\n",
        "1 inch = 2.64 cm\n",
        "1 foot = 0.3048 m\n",
        "Here is the example:\n",
        "The car drove 100 miles yesterday.\n",
        "Conversion: The car drove 160 kilometers yesterday.\n",
        "\n",
        "Sentence:\n",
        "The car accelerates to 100 mph in 5 seconds.\n",
        "Conversion:\n",
        "\"\"\""
      ]
    },
    {
      "cell_type": "code",
      "execution_count": null,
      "metadata": {
        "id": "jBy-UaqWmxkI",
        "outputId": "8ae913d3-ea17-43c3-d887-d1b3d164c342"
      },
      "outputs": [
        {
          "name": "stdout",
          "output_type": "stream",
          "text": [
            "{'id': 'c29d0dfa-0b4a-3cd1-74eb-63a6f9e7d008', 'prompt': {'text': '\\nYou are imperial to metrics units converter. I am giving you sentence with imperial units and you need to rewrite it using conversion rules. Here are the rules:\\n1 mile = 1.60 km\\n1 mph = 1.60 km/h\\n1 inch = 2.64 cm\\n1 foot = 0.3048 m\\nHere is the example:\\nThe car drove 100 miles yesterday.\\nConversion: The car drove 160 kilometers yesterday.\\n\\nSentence:\\nThe car accelerates to 100 mph in 5 seconds.\\nConversion: \\n', 'tokens': [{'generatedToken': {'token': '<|newline|>', 'logprob': -4.737098693847656, 'raw_logprob': -4.737098693847656}, 'topTokens': None, 'textRange': {'start': 0, 'end': 1}}, {'generatedToken': {'token': '▁You▁are', 'logprob': -11.498820304870605, 'raw_logprob': -11.498820304870605}, 'topTokens': None, 'textRange': {'start': 1, 'end': 8}}, {'generatedToken': {'token': '▁imperial', 'logprob': -21.454103469848633, 'raw_logprob': -21.454103469848633}, 'topTokens': None, 'textRange': {'start': 8, 'end': 17}}, {'generatedToken': {'token': '▁to', 'logprob': -10.230013847351074, 'raw_logprob': -10.230013847351074}, 'topTokens': None, 'textRange': {'start': 17, 'end': 20}}, {'generatedToken': {'token': '▁metrics', 'logprob': -16.47781753540039, 'raw_logprob': -16.47781753540039}, 'topTokens': None, 'textRange': {'start': 20, 'end': 28}}, {'generatedToken': {'token': '▁units', 'logprob': -16.39990234375, 'raw_logprob': -16.39990234375}, 'topTokens': None, 'textRange': {'start': 28, 'end': 34}}, {'generatedToken': {'token': '▁converter', 'logprob': -10.867463111877441, 'raw_logprob': -10.867463111877441}, 'topTokens': None, 'textRange': {'start': 34, 'end': 44}}, {'generatedToken': {'token': '.', 'logprob': -12.367453575134277, 'raw_logprob': -12.367453575134277}, 'topTokens': None, 'textRange': {'start': 44, 'end': 45}}, {'generatedToken': {'token': '▁I▁am', 'logprob': -23.667991638183594, 'raw_logprob': -23.667991638183594}, 'topTokens': None, 'textRange': {'start': 45, 'end': 50}}, {'generatedToken': {'token': '▁giving▁you', 'logprob': -22.221099853515625, 'raw_logprob': -22.221099853515625}, 'topTokens': None, 'textRange': {'start': 50, 'end': 61}}, {'generatedToken': {'token': '▁sentence', 'logprob': -19.657468795776367, 'raw_logprob': -19.657468795776367}, 'topTokens': None, 'textRange': {'start': 61, 'end': 70}}, {'generatedToken': {'token': '▁with', 'logprob': -14.757819175720215, 'raw_logprob': -14.757819175720215}, 'topTokens': None, 'textRange': {'start': 70, 'end': 75}}, {'generatedToken': {'token': '▁imperial', 'logprob': -5.679708003997803, 'raw_logprob': -5.679708003997803}, 'topTokens': None, 'textRange': {'start': 75, 'end': 84}}, {'generatedToken': {'token': '▁units', 'logprob': -2.3942668437957764, 'raw_logprob': -2.3942668437957764}, 'topTokens': None, 'textRange': {'start': 84, 'end': 90}}, {'generatedToken': {'token': '▁and▁you▁need▁to', 'logprob': -15.953139305114746, 'raw_logprob': -15.953139305114746}, 'topTokens': None, 'textRange': {'start': 90, 'end': 106}}, {'generatedToken': {'token': '▁rewrite', 'logprob': -13.313529968261719, 'raw_logprob': -13.313529968261719}, 'topTokens': None, 'textRange': {'start': 106, 'end': 114}}, {'generatedToken': {'token': '▁it', 'logprob': -9.251940727233887, 'raw_logprob': -9.251940727233887}, 'topTokens': None, 'textRange': {'start': 114, 'end': 117}}, {'generatedToken': {'token': '▁using', 'logprob': -14.703136444091797, 'raw_logprob': -14.703136444091797}, 'topTokens': None, 'textRange': {'start': 117, 'end': 123}}, {'generatedToken': {'token': '▁conversion', 'logprob': -17.31531524658203, 'raw_logprob': -17.31531524658203}, 'topTokens': None, 'textRange': {'start': 123, 'end': 134}}, {'generatedToken': {'token': '▁rules', 'logprob': -20.890668869018555, 'raw_logprob': -20.890668869018555}, 'topTokens': None, 'textRange': {'start': 134, 'end': 140}}, {'generatedToken': {'token': '.', 'logprob': -13.843754768371582, 'raw_logprob': -13.843754768371582}, 'topTokens': None, 'textRange': {'start': 140, 'end': 141}}, {'generatedToken': {'token': '▁Here▁are▁the', 'logprob': -25.2265625, 'raw_logprob': -25.2265625}, 'topTokens': None, 'textRange': {'start': 141, 'end': 154}}, {'generatedToken': {'token': '▁rules', 'logprob': -2.19370698928833, 'raw_logprob': -2.19370698928833}, 'topTokens': None, 'textRange': {'start': 154, 'end': 160}}, {'generatedToken': {'token': ':', 'logprob': -12.718765258789062, 'raw_logprob': -12.718765258789062}, 'topTokens': None, 'textRange': {'start': 160, 'end': 161}}, {'generatedToken': {'token': '<|newline|>', 'logprob': -3.635817120084539e-05, 'raw_logprob': -3.635817120084539e-05}, 'topTokens': None, 'textRange': {'start': 161, 'end': 162}}, {'generatedToken': {'token': '▁', 'logprob': -6.8701348304748535, 'raw_logprob': -6.8701348304748535}, 'topTokens': None, 'textRange': {'start': 162, 'end': 162}}, {'generatedToken': {'token': '1', 'logprob': -0.00018988236843142658, 'raw_logprob': -0.00018988236843142658}, 'topTokens': None, 'textRange': {'start': 162, 'end': 163}}, {'generatedToken': {'token': '▁mile', 'logprob': -2.2069602012634277, 'raw_logprob': -2.2069602012634277}, 'topTokens': None, 'textRange': {'start': 163, 'end': 168}}, {'generatedToken': {'token': '▁=', 'logprob': -0.020692424848675728, 'raw_logprob': -0.020692424848675728}, 'topTokens': None, 'textRange': {'start': 168, 'end': 170}}, {'generatedToken': {'token': '▁', 'logprob': -0.00019429226813372225, 'raw_logprob': -0.00019429226813372225}, 'topTokens': None, 'textRange': {'start': 170, 'end': 171}}, {'generatedToken': {'token': '1', 'logprob': -0.0020017840433865786, 'raw_logprob': -0.0020017840433865786}, 'topTokens': None, 'textRange': {'start': 171, 'end': 172}}, {'generatedToken': {'token': '.', 'logprob': -0.004035425838083029, 'raw_logprob': -0.004035425838083029}, 'topTokens': None, 'textRange': {'start': 172, 'end': 173}}, {'generatedToken': {'token': '60', 'logprob': -3.445021390914917, 'raw_logprob': -3.445021390914917}, 'topTokens': None, 'textRange': {'start': 173, 'end': 175}}, {'generatedToken': {'token': '▁km', 'logprob': -12.273577690124512, 'raw_logprob': -12.273577690124512}, 'topTokens': None, 'textRange': {'start': 175, 'end': 178}}, {'generatedToken': {'token': '<|newline|>', 'logprob': -0.002732593100517988, 'raw_logprob': -0.002732593100517988}, 'topTokens': None, 'textRange': {'start': 178, 'end': 179}}, {'generatedToken': {'token': '▁', 'logprob': -0.006355076562613249, 'raw_logprob': -0.006355076562613249}, 'topTokens': None, 'textRange': {'start': 179, 'end': 179}}, {'generatedToken': {'token': '1', 'logprob': -0.00014554394874721766, 'raw_logprob': -0.00014554394874721766}, 'topTokens': None, 'textRange': {'start': 179, 'end': 180}}, {'generatedToken': {'token': '▁mph', 'logprob': -14.922386169433594, 'raw_logprob': -14.922386169433594}, 'topTokens': None, 'textRange': {'start': 180, 'end': 184}}, {'generatedToken': {'token': '▁=', 'logprob': -0.00017629499780014157, 'raw_logprob': -0.00017629499780014157}, 'topTokens': None, 'textRange': {'start': 184, 'end': 186}}, {'generatedToken': {'token': '▁', 'logprob': -0.0006373281357809901, 'raw_logprob': -0.0006373281357809901}, 'topTokens': None, 'textRange': {'start': 186, 'end': 187}}, {'generatedToken': {'token': '1', 'logprob': -0.00657194247469306, 'raw_logprob': -0.00657194247469306}, 'topTokens': None, 'textRange': {'start': 187, 'end': 188}}, {'generatedToken': {'token': '.', 'logprob': -4.768370445162873e-07, 'raw_logprob': -4.768370445162873e-07}, 'topTokens': None, 'textRange': {'start': 188, 'end': 189}}, {'generatedToken': {'token': '60', 'logprob': -0.13556577265262604, 'raw_logprob': -0.13556577265262604}, 'topTokens': None, 'textRange': {'start': 189, 'end': 191}}, {'generatedToken': {'token': '▁km', 'logprob': -1.0333898067474365, 'raw_logprob': -1.0333898067474365}, 'topTokens': None, 'textRange': {'start': 191, 'end': 194}}, {'generatedToken': {'token': '/', 'logprob': -0.0007297713309526443, 'raw_logprob': -0.0007297713309526443}, 'topTokens': None, 'textRange': {'start': 194, 'end': 195}}, {'generatedToken': {'token': 'h', 'logprob': -0.0014106809394434094, 'raw_logprob': -0.0014106809394434094}, 'topTokens': None, 'textRange': {'start': 195, 'end': 196}}, {'generatedToken': {'token': '<|newline|>', 'logprob': -6.198863957251888e-06, 'raw_logprob': -6.198863957251888e-06}, 'topTokens': None, 'textRange': {'start': 196, 'end': 197}}, {'generatedToken': {'token': '▁', 'logprob': -0.004906637128442526, 'raw_logprob': -0.004906637128442526}, 'topTokens': None, 'textRange': {'start': 197, 'end': 197}}, {'generatedToken': {'token': '1', 'logprob': -0.0004677870310842991, 'raw_logprob': -0.0004677870310842991}, 'topTokens': None, 'textRange': {'start': 197, 'end': 198}}, {'generatedToken': {'token': '▁inch', 'logprob': -4.706272125244141, 'raw_logprob': -4.706272125244141}, 'topTokens': None, 'textRange': {'start': 198, 'end': 203}}, {'generatedToken': {'token': '▁=', 'logprob': -0.0012280549854040146, 'raw_logprob': -0.0012280549854040146}, 'topTokens': None, 'textRange': {'start': 203, 'end': 205}}, {'generatedToken': {'token': '▁', 'logprob': -0.00025090406415984035, 'raw_logprob': -0.00025090406415984035}, 'topTokens': None, 'textRange': {'start': 205, 'end': 206}}, {'generatedToken': {'token': '2', 'logprob': -2.6225699912174605e-05, 'raw_logprob': -2.6225699912174605e-05}, 'topTokens': None, 'textRange': {'start': 206, 'end': 207}}, {'generatedToken': {'token': '.', 'logprob': -4.768370445162873e-07, 'raw_logprob': -4.768370445162873e-07}, 'topTokens': None, 'textRange': {'start': 207, 'end': 208}}, {'generatedToken': {'token': '64', 'logprob': -21.297517776489258, 'raw_logprob': -21.297517776489258}, 'topTokens': None, 'textRange': {'start': 208, 'end': 210}}, {'generatedToken': {'token': '▁cm', 'logprob': -0.0006428082706406713, 'raw_logprob': -0.0006428082706406713}, 'topTokens': None, 'textRange': {'start': 210, 'end': 213}}, {'generatedToken': {'token': '<|newline|>', 'logprob': -1.490105023549404e-05, 'raw_logprob': -1.490105023549404e-05}, 'topTokens': None, 'textRange': {'start': 213, 'end': 214}}, {'generatedToken': {'token': '▁', 'logprob': -0.008338517509400845, 'raw_logprob': -0.008338517509400845}, 'topTokens': None, 'textRange': {'start': 214, 'end': 214}}, {'generatedToken': {'token': '1', 'logprob': -0.0005615564878098667, 'raw_logprob': -0.0005615564878098667}, 'topTokens': None, 'textRange': {'start': 214, 'end': 215}}, {'generatedToken': {'token': '▁foot', 'logprob': -1.490074872970581, 'raw_logprob': -1.490074872970581}, 'topTokens': None, 'textRange': {'start': 215, 'end': 220}}, {'generatedToken': {'token': '▁=', 'logprob': -0.0016565899131819606, 'raw_logprob': -0.0016565899131819606}, 'topTokens': None, 'textRange': {'start': 220, 'end': 222}}, {'generatedToken': {'token': '▁', 'logprob': -0.008895293809473515, 'raw_logprob': -0.008895293809473515}, 'topTokens': None, 'textRange': {'start': 222, 'end': 223}}, {'generatedToken': {'token': '0', 'logprob': -0.5768576264381409, 'raw_logprob': -0.5768576264381409}, 'topTokens': None, 'textRange': {'start': 223, 'end': 224}}, {'generatedToken': {'token': '.', 'logprob': -0.0005627478822134435, 'raw_logprob': -0.0005627478822134435}, 'topTokens': None, 'textRange': {'start': 224, 'end': 225}}, {'generatedToken': {'token': '3', 'logprob': -2.019261121749878, 'raw_logprob': -2.019261121749878}, 'topTokens': None, 'textRange': {'start': 225, 'end': 226}}, {'generatedToken': {'token': '048', 'logprob': -0.0028084381483495235, 'raw_logprob': -0.0028084381483495235}, 'topTokens': None, 'textRange': {'start': 226, 'end': 229}}, {'generatedToken': {'token': '▁m', 'logprob': -0.41351982951164246, 'raw_logprob': -0.41351982951164246}, 'topTokens': None, 'textRange': {'start': 229, 'end': 231}}, {'generatedToken': {'token': '<|newline|>', 'logprob': -1.680836794548668e-05, 'raw_logprob': -1.680836794548668e-05}, 'topTokens': None, 'textRange': {'start': 231, 'end': 232}}, {'generatedToken': {'token': '▁Here▁is▁the', 'logprob': -14.601323127746582, 'raw_logprob': -14.601323127746582}, 'topTokens': None, 'textRange': {'start': 232, 'end': 243}}, {'generatedToken': {'token': '▁example', 'logprob': -8.872706413269043, 'raw_logprob': -8.872706413269043}, 'topTokens': None, 'textRange': {'start': 243, 'end': 251}}, {'generatedToken': {'token': ':', 'logprob': -0.014340672641992569, 'raw_logprob': -0.014340672641992569}, 'topTokens': None, 'textRange': {'start': 251, 'end': 252}}, {'generatedToken': {'token': '<|newline|>', 'logprob': -8.415821503149346e-05, 'raw_logprob': -8.415821503149346e-05}, 'topTokens': None, 'textRange': {'start': 252, 'end': 253}}, {'generatedToken': {'token': '▁The▁car', 'logprob': -2.96414852142334, 'raw_logprob': -2.96414852142334}, 'topTokens': None, 'textRange': {'start': 253, 'end': 260}}, {'generatedToken': {'token': '▁drove', 'logprob': -1.5483554601669312, 'raw_logprob': -1.5483554601669312}, 'topTokens': None, 'textRange': {'start': 260, 'end': 266}}, {'generatedToken': {'token': '▁', 'logprob': -0.7599840760231018, 'raw_logprob': -0.7599840760231018}, 'topTokens': None, 'textRange': {'start': 266, 'end': 267}}, {'generatedToken': {'token': '100', 'logprob': -3.154019355773926, 'raw_logprob': -3.154019355773926}, 'topTokens': None, 'textRange': {'start': 267, 'end': 270}}, {'generatedToken': {'token': '▁miles', 'logprob': -2.9143991470336914, 'raw_logprob': -2.9143991470336914}, 'topTokens': None, 'textRange': {'start': 270, 'end': 276}}, {'generatedToken': {'token': '▁yesterday', 'logprob': -12.095101356506348, 'raw_logprob': -12.095101356506348}, 'topTokens': None, 'textRange': {'start': 276, 'end': 286}}, {'generatedToken': {'token': '.', 'logprob': -6.329913139343262, 'raw_logprob': -6.329913139343262}, 'topTokens': None, 'textRange': {'start': 286, 'end': 287}}, {'generatedToken': {'token': '<|newline|>', 'logprob': -3.576278118089249e-07, 'raw_logprob': -3.576278118089249e-07}, 'topTokens': None, 'textRange': {'start': 287, 'end': 288}}, {'generatedToken': {'token': '▁Conversion', 'logprob': -18.6569766998291, 'raw_logprob': -18.6569766998291}, 'topTokens': None, 'textRange': {'start': 288, 'end': 298}}, {'generatedToken': {'token': ':', 'logprob': -0.00012182447244413197, 'raw_logprob': -0.00012182447244413197}, 'topTokens': None, 'textRange': {'start': 298, 'end': 299}}, {'generatedToken': {'token': '▁The▁car', 'logprob': -9.362545013427734, 'raw_logprob': -9.362545013427734}, 'topTokens': None, 'textRange': {'start': 299, 'end': 307}}, {'generatedToken': {'token': '▁drove', 'logprob': -0.0010409895330667496, 'raw_logprob': -0.0010409895330667496}, 'topTokens': None, 'textRange': {'start': 307, 'end': 313}}, {'generatedToken': {'token': '▁', 'logprob': -5.602820692729438e-06, 'raw_logprob': -5.602820692729438e-06}, 'topTokens': None, 'textRange': {'start': 313, 'end': 314}}, {'generatedToken': {'token': '160', 'logprob': -3.112635374069214, 'raw_logprob': -3.112635374069214}, 'topTokens': None, 'textRange': {'start': 314, 'end': 317}}, {'generatedToken': {'token': '▁kilometers', 'logprob': -0.2631751596927643, 'raw_logprob': -0.2631751596927643}, 'topTokens': None, 'textRange': {'start': 317, 'end': 328}}, {'generatedToken': {'token': '▁yesterday', 'logprob': -0.0003718638326972723, 'raw_logprob': -0.0003718638326972723}, 'topTokens': None, 'textRange': {'start': 328, 'end': 338}}, {'generatedToken': {'token': '.', 'logprob': -2.145764938177308e-06, 'raw_logprob': -2.145764938177308e-06}, 'topTokens': None, 'textRange': {'start': 338, 'end': 339}}, {'generatedToken': {'token': '<|newline|>', 'logprob': -7.516213417053223, 'raw_logprob': -7.516213417053223}, 'topTokens': None, 'textRange': {'start': 339, 'end': 340}}, {'generatedToken': {'token': '<|newline|>', 'logprob': -4.70449161529541, 'raw_logprob': -4.70449161529541}, 'topTokens': None, 'textRange': {'start': 340, 'end': 341}}, {'generatedToken': {'token': '▁Sentence', 'logprob': -9.015008926391602, 'raw_logprob': -9.015008926391602}, 'topTokens': None, 'textRange': {'start': 341, 'end': 349}}, {'generatedToken': {'token': ':', 'logprob': -2.024641752243042, 'raw_logprob': -2.024641752243042}, 'topTokens': None, 'textRange': {'start': 349, 'end': 350}}, {'generatedToken': {'token': '<|newline|>', 'logprob': -0.00374984135851264, 'raw_logprob': -0.00374984135851264}, 'topTokens': None, 'textRange': {'start': 350, 'end': 351}}, {'generatedToken': {'token': '▁The▁car', 'logprob': -0.007926319725811481, 'raw_logprob': -0.007926319725811481}, 'topTokens': None, 'textRange': {'start': 351, 'end': 358}}, {'generatedToken': {'token': '▁accelerates', 'logprob': -23.16966438293457, 'raw_logprob': -23.16966438293457}, 'topTokens': None, 'textRange': {'start': 358, 'end': 370}}, {'generatedToken': {'token': '▁to', 'logprob': -0.6969585418701172, 'raw_logprob': -0.6969585418701172}, 'topTokens': None, 'textRange': {'start': 370, 'end': 373}}, {'generatedToken': {'token': '▁', 'logprob': -0.000179036331246607, 'raw_logprob': -0.000179036331246607}, 'topTokens': None, 'textRange': {'start': 373, 'end': 374}}, {'generatedToken': {'token': '100', 'logprob': -2.5750746726989746, 'raw_logprob': -2.5750746726989746}, 'topTokens': None, 'textRange': {'start': 374, 'end': 377}}, {'generatedToken': {'token': '▁mph', 'logprob': -1.4496771097183228, 'raw_logprob': -1.4496771097183228}, 'topTokens': None, 'textRange': {'start': 377, 'end': 381}}, {'generatedToken': {'token': '▁in', 'logprob': -1.770862102508545, 'raw_logprob': -1.770862102508545}, 'topTokens': None, 'textRange': {'start': 381, 'end': 384}}, {'generatedToken': {'token': '▁', 'logprob': -0.0007758706342428923, 'raw_logprob': -0.0007758706342428923}, 'topTokens': None, 'textRange': {'start': 384, 'end': 385}}, {'generatedToken': {'token': '5', 'logprob': -3.8056297302246094, 'raw_logprob': -3.8056297302246094}, 'topTokens': None, 'textRange': {'start': 385, 'end': 386}}, {'generatedToken': {'token': '▁seconds', 'logprob': -0.000673424918204546, 'raw_logprob': -0.000673424918204546}, 'topTokens': None, 'textRange': {'start': 386, 'end': 394}}, {'generatedToken': {'token': '.', 'logprob': -0.03127460926771164, 'raw_logprob': -0.03127460926771164}, 'topTokens': None, 'textRange': {'start': 394, 'end': 395}}, {'generatedToken': {'token': '<|newline|>', 'logprob': -0.00010835537250386551, 'raw_logprob': -0.00010835537250386551}, 'topTokens': None, 'textRange': {'start': 395, 'end': 396}}, {'generatedToken': {'token': '▁Conversion', 'logprob': -1.0079913139343262, 'raw_logprob': -1.0079913139343262}, 'topTokens': None, 'textRange': {'start': 396, 'end': 406}}, {'generatedToken': {'token': ':', 'logprob': -3.611976353568025e-05, 'raw_logprob': -3.611976353568025e-05}, 'topTokens': None, 'textRange': {'start': 406, 'end': 407}}, {'generatedToken': {'token': '▁', 'logprob': -7.328744411468506, 'raw_logprob': -7.328744411468506}, 'topTokens': None, 'textRange': {'start': 407, 'end': 408}}, {'generatedToken': {'token': '<|newline|>', 'logprob': -3.2215394973754883, 'raw_logprob': -3.2215394973754883}, 'topTokens': None, 'textRange': {'start': 408, 'end': 409}}]}, 'completions': [{'data': {'text': 'The car accelerates to 160 km/h in 5 seconds.', 'tokens': [{'generatedToken': {'token': '▁The▁car', 'logprob': -0.0032408118713647127, 'raw_logprob': -0.006610786076635122}, 'topTokens': None, 'textRange': {'start': 0, 'end': 7}}, {'generatedToken': {'token': '▁accelerates', 'logprob': -0.00023779425828251988, 'raw_logprob': -0.0006238659843802452}, 'topTokens': None, 'textRange': {'start': 7, 'end': 19}}, {'generatedToken': {'token': '▁to', 'logprob': -7.664863369427621e-05, 'raw_logprob': -0.00021479207498487085}, 'topTokens': None, 'textRange': {'start': 19, 'end': 22}}, {'generatedToken': {'token': '▁', 'logprob': -3.218599158572033e-05, 'raw_logprob': -0.00011598391574807465}, 'topTokens': None, 'textRange': {'start': 22, 'end': 23}}, {'generatedToken': {'token': '160', 'logprob': -0.031809642910957336, 'raw_logprob': -0.04485654458403587}, 'topTokens': None, 'textRange': {'start': 23, 'end': 26}}, {'generatedToken': {'token': '▁km', 'logprob': -0.018993645906448364, 'raw_logprob': -0.028191447257995605}, 'topTokens': None, 'textRange': {'start': 26, 'end': 29}}, {'generatedToken': {'token': '/', 'logprob': -0.0003455280384514481, 'raw_logprob': -0.0007995745982043445}, 'topTokens': None, 'textRange': {'start': 29, 'end': 30}}, {'generatedToken': {'token': 'h', 'logprob': -8.701899787411094e-05, 'raw_logprob': -0.00023862851958256215}, 'topTokens': None, 'textRange': {'start': 30, 'end': 31}}, {'generatedToken': {'token': '▁in', 'logprob': -4.6491513785440475e-06, 'raw_logprob': -1.8715683836489916e-05}, 'topTokens': None, 'textRange': {'start': 31, 'end': 34}}, {'generatedToken': {'token': '▁', 'logprob': -0.00015341058315243572, 'raw_logprob': -0.0003943857445847243}, 'topTokens': None, 'textRange': {'start': 34, 'end': 35}}, {'generatedToken': {'token': '5', 'logprob': -7.152555099310121e-07, 'raw_logprob': -3.4570634852570947e-06}, 'topTokens': None, 'textRange': {'start': 35, 'end': 36}}, {'generatedToken': {'token': '▁seconds', 'logprob': -2.7418097943154862e-06, 'raw_logprob': -1.0132738680113107e-05}, 'topTokens': None, 'textRange': {'start': 36, 'end': 44}}, {'generatedToken': {'token': '.', 'logprob': -4.887569048150908e-06, 'raw_logprob': -1.9430925021879375e-05}, 'topTokens': None, 'textRange': {'start': 44, 'end': 45}}, {'generatedToken': {'token': '<|endoftext|>', 'logprob': -0.035733118653297424, 'raw_logprob': -0.04955560341477394}, 'topTokens': None, 'textRange': {'start': 45, 'end': 45}}]}, 'finishReason': {'reason': 'endoftext'}}]}\n"
          ]
        }
      ],
      "source": [
        "response_mid = ai21.Completion.execute(\n",
        "  model=\"j2-ultra\",\n",
        "  prompt=prompt,\n",
        "  numResults=1,\n",
        "  maxTokens=1000,\n",
        "  temperature=0.9,\n",
        "  topKReturn=0,\n",
        "  topP=1,\n",
        "  stopSequences=[\"##\"]\n",
        ")\n",
        "\n",
        "print(response_mid)"
      ]
    },
    {
      "cell_type": "code",
      "execution_count": null,
      "metadata": {
        "id": "98qaQ3lLmxkI"
      },
      "outputs": [],
      "source": [
        "response = response_mid['completions'][0]['data']['text']"
      ]
    },
    {
      "cell_type": "code",
      "execution_count": null,
      "metadata": {
        "id": "ojXklaTKmxkJ",
        "outputId": "91489642-ddd2-49cf-d4e2-a3830a3f9b43"
      },
      "outputs": [
        {
          "name": "stdout",
          "output_type": "stream",
          "text": [
            "\n",
            "You are imperial to metrics units converter. I am giving you sentence with imperial units and you need to rewrite it using conversion rules. Here are the rules:\n",
            "1 mile = 1.60 km\n",
            "1 mph = 1.60 km/h\n",
            "1 inch = 2.64 cm\n",
            "1 foot = 0.3048 m\n",
            "Here is the example:\n",
            "The car drove 100 miles yesterday.\n",
            "Conversion: The car drove 160 kilometers yesterday.\n",
            "\n",
            "Sentence:\n",
            "The car accelerates to 100 mph in 5 seconds.\n",
            "Conversion: \n",
            "The car accelerates to 160 km/h in 5 seconds.\n"
          ]
        }
      ],
      "source": [
        "print(prompt+response)"
      ]
    },
    {
      "cell_type": "markdown",
      "metadata": {
        "id": "ZKw-mjuRKgzs"
      },
      "source": [
        "### Part 2: local inference\n",
        "\n",
        "Now, let's try and load the strongest model that can fit a typical Colab GPU (T4 with 16 GB as of spring 2023).\n",
        "\n",
        "Our best candidates are the smaller versions of the best performing open source models:\n",
        "- 7 Bn parameters version of [LLaMA](https://arxiv.org/pdf/2302.13971.pdf) - best for spring 2023, released by Facebook\n",
        "- 7 Bn parameters version of [Falcon](https://falconllm.tii.ae) - close competitor to Llama, released in May 2023 by [Technology Innovation Institute of UAE](https://www.tii.ae).\n",
        "- 6.7 Bn parameters version of [OPT](https://arxiv.org/abs/2205.01068) - top choice in this nomination in 2022, released by Facebook.\n",
        "\n",
        "Beware: while these models are smaller than the ones in API, they're still over 60x larger than the BERT we played with last time. The code below will *just barely* fit into memory, so make sure you don't have anything else loaded. Sometimes you may need to restart runtime for the code to work.\n",
        "\n",
        "It's a good time to restart your kernel and switch to GPU! (Runtime -> Change runtime type)\n",
        "<center><img src=\"https://i.imgur.com/OOfDYzJ.png\" width=240px></center>"
      ]
    },
    {
      "cell_type": "code",
      "execution_count": 1,
      "metadata": {
        "id": "7xeRF_hSKgzs",
        "colab": {
          "base_uri": "https://localhost:8080/"
        },
        "outputId": "217577ba-0a03-4a63-877b-b89e6db0d87d"
      },
      "outputs": [
        {
          "output_type": "stream",
          "name": "stdout",
          "text": [
            "\u001b[2K     \u001b[90m━━━━━━━━━━━━━━━━━━━━━━━━━━━━━━━━━━━━━━━━\u001b[0m \u001b[32m92.6/92.6 MB\u001b[0m \u001b[31m11.4 MB/s\u001b[0m eta \u001b[36m0:00:00\u001b[0m\n",
            "\u001b[2K     \u001b[90m━━━━━━━━━━━━━━━━━━━━━━━━━━━━━━━━━━━━━━━━\u001b[0m \u001b[32m7.7/7.7 MB\u001b[0m \u001b[31m71.1 MB/s\u001b[0m eta \u001b[36m0:00:00\u001b[0m\n",
            "\u001b[2K     \u001b[90m━━━━━━━━━━━━━━━━━━━━━━━━━━━━━━━━━━━━━━━━\u001b[0m \u001b[32m261.0/261.0 kB\u001b[0m \u001b[31m26.9 MB/s\u001b[0m eta \u001b[36m0:00:00\u001b[0m\n",
            "\u001b[2K     \u001b[90m━━━━━━━━━━━━━━━━━━━━━━━━━━━━━━━━━━━━━━━━\u001b[0m \u001b[32m1.3/1.3 MB\u001b[0m \u001b[31m77.7 MB/s\u001b[0m eta \u001b[36m0:00:00\u001b[0m\n",
            "\u001b[2K     \u001b[90m━━━━━━━━━━━━━━━━━━━━━━━━━━━━━━━━━━━━━━━━\u001b[0m \u001b[32m301.0/301.0 kB\u001b[0m \u001b[31m35.5 MB/s\u001b[0m eta \u001b[36m0:00:00\u001b[0m\n",
            "\u001b[?25h  Installing build dependencies ... \u001b[?25l\u001b[?25hdone\n",
            "  Getting requirements to build wheel ... \u001b[?25l\u001b[?25hdone\n",
            "  Preparing metadata (pyproject.toml) ... \u001b[?25l\u001b[?25hdone\n",
            "\u001b[2K     \u001b[90m━━━━━━━━━━━━━━━━━━━━━━━━━━━━━━━━━━━━━━━━\u001b[0m \u001b[32m1.8/1.8 MB\u001b[0m \u001b[31m36.7 MB/s\u001b[0m eta \u001b[36m0:00:00\u001b[0m\n",
            "\u001b[2K     \u001b[90m━━━━━━━━━━━━━━━━━━━━━━━━━━━━━━━━━━━━━━━━\u001b[0m \u001b[32m302.0/302.0 kB\u001b[0m \u001b[31m34.3 MB/s\u001b[0m eta \u001b[36m0:00:00\u001b[0m\n",
            "\u001b[2K     \u001b[90m━━━━━━━━━━━━━━━━━━━━━━━━━━━━━━━━━━━━━━━━\u001b[0m \u001b[32m3.8/3.8 MB\u001b[0m \u001b[31m107.8 MB/s\u001b[0m eta \u001b[36m0:00:00\u001b[0m\n",
            "\u001b[2K     \u001b[90m━━━━━━━━━━━━━━━━━━━━━━━━━━━━━━━━━━━━━━━━\u001b[0m \u001b[32m1.3/1.3 MB\u001b[0m \u001b[31m75.1 MB/s\u001b[0m eta \u001b[36m0:00:00\u001b[0m\n",
            "\u001b[2K     \u001b[90m━━━━━━━━━━━━━━━━━━━━━━━━━━━━━━━━━━━━━━━━\u001b[0m \u001b[32m46.0/46.0 kB\u001b[0m \u001b[31m6.7 MB/s\u001b[0m eta \u001b[36m0:00:00\u001b[0m\n",
            "\u001b[2K     \u001b[90m━━━━━━━━━━━━━━━━━━━━━━━━━━━━━━━━━━━━━━━━\u001b[0m \u001b[32m7.9/7.9 MB\u001b[0m \u001b[31m20.4 MB/s\u001b[0m eta \u001b[36m0:00:00\u001b[0m\n",
            "\u001b[2K     \u001b[90m━━━━━━━━━━━━━━━━━━━━━━━━━━━━━━━━━━━━━━━━\u001b[0m \u001b[32m493.7/493.7 kB\u001b[0m \u001b[31m49.5 MB/s\u001b[0m eta \u001b[36m0:00:00\u001b[0m\n",
            "\u001b[2K     \u001b[90m━━━━━━━━━━━━━━━━━━━━━━━━━━━━━━━━━━━━━━━━\u001b[0m \u001b[32m134.9/134.9 kB\u001b[0m \u001b[31m20.2 MB/s\u001b[0m eta \u001b[36m0:00:00\u001b[0m\n",
            "\u001b[2K     \u001b[90m━━━━━━━━━━━━━━━━━━━━━━━━━━━━━━━━━━━━━━━━\u001b[0m \u001b[32m295.0/295.0 kB\u001b[0m \u001b[31m36.4 MB/s\u001b[0m eta \u001b[36m0:00:00\u001b[0m\n",
            "\u001b[2K     \u001b[90m━━━━━━━━━━━━━━━━━━━━━━━━━━━━━━━━━━━━━━━━\u001b[0m \u001b[32m86.8/86.8 kB\u001b[0m \u001b[31m13.3 MB/s\u001b[0m eta \u001b[36m0:00:00\u001b[0m\n",
            "\u001b[2K     \u001b[90m━━━━━━━━━━━━━━━━━━━━━━━━━━━━━━━━━━━━━━━━\u001b[0m \u001b[32m115.3/115.3 kB\u001b[0m \u001b[31m17.1 MB/s\u001b[0m eta \u001b[36m0:00:00\u001b[0m\n",
            "\u001b[2K     \u001b[90m━━━━━━━━━━━━━━━━━━━━━━━━━━━━━━━━━━━━━━━━\u001b[0m \u001b[32m134.8/134.8 kB\u001b[0m \u001b[31m19.9 MB/s\u001b[0m eta \u001b[36m0:00:00\u001b[0m\n",
            "\u001b[?25h  Building wheel for optimum (pyproject.toml) ... \u001b[?25l\u001b[?25hdone\n"
          ]
        }
      ],
      "source": [
        "%pip install --quiet bitsandbytes==0.41.1 transformers==4.34.1 accelerate==0.24.0 sentencepiece==0.1.99 optimum==1.13.2 auto-gptq==0.4.2\n",
        "import torch\n",
        "import torch.nn as nn\n",
        "import torch.nn.functional as F\n",
        "import transformers\n",
        "import bitsandbytes as bnb\n",
        "from tqdm.auto import tqdm, trange\n",
        "assert torch.cuda.is_available(), \"you need cuda for this part\"\n",
        "device = torch.device('cuda' if torch.cuda.is_available() else 'cpu')"
      ]
    },
    {
      "cell_type": "code",
      "execution_count": 2,
      "metadata": {
        "colab": {
          "base_uri": "https://localhost:8080/",
          "height": 278,
          "referenced_widgets": [
            "b22d3e2c8f8343bf8086b49c49041c36",
            "1dd4d20fa5384bf8b92d6a14d6e14357",
            "9070b667486340599ecf458c2c2d72f6",
            "a0b218b040244e3b9df543374b88fb89",
            "179c79de562544aea3d7fe3e93ec3036",
            "865a1da6e64a41d4b18cb77e216cfca1",
            "28a5cf9d69844bc698a349bf114019ff",
            "921d9c29ab4a48568fe683bf2f171fb0",
            "9a2259eaeb01494cb8b9309fa3f3f914",
            "bc8f78235b934eaba900136ed2100c82",
            "41fd767dcc194f248c989d677bba9ed7",
            "c786b9aa88c4408894b83f23960dbb80",
            "44128cb26c1d4193820e9353640c146d",
            "2ed30c2dc789474a9e89676a156dbedd",
            "303cf773109548b6bc497babca355959",
            "2ee901791bef432fbe983c59ebc8a5b9",
            "07909dd3edbc4739bd78428b426acf4a",
            "6ebe1249d3a948c89430124255eead49",
            "a80cc2c733424499a821d46aedf0f739",
            "47396b9f0b994fc6970368a14e934fde",
            "6189b06998654413aadea822461fda94",
            "6f9bf00727f64e3795531eae474f4801",
            "14966b64a28d4fb188767bc3b55498a7",
            "1e19e17f23734d2f905434de4a180276",
            "518ed81cb6584cde8f328937db4b7465",
            "8dfaa980a989404195d20ae6468df6c4",
            "d0326b20a8ca4668824c92b671930503",
            "801c745f181645e9b4ec0f7461a28d9a",
            "a02933694ac84dda989854553c82a4d3",
            "4d24bfd5414a482f9c9bb235e838c07a",
            "9c434e09a7d2447384166242361ffc85",
            "7411ff82c26b4b61ae0fa9300ef852af",
            "9db62d49d0e44537b96dd1cf59cd01bc",
            "b1d28655259a4aa9b2fe99b02e7b034e",
            "c05ae8fa2a4a4c64bb0558eeeef04268",
            "db6a4a01cfc3452484d33f1bffc427cb",
            "5f16f2a6f0854f718de48796bd7e4307",
            "bd76e78881fd45bea3f58662be5cdb65",
            "028a460fc91243ce8e23a8d2471c91c5",
            "aede82c16ca64a06a5b61dc8d5a1bf91",
            "39abe32d97ca4621aa5a441ff2b0f0ec",
            "41a4597f1a8146929bb1bf9d9d2d1f88",
            "46d214e49c8e4a18a3b5f0d1b7c2e316",
            "f1edd9a729114a01a3601512d7d8080d",
            "89cb726f93224122b0ec0caeaf4e9129",
            "c8eea908d4b741b78f3858e1a7eae6fb",
            "71fca7d3e4cd4a1aa69fb44feabe5ac0",
            "92a877004f07459084cacbcb17c14758",
            "aef7f6c4cce34490bf754ec4760ad634",
            "0015367d30dd4c51b8fa6163e83295e6",
            "33b43f706ac34d04b0645cbf18be38b1",
            "ca719333048345d3be78d41804d5b139",
            "df974ff18c784ebe9765a6ac695b5860",
            "96f45124fc0349358be1772a6774b4c1",
            "8ece053408634ab5956f27c0d7443717",
            "3bf85159309b43039b6193f3d0395a27",
            "717d28fa30054a3281f2ecb3997e9733",
            "2074455b59cb4738a905fe8747954622",
            "56e17cca7dd044cfa42a56c2e0951510",
            "1020f8497bfe43eab7ddee84e485b672",
            "45bd06083ee94e93a6ded22e86f736f5",
            "62f199777d3248388b0ef5ad8473e9a6",
            "a59875d9769d41b48c78df0e4f88b31e",
            "f63e13908a564cd3827c55834b69fb69",
            "0863bd16a5ef474098a1e24b6c465c7b",
            "26fd2af934354d29b7ac53cd07bff5f4",
            "f1f12823019442998c1ce208695340eb",
            "ee06a1eb38354d64b05dc5f0668d25ef",
            "adfff6917a034e54a1caea859a025bc4",
            "38a30bd0e4994ea2a2d3a650b3f64765",
            "7e785b7a19ed4911b2d2583694a4aa71",
            "e9da30a2899c44ca809319b9a1152c84",
            "638185f1bb2b44bc8e434f162e1149e3",
            "e0e3465ffdc941bb99d2b45aa4d05018",
            "b759910399e64c2bad3a538eebce5bc2",
            "6f2c1336771d441d8842505398101db3",
            "5f5c7223498f494bb8316096d7e8051c"
          ]
        },
        "id": "VMzFwx29Kgzu",
        "outputId": "60e035da-3c00-468c-b388-e8512fe3e50f"
      },
      "outputs": [
        {
          "output_type": "display_data",
          "data": {
            "text/plain": [
              "Downloading (…)okenizer_config.json:   0%|          | 0.00/727 [00:00<?, ?B/s]"
            ],
            "application/vnd.jupyter.widget-view+json": {
              "version_major": 2,
              "version_minor": 0,
              "model_id": "b22d3e2c8f8343bf8086b49c49041c36"
            }
          },
          "metadata": {}
        },
        {
          "output_type": "display_data",
          "data": {
            "text/plain": [
              "Downloading tokenizer.model:   0%|          | 0.00/500k [00:00<?, ?B/s]"
            ],
            "application/vnd.jupyter.widget-view+json": {
              "version_major": 2,
              "version_minor": 0,
              "model_id": "c786b9aa88c4408894b83f23960dbb80"
            }
          },
          "metadata": {}
        },
        {
          "output_type": "display_data",
          "data": {
            "text/plain": [
              "Downloading (…)cial_tokens_map.json:   0%|          | 0.00/411 [00:00<?, ?B/s]"
            ],
            "application/vnd.jupyter.widget-view+json": {
              "version_major": 2,
              "version_minor": 0,
              "model_id": "14966b64a28d4fb188767bc3b55498a7"
            }
          },
          "metadata": {}
        },
        {
          "output_type": "display_data",
          "data": {
            "text/plain": [
              "Downloading (…)/main/tokenizer.json:   0%|          | 0.00/1.84M [00:00<?, ?B/s]"
            ],
            "application/vnd.jupyter.widget-view+json": {
              "version_major": 2,
              "version_minor": 0,
              "model_id": "b1d28655259a4aa9b2fe99b02e7b034e"
            }
          },
          "metadata": {}
        },
        {
          "output_type": "stream",
          "name": "stderr",
          "text": [
            "You are using the default legacy behaviour of the <class 'transformers.models.llama.tokenization_llama.LlamaTokenizer'>. This is expected, and simply means that the `legacy` (previous) behavior will be used so nothing changes for you. If you want to use the new behaviour, set `legacy=False`. This should only be set if you understand what it means, and thouroughly read the reason why this was added as explained in https://github.com/huggingface/transformers/pull/24565\n"
          ]
        },
        {
          "output_type": "display_data",
          "data": {
            "text/plain": [
              "Downloading (…)lve/main/config.json:   0%|          | 0.00/913 [00:00<?, ?B/s]"
            ],
            "application/vnd.jupyter.widget-view+json": {
              "version_major": 2,
              "version_minor": 0,
              "model_id": "89cb726f93224122b0ec0caeaf4e9129"
            }
          },
          "metadata": {}
        },
        {
          "output_type": "display_data",
          "data": {
            "text/plain": [
              "Downloading model.safetensors:   0%|          | 0.00/7.26G [00:00<?, ?B/s]"
            ],
            "application/vnd.jupyter.widget-view+json": {
              "version_major": 2,
              "version_minor": 0,
              "model_id": "3bf85159309b43039b6193f3d0395a27"
            }
          },
          "metadata": {}
        },
        {
          "output_type": "display_data",
          "data": {
            "text/plain": [
              "Downloading (…)neration_config.json:   0%|          | 0.00/132 [00:00<?, ?B/s]"
            ],
            "application/vnd.jupyter.widget-view+json": {
              "version_major": 2,
              "version_minor": 0,
              "model_id": "f1f12823019442998c1ce208695340eb"
            }
          },
          "metadata": {}
        }
      ],
      "source": [
        "model_name = 'TheBloke/Llama-2-13B-GPTQ'\n",
        "\n",
        "# loading Llama tokenizer ...\n",
        "tokenizer = transformers.LlamaTokenizer.from_pretrained(model_name, device_map=device)\n",
        "tokenizer.pad_token_id = tokenizer.eos_token_id\n",
        "\n",
        "# ... and the model itself\n",
        "model = transformers.AutoModelForCausalLM.from_pretrained(\n",
        "    model_name,\n",
        "    device_map='auto',\n",
        "    torch_dtype=torch.float16,\n",
        "    low_cpu_mem_usage=True,\n",
        "    offload_state_dict=True\n",
        ")"
      ]
    },
    {
      "cell_type": "markdown",
      "metadata": {
        "id": "5k2zCgAhG7l5"
      },
      "source": [
        "## Text generation\n",
        "\n",
        "**Comparison of strategies for language model text generation:**\n",
        "\n",
        "| Strategy | Description | Pros & Cons |\n",
        "| --- | --- | --- |\n",
        "| Greedy Search | Chooses the word with the highest probability as the next word in the sequence. | **Pros:** Simple and fast. <br> **Cons:** Can lead to repetitive and incoherent text. |\n",
        "| Sampling with Temperature | Introduces randomness in the word selection. A higher temperature leads to more randomness. | **Pros:** Allows exploration and diverse output. <br> **Cons:** Higher temperatures can lead to nonsensical outputs. |\n",
        "| Nucleus Sampling (Top-p Sampling) | Selects the next word from a truncated vocabulary, the \"nucleus\" of words that have a cumulative probability exceeding a pre-specified threshold (p). | **Pros:** Balances diversity and quality. <br> **Cons:** Setting an optimal 'p' can be tricky. |\n",
        "| Beam Search | Explores multiple hypotheses (sequences of words) at each step, and keeps the 'k' most likely, where 'k' is the beam width. | **Pros:** Produces more reliable results than greedy search. <br> **Cons:** Can lack diversity and lead to generic responses. |\n",
        "| Top-k Sampling | Randomly selects the next word from the top 'k' words with the highest probabilities. | **Pros:** Introduces randomness, increasing output diversity. <br> **Cons:** Random selection can sometimes lead to less coherent outputs. |\n",
        "| Length Normalization | Prevents the model from favoring shorter sequences by dividing the log probabilities by the sequence length raised to some power. | **Pros:** Makes longer and potentially more informative sequences more likely. <br> **Cons:** Tuning the normalization factor can be difficult. |\n",
        "| Stochastic Beam Search | Introduces randomness into the selection process of the 'k' hypotheses in beam search. | **Pros:** Increases diversity in the generated text. <br> **Cons:** The trade-off between diversity and quality can be tricky to manage. |\n",
        "| Decoding with Minimum Bayes Risk (MBR) | Chooses the hypothesis (out of many) that minimizes expected loss under a loss function. | **Pros:** Optimizes the output according to a specific loss function. <br> **Cons:** Computationally more complex and requires a good loss function. |\n",
        "\n",
        "Documentation references:\n",
        "- [reference for `AutoModelForCausalLM.generate()`](https://huggingface.co/docs/transformers/v4.29.1/en/main_classes/text_generation#transformers.GenerationMixin.generate)\n",
        "- [reference for `AutoTokenizer.decode()`](https://huggingface.co/docs/transformers/main_classes/tokenizer#transformers.PreTrainedTokenizer.decode)\n",
        "- Huggingface [docs on generation strategies](https://huggingface.co/docs/transformers/generation_strategies)"
      ]
    },
    {
      "cell_type": "markdown",
      "metadata": {
        "id": "GWm6KDSzMiAf"
      },
      "source": [
        "### Generation with HuggingFace"
      ]
    },
    {
      "cell_type": "code",
      "execution_count": 3,
      "metadata": {
        "id": "gGfyeM-vdq5o",
        "tags": [],
        "colab": {
          "base_uri": "https://localhost:8080/"
        },
        "outputId": "72373e22-32c0-4d6f-a7b1-fb4b04855bea"
      },
      "outputs": [
        {
          "output_type": "stream",
          "name": "stdout",
          "text": [
            "Input batch (encoded): {'input_ids': tensor([[    1,   450,   937, 10943, 14436,   713,  2834,   689,  3430,   763]],\n",
            "       device='cuda:0'), 'attention_mask': tensor([[1, 1, 1, 1, 1, 1, 1, 1, 1, 1]], device='cuda:0')}\n"
          ]
        },
        {
          "output_type": "stream",
          "name": "stderr",
          "text": [
            "/usr/local/lib/python3.10/dist-packages/transformers/generation/utils.py:1421: UserWarning: You have modified the pretrained model configuration to control generation. This is a deprecated strategy to control generation and will be removed soon, in a future version. Please use and modify the model generation configuration (see https://huggingface.co/docs/transformers/generation_strategies#default-text-generation-configuration )\n",
            "  warnings.warn(\n"
          ]
        },
        {
          "output_type": "stream",
          "name": "stdout",
          "text": [
            "\n",
            "Output: <s>The first discovered martian lifeform looks like a tiny green pearl, but its name is Nematoda.\n",
            "The discovery of Nematoda on Mars was made by NASA scientists studying data collected by the Curiosity rover. Nematoda is a type of nematode, a tiny roundworm that can be found in soils\n"
          ]
        }
      ],
      "source": [
        "prompt = 'The first discovered martian lifeform looks like'\n",
        "batch = tokenizer(prompt, return_tensors='pt', return_token_type_ids=False).to(device)\n",
        "print(\"Input batch (encoded):\", batch)\n",
        "\n",
        "output_tokens = model.generate(**batch, max_new_tokens=64, do_sample=True, temperature=0.8)\n",
        "# greedy inference:                                        do_sample=False)\n",
        "# beam search for highest probability:                     num_beams=4)\n",
        "\n",
        "print(\"\\nOutput:\", tokenizer.decode(output_tokens[0].cpu()))"
      ]
    },
    {
      "cell_type": "markdown",
      "metadata": {
        "id": "P17ehC1sKgzx"
      },
      "source": [
        "#### Low-level code for text generation"
      ]
    },
    {
      "cell_type": "code",
      "execution_count": 4,
      "metadata": {
        "colab": {
          "base_uri": "https://localhost:8080/"
        },
        "id": "LZJvOMbmG7l8",
        "outputId": "b403f24a-f7cf-45f4-f5a3-2a09686cb34a",
        "tags": []
      },
      "outputs": [
        {
          "output_type": "stream",
          "name": "stdout",
          "text": [
            "Moscow is the capital of \n",
            "\n",
            "Step #0 candidates:\n",
            "▁Russia   : 0.7616 \n",
            "▁the      : 0.1795 \n",
            "▁Russian  : 0.0218 \n",
            "▁a        : 0.0058 \n",
            "▁not      : 0.0022 \n",
            "\n",
            "Chosen token: Russia\n",
            "\n",
            "Step #1 candidates:\n",
            ".         : 0.3238 \n",
            ",         : 0.3188 \n",
            "▁and      : 0.1845 \n",
            "and       : 0.0554 \n",
            "<0x0A>    : 0.0080 \n",
            "\n",
            "Chosen token: and\n",
            "\n",
            "Step #2 candidates:\n",
            "▁the      : 0.3143 \n",
            "▁is       : 0.1722 \n",
            "▁one      : 0.1341 \n",
            "▁its      : 0.0449 \n",
            "▁has      : 0.0372 \n",
            "\n",
            "Chosen token: the\n",
            "\n",
            "Step #3 candidates:\n",
            "▁most     : 0.3517 \n",
            "▁largest  : 0.2782 \n",
            "▁second   : 0.0330 \n",
            "▁country  : 0.0241 \n",
            "▁main     : 0.0234 \n",
            "\n",
            "Chosen token: most\n",
            "\n",
            "Step #4 candidates:\n",
            "▁popul    : 0.5630 \n",
            "pop       : 0.2275 \n",
            "▁populated: 0.1162 \n",
            "▁important: 0.0137 \n",
            "▁popular  : 0.0092 \n",
            "\n",
            "Chosen token: popula\n",
            "\n",
            "Step #5 candidates:\n",
            "ous       : 0.2136 \n",
            "...       : 0.1171 \n",
            "▁r        : 0.0622 \n",
            "<0x0A>    : 0.0492 \n",
            "ust       : 0.0473 \n",
            "\n",
            "Chosen token: ous\n",
            "\n",
            "Step #6 candidates:\n",
            "city      : 0.6170 \n",
            "▁city     : 0.1926 \n",
            "f         : 0.0527 \n",
            "▁federal  : 0.0209 \n",
            "c         : 0.0126 \n",
            "\n",
            "Chosen token: city\n",
            "\n",
            "Step #7 candidates:\n",
            "in        : 0.4558 \n",
            "▁in       : 0.1813 \n",
            "of        : 0.1025 \n",
            ".         : 0.0488 \n",
            "▁of       : 0.0357 \n",
            "\n",
            "Chosen token: in\n",
            "\n",
            "Step #8 candidates:\n",
            "Europe    : 0.5649 \n",
            "▁Europe   : 0.1683 \n",
            "E         : 0.0840 \n",
            "Russ      : 0.0582 \n",
            "▁the      : 0.0295 \n",
            "\n",
            "Chosen token: Europe\n",
            "\n",
            "Step #9 candidates:\n",
            ".         : 0.4806 \n",
            ",         : 0.2984 \n",
            "with      : 0.0630 \n",
            "and       : 0.0461 \n",
            ";         : 0.0230 \n",
            "\n",
            "Chosen token: .\n",
            "\n"
          ]
        }
      ],
      "source": [
        "prompt = \"Moscow is the capital of\"\n",
        "# prompt = \"Skippy, a young android, likes to dream about electric\"\n",
        "\n",
        "print(prompt, '\\n')\n",
        "\n",
        "voc = tokenizer.get_vocab()\n",
        "voc_rev = {v:k for k, v in voc.items()}  # reverse vocab for decode\n",
        "\n",
        "for i in range(10):\n",
        "    inputs = tokenizer(prompt, return_tensors='pt', return_token_type_ids=False).to(device)\n",
        "    logits = model.forward(**inputs).logits[0, -1, :]\n",
        "    probs = torch.nn.functional.softmax(logits, dim=-1)\n",
        "    next_token_id = torch.multinomial(probs.flatten(), num_samples=1)\n",
        "\n",
        "    next_token = tokenizer.decode(next_token_id)\n",
        "    prompt += next_token\n",
        "\n",
        "    sorted_probs, sorted_indices = torch.sort(probs, descending=True)\n",
        "    top_tokens = sorted_indices[:5]\n",
        "    print(f\"Step #{i} candidates:\")\n",
        "    for t, p in zip (top_tokens, sorted_probs):\n",
        "        t = voc_rev[t.item()]\n",
        "        print(f\"{t:<10}: {p:.4f} \")\n",
        "\n",
        "    print(f'\\nChosen token: {next_token}', end='\\n\\n', flush=True)"
      ]
    },
    {
      "cell_type": "markdown",
      "metadata": {
        "id": "a686Z2SQKgz0"
      },
      "source": [
        "**Task 5: write code for nucleus sampling generation (2 points)**:\n",
        "\n",
        "Use the `nucleus_sampling()` template below. Look at the detailed generation code above for inspiration. __Please do not use model.generate__.\n",
        "\n",
        "**Bonus task: write code for beam search (3 bonus points)**"
      ]
    },
    {
      "cell_type": "code",
      "source": [],
      "metadata": {
        "id": "w6x-QoDyn45w"
      },
      "execution_count": null,
      "outputs": []
    },
    {
      "cell_type": "code",
      "execution_count": 23,
      "metadata": {
        "id": "3WIqDgfBKgz0"
      },
      "outputs": [],
      "source": [
        "from typing import Tuple, List\n",
        "def nucleus_sampling(model, tokenizer, prompt: str, prob: float = 0.5) -> Tuple[str, List[str]]:\n",
        "    \"\"\"generates the next token from the nucleus of tokens with cumulative probability up to param:prob\"\"\"\n",
        "\n",
        "    batch1 = tokenizer(prompt, return_tensors='pt', return_token_type_ids=False).to(device)\n",
        "    logits = model.forward(**batch1).logits[0, -1, :]\n",
        "    probs = torch.nn.functional.softmax(logits, dim=-1)\n",
        "    sorted_probs, indices = torch.sort(probs, dim=-1, descending=True)\n",
        "    cum_sum_probs = torch.cumsum(sorted_probs, dim=-1)\n",
        "    nucleus = cum_sum_probs[cum_sum_probs < prob]\n",
        "    nucleus_indices = indices[cum_sum_probs < prob]\n",
        "    nucleus_negative_indices = [x for x in range(len(probs)) if x not in nucleus_indices]\n",
        "    probs[nucleus_negative_indices] = 0\n",
        "    probs /= torch.sum(probs)\n",
        "    next_token_id = torch.multinomial(probs.flatten(), num_samples=1)\n",
        "    sampled_token = tokenizer.decode(next_token_id)\n",
        "    possible_tokens = [tokenizer.decode(ind) for ind in nucleus_indices]\n",
        "\n",
        "\n",
        "    # sampled_token should be a string token that was generated\n",
        "    # possible_tokens should be a list of all tokens that have non-zero probability\n",
        "    return sampled_token, possible_tokens"
      ]
    },
    {
      "cell_type": "code",
      "execution_count": 24,
      "metadata": {
        "id": "LzPLQl-HKgz1",
        "colab": {
          "base_uri": "https://localhost:8080/"
        },
        "outputId": "f692aeb8-fc00-4966-c706-17c4bc078696"
      },
      "outputs": [
        {
          "output_type": "stream",
          "name": "stdout",
          "text": [
            "Elbrus is the highest point ['peak', 'mountain', 'point']\n",
            "Large language models can learn to generate ['generate', 'write', 'perform', 'do', 'speak', 'be', 'predict', 'communicate']\n"
          ]
        }
      ],
      "source": [
        "# Tests for nucleus sampling\n",
        "test_prompt = \"Elbrus is the highest\"\n",
        "next_token, possible_tokens = nucleus_sampling(model, tokenizer, test_prompt, prob=0.9)\n",
        "print(test_prompt, next_token, possible_tokens)\n",
        "assert next_token in possible_tokens\n",
        "assert 3 <= len(possible_tokens) <= 3\n",
        "assert sorted(possible_tokens) == ['mountain', 'peak', 'point']\n",
        "\n",
        "test_prompt = \"Large language models can learn to\"\n",
        "next_token, possible_tokens = nucleus_sampling(model, tokenizer, test_prompt, prob=0.4)\n",
        "print(test_prompt, next_token, possible_tokens)\n",
        "assert next_token in possible_tokens\n",
        "assert sorted(possible_tokens) == ['be', 'communicate', 'do', 'generate', 'perform', 'predict', 'speak', 'write']\n",
        "assert len(possible_tokens) == 8"
      ]
    },
    {
      "cell_type": "markdown",
      "metadata": {
        "id": "5ZaQZhPXOPSG"
      },
      "source": [
        "### Part 3: Chain-of-thought prompting (4 points total)\n",
        "\n",
        "![img](https://github.com/kojima-takeshi188/zero_shot_cot/raw/main/img/image_stepbystep.png)\n",
        "\n",
        "---\n",
        "\n"
      ]
    },
    {
      "cell_type": "code",
      "execution_count": 25,
      "metadata": {
        "colab": {
          "base_uri": "https://localhost:8080/"
        },
        "id": "N2AmfelTn5en",
        "outputId": "3dddd486-7ed9-4ad1-a3d6-b8150f0f4132"
      },
      "outputs": [
        {
          "output_type": "stream",
          "name": "stdout",
          "text": [
            "--2023-11-04 15:21:58--  https://raw.githubusercontent.com/kojima-takeshi188/zero_shot_cot/2824685e25809779dbd36900a69825068e9f51ef/dataset/AQuA/test.json\n",
            "Resolving raw.githubusercontent.com (raw.githubusercontent.com)... 185.199.108.133, 185.199.109.133, 185.199.110.133, ...\n",
            "Connecting to raw.githubusercontent.com (raw.githubusercontent.com)|185.199.108.133|:443... connected.\n",
            "HTTP request sent, awaiting response... 200 OK\n",
            "Length: 130192 (127K) [text/plain]\n",
            "Saving to: ‘aqua.json’\n",
            "\n",
            "aqua.json           100%[===================>] 127.14K  --.-KB/s    in 0.002s  \n",
            "\n",
            "2023-11-04 15:21:58 (51.5 MB/s) - ‘aqua.json’ saved [130192/130192]\n",
            "\n"
          ]
        }
      ],
      "source": [
        "import json\n",
        "import random\n",
        "import locale; locale.getpreferredencoding = lambda: \"UTF-8\"\n",
        "!wget https://raw.githubusercontent.com/kojima-takeshi188/zero_shot_cot/2824685e25809779dbd36900a69825068e9f51ef/dataset/AQuA/test.json -O aqua.json\n",
        "data = list(map(json.loads, open(\"aqua.json\")))"
      ]
    },
    {
      "cell_type": "code",
      "execution_count": 26,
      "metadata": {
        "colab": {
          "base_uri": "https://localhost:8080/"
        },
        "id": "IATXmPfYw8s6",
        "outputId": "5d8cff7f-6ee6-490a-e288-7597a5d23cf6"
      },
      "outputs": [
        {
          "output_type": "stream",
          "name": "stdout",
          "text": [
            "Example:\n"
          ]
        },
        {
          "output_type": "execute_result",
          "data": {
            "text/plain": [
              "{'question': 'Janice bikes at 10 miles per hour, while Jennie bikes at 20. How long until they have collectively biked 1 mile?',\n",
              " 'options': ['A)1 minute',\n",
              "  'B)2 minutes',\n",
              "  'C)3 minutes',\n",
              "  'D)4 minutes',\n",
              "  'E)5 minutes'],\n",
              " 'rationale': \"Janice's speed = 1/6 miles per minute\\nJennie's speed = 1/3 miles per minute\\nJanice + Jennie's speed= (1/6 + 1/3) = 1/2 miles per minute\\nBoth together will finish the mile in 2 minutes\\ncorrect option is B\",\n",
              " 'correct': 'B'}"
            ]
          },
          "metadata": {},
          "execution_count": 26
        }
      ],
      "source": [
        "print(\"Example:\")\n",
        "data[150]"
      ]
    },
    {
      "cell_type": "markdown",
      "metadata": {
        "id": "6UcOYQPW8sVq"
      },
      "source": [
        "### Naive solution\n",
        "\n",
        "Here, we prompt the model to choose an answer to the example above (`data[150]`) out of the options given above. We're using a format that mimics grade school solution textbook.\n",
        "\n",
        "Please note that there are minor formatting changes in options: an extra space and an opening bracket. Those may or may not be important :)"
      ]
    },
    {
      "cell_type": "code",
      "execution_count": 27,
      "metadata": {
        "id": "KtkkdiJl3-UI"
      },
      "outputs": [],
      "source": [
        "EXAMPLE_0SHOT = \"\"\"\n",
        "Question: Janice bikes at 10 miles per hour, while Jennie bikes at 20. How long until they have collectively biked 1 mile?\n",
        "Answer Choices: (A) 1 minute (B) 2 minutes (C) 3 minutes (D) 4 minutes (E) 5 minutes\n",
        "Correct Answer:\n",
        "\"\"\".strip()"
      ]
    },
    {
      "cell_type": "code",
      "execution_count": 45,
      "metadata": {
        "colab": {
          "base_uri": "https://localhost:8080/"
        },
        "id": "hyQ_8tJc6nyv",
        "outputId": "b16931a1-50bc-4aad-d3ce-4c7a733dd793"
      },
      "outputs": [
        {
          "output_type": "stream",
          "name": "stdout",
          "text": [
            "[Prompt:]\n",
            "Question: Janice bikes at 10 miles per hour, while Jennie bikes at 20. How long until they have collectively biked 1 mile?\n",
            "Answer Choices: (A) 1 minute (B) 2 minutes (C) 3 minutes (D) 4 minutes (E) 5 minutes\n",
            "Correct Answer:\n",
            "================================================================================\n",
            "[Generated:] (E) 5 minutes\n",
            "Explanation: Jennie bikes at 20 miles per hour for 2 minutes. She will have travelled 2 miles in this time. Janice also bikes for 2 minutes, but at a slower speed of 10 miles per hour. This means that she will travel 2/10 miles or 0.2 miles. She will travel 1 mile in 5 minutes. Hence, 5 minutes will have el\n"
          ]
        }
      ],
      "source": [
        "# solving an equation directly\n",
        "batch = tokenizer(EXAMPLE_0SHOT, return_tensors='pt', return_token_type_ids=False).to(device)\n",
        "torch.manual_seed(1337)\n",
        "output_tokens = model.generate(**batch, max_new_tokens=100, do_sample=True, top_p=0.9)\n",
        "print(\"[Prompt:]\\n\" + EXAMPLE_0SHOT)\n",
        "print(\"=\" * 80)\n",
        "print(\"[Generated:]\", tokenizer.decode(output_tokens[0][batch['input_ids'].shape[1]:].cpu()))"
      ]
    },
    {
      "cell_type": "markdown",
      "metadata": {
        "id": "suSkiDk28I6C"
      },
      "source": [
        "And here's how you can solve this with few-shot chain-of-thought prompting.\n",
        "\n",
        "You need to chang 3 things\n",
        "- use a new field called **Rationale**, that contains a step-by-step solution to the problem\n",
        "- add several few-shot examples of previously solved problems **with rationales**\n",
        "- change the final prompt so that the model has to generate rationale before answering"
      ]
    },
    {
      "cell_type": "code",
      "execution_count": 48,
      "metadata": {
        "id": "K0F1jYdRvoJW"
      },
      "outputs": [],
      "source": [
        "EXAMPLE_3SHOT_CHAIN_OF_THOUGHT = \"\"\"\n",
        "Question: The original retail price of an appliance was 60 percent more than its wholesale cost. If the appliance was actually sold for 20 percent less than the original retail price, then it was sold for what percent more than its wholesale cost?\n",
        "Answer Choices: (A) 20% (B) 28% (C) 36% (D) 40% (E) 42%\n",
        "Rationale: wholesale cost = 100;\\noriginal price = 100*1.6 = 160;\\nactual price = 160*0.8 = 128.\\nAnswer: B.\n",
        "Correct Answer: B\n",
        "\n",
        "\n",
        "Question: A grocer makes a 25% profit on the selling price for each bag of flour it sells. If he sells each bag for $100 and makes $3,000 in profit, how many bags did he sell?\n",
        "Answer Choices: (A) 12 (B) 16 (C) 24 (D) 30 (E) 40\n",
        "Rationale: Profit on one bag: 100*1.25= 125\\nNumber of bags sold = 3000/125 = 24\\nAnswer is C.\n",
        "Correct Answer: C\n",
        "\n",
        "\n",
        "Question: 20 marbles were pulled out of a bag of only white marbles, painted black, and then put back in. Then, another 20 marbles were pulled out, of which 1 was black, after which they were all returned to the bag. If the percentage of black marbles pulled out the second time represents their percentage in the bag, how many marbles in total Q does the bag currently hold?\n",
        "Answer Choices: (A) 40 (B) 200 (C) 380 (D) 400 (E) 3200\n",
        "Rationale: We know that there are 20 black marbles in the bag and this number represent 1/20 th of the number of all marbles in the bag, thus there are total Q of 20*20=400 marbles.\\nAnswer: D.\n",
        "Correct Answer: D\n",
        "\n",
        "\n",
        "Question: Janice bikes at 10 miles per hour, while Jennie bikes at 20. How long until they have collectively biked 1 mile?\n",
        "Answer Choices: (A) 1 minute (B) 2 minutes (C) 3 minutes (D) 4 minutes (E) 5 minutes\n",
        "Rationale:\n",
        "\"\"\".strip()"
      ]
    },
    {
      "cell_type": "code",
      "execution_count": 30,
      "metadata": {
        "colab": {
          "base_uri": "https://localhost:8080/"
        },
        "id": "Tn8QoAYcRkHC",
        "outputId": "9cbc2e10-57a8-434a-f8ee-ef043e6da332"
      },
      "outputs": [
        {
          "output_type": "stream",
          "name": "stdout",
          "text": [
            "[Prompt:]\n",
            "Question: The original retail price of an appliance was 60 percent more than its wholesale cost. If the appliance was actually sold for 20 percent less than the original retail price, then it was sold for what percent more than its wholesale cost?\n",
            "Answer Choices: (A) 20% (B) 28% (C) 36% (D) 40% (E) 42%\n",
            "Rationale: wholesale cost = 100;\n",
            "original price = 100*1.6 = 160;\n",
            "actual price = 160*0.8 = 128.\n",
            "Answer: B.\n",
            "Correct Answer: B\n",
            "\n",
            "\n",
            "Question: A grocer makes a 25% profit on the selling price for each bag of flour it sells. If he sells each bag for $100 and makes $3,000 in profit, how many bags did he sell?\n",
            "Answer Choices: (A) 12 (B) 16 (C) 24 (D) 30 (E) 40\n",
            "Rationale: Profit on one bag: 100*1.25= 125\n",
            "Number of bags sold = 3000/125 = 24\n",
            "Answer is C.\n",
            "Correct Answer: C\n",
            "\n",
            "\n",
            "Question: 20 marbles were pulled out of a bag of only white marbles, painted black, and then put back in. Then, another 20 marbles were pulled out, of which 1 was black, after which they were all returned to the bag. If the percentage of black marbles pulled out the second time represents their percentage in the bag, how many marbles in total Q does the bag currently hold?\n",
            "Answer Choices: (A) 40 (B) 200 (C) 380 (D) 400 (E) 3200\n",
            "Rationale: We know that there are 20 black marbles in the bag and this number represent 1/20 th of the number of all marbles in the bag, thus there are total Q of 20*20=400 marbles.\n",
            "Answer: D.\n",
            "Correct Answer: D\n",
            "\n",
            "\n",
            "Question: Janice bikes at 10 miles per hour, while Jennie bikes at 20. How long until they have collectively biked 1 mile?\n",
            "Answer Choices: (A) 1 minute (B) 2 minutes (C) 3 minutes (D) 4 minutes (E) 5 minutes\n",
            "Rationale:\n",
            "================================================================================\n",
            "[Generated:] 10 + 20 = 30 miles per hour, thus the time required for them to bike 1 mile collectively is 1/30th of an hour, which is 1/30th of 60= 2 minutes\n",
            "Answer is B.\n",
            "Correct Answer: B\n",
            "\n",
            "Question: How many different times tables are there in the range of 10 times 10 and 20 times 20?\n",
            "Answer\n"
          ]
        }
      ],
      "source": [
        "batch = tokenizer(EXAMPLE_3SHOT_CHAIN_OF_THOUGHT, return_tensors='pt', return_token_type_ids=False).to(device)\n",
        "torch.manual_seed(1337)\n",
        "output_tokens = model.generate(**batch, max_new_tokens=100, do_sample=True, top_p=0.9)\n",
        "print(\"[Prompt:]\\n\" + EXAMPLE_3SHOT_CHAIN_OF_THOUGHT)\n",
        "print(\"=\" * 80\n",
        "print(\"[Generated:]\", tokenizer.decode(output_tokens[0][batch['input_ids'].shape[1]:].cpu()))\n",
        "#### NOTE: scroll down for the final answer (below the ======= line)"
      ]
    },
    {
      "cell_type": "markdown",
      "metadata": {
        "id": "s4px3jv-99-m"
      },
      "source": [
        "__Task 6 (1 pt)__ write a function that automatically creates chain-of-thought prompts. Follow the instructions from the function docstring."
      ]
    },
    {
      "cell_type": "code",
      "execution_count": 52,
      "metadata": {
        "id": "_ntyFPMt9fyt",
        "colab": {
          "base_uri": "https://localhost:8080/"
        },
        "outputId": "ba929e56-4645-4e78-d473-933d450cf3f8"
      },
      "outputs": [
        {
          "output_type": "stream",
          "name": "stdout",
          "text": [
            "Well done!\n"
          ]
        }
      ],
      "source": [
        "QUESTION_PREFIX = \"Question: \"\n",
        "OPTIONS_PREFIX = \"Answer Choices: \"\n",
        "CHAIN_OF_THOUGHT_PREFIX = \"Rationale: \"\n",
        "ANSWER_PREFIX = \"Correct Answer: \"\n",
        "FEWSHOT_SEPARATOR = \"\\n\\n\\n\"\n",
        "\n",
        "def insert(source_str, insert_str, pos):\n",
        "    return source_str[:pos] + insert_str + source_str[pos:]\n",
        "\n",
        "def make_prompt(*, main_question, fewshot_examples):\n",
        "    \"\"\"\n",
        "    Your goal is to produce the same prompt as the EXAMPLE_3SHOT_CHAIN_OF_THOUGHT automatically\n",
        "\n",
        "    For each few-shot question, make sure to follow the following rules:\n",
        "    1. Each question begins with QUESTION_PREFIX, after which you should print the question without leading/traiiling spaces (if any)\n",
        "    2. After the question, provide space-separated options. Each option should be put in double brackets, followed by option text, e.g. \"(A) 146%\"\n",
        "    3. Then, provide the answer as a single letter (A-E)\n",
        "    4. Finally, add trailing newlines from FEWSHOT_SEPARATOR\n",
        "\n",
        "    Your final prompt should contain all fewshot_examples (in order), separated with FEWSHOT_SEPARATOR, then follow with main_question.\n",
        "    The main_question should contain the question and options formatted the same way as in FEWSHOT_EXAMPLES.\n",
        "    After that, you should prompt the model to produce an explanation (rationale) for the answer.\n",
        "\n",
        "    Please make sure your prompt contains no leading/trailing newlines or spaces, same as in EXAMPLE_3SHOT_CHAIN_OF_THOUGHT\n",
        "    \"\"\"\n",
        "\n",
        "    #   <YOUR CODE HERE>\n",
        "    prompt = \"\"\n",
        "    for example in fewshot_examples:\n",
        "        prompt += QUESTION_PREFIX + example['question'].strip() + '\\n'\n",
        "        prompt += OPTIONS_PREFIX + ' '.join(f\"({insert(x, ' ', 2)}\" for x in example['options']).strip() + '\\n'\n",
        "        prompt += CHAIN_OF_THOUGHT_PREFIX + example['rationale'].strip() + '\\n'\n",
        "        prompt += ANSWER_PREFIX + example['correct'].strip() + FEWSHOT_SEPARATOR\n",
        "    prompt += QUESTION_PREFIX + main_question['question'].strip() + '\\n'\n",
        "    prompt += OPTIONS_PREFIX + ' '.join(f\"({insert(x, ' ', 2)}\" for x in main_question['options']).strip() + '\\n'\n",
        "    prompt += CHAIN_OF_THOUGHT_PREFIX.strip()\n",
        "\n",
        "    #   return <a string that contains the prompt formatted as per instructions above>\n",
        "    return prompt\n",
        "\n",
        "\n",
        "\n",
        "generated_fewshot_prompt = make_prompt(main_question=data[150], fewshot_examples=(data[30], data[20], data[5]))\n",
        "assert generated_fewshot_prompt == EXAMPLE_3SHOT_CHAIN_OF_THOUGHT, \"prompts don't match\"\n",
        "assert generated_fewshot_prompt != make_prompt(main_question=data[150], fewshot_examples=())\n",
        "assert generated_fewshot_prompt.endswith(make_prompt(main_question=data[150], fewshot_examples=()))\n",
        "\n",
        "print(\"Well done!\")\n",
        "\n",
        "# Hint: if two prompts do not match, you may find it usefull to use https://www.diffchecker.com or similar to find the difference"
      ]
    },
    {
      "cell_type": "code",
      "source": [
        "print(len(generated_fewshot_prompt), len(EXAMPLE_3SHOT_CHAIN_OF_THOUGHT))"
      ],
      "metadata": {
        "colab": {
          "base_uri": "https://localhost:8080/"
        },
        "id": "4-08TN-vBHAU",
        "outputId": "03539e80-bd51-49e1-c70a-bd688ed4bdbf"
      },
      "execution_count": 53,
      "outputs": [
        {
          "output_type": "stream",
          "name": "stdout",
          "text": [
            "1633 1633\n"
          ]
        }
      ]
    },
    {
      "cell_type": "markdown",
      "metadata": {
        "id": "P7DzQ8hfOcFR"
      },
      "source": [
        "__Task 7 (1 points):__ Evaluate your prompt.\n",
        "\n",
        "Please run the model on the entire dataset and measure it's accuracy.\n",
        "For each question, peak $n=5$ other questions at random to serve as few-shot examples. Make sure not to accidentally sample the main_question among few-shot examples. For scientific evaluation, it is also a good practice to split the data into two parts: one for eval, and another for few-shot examples. However, doing so is optional in this homework.\n",
        "\n",
        "The tricky part is when to stop generating: if you don't control for this, your model can accidentally generate a whole new question - and promptyly answer it :) To make sure you get the correct answer, stop generating tokens when the model is done explaining it's solution. To circumvent this, you need to __stop generating as soon as the model generates Final Answer: [A-E]__\n",
        "To do so, you can either generate manually (see low-level generation above) or use [transformers stopping criteria](https://discuss.huggingface.co/t/implimentation-of-stopping-criteria-list/20040/2), whichever you prefer.\n",
        "\n",
        "If you do everything right, the model should be much better than random. However, please __do not expect miracles__: this is far from the best models, and it will perform much worse than an average human."
      ]
    },
    {
      "cell_type": "code",
      "execution_count": 93,
      "metadata": {
        "id": "oMvj9eCtQwnz"
      },
      "outputs": [],
      "source": [
        "NUM_SAMPLES = 0    # use this to count how many samples you evaluated\n",
        "NUM_RESPONDED = 0  # how many times did the model produce Correct Answer: (letter) in it's response. use as a sanity check.\n",
        "NUM_CORRECT = 0    # how many times did the model's chosen answer (letter) match the correct answer"
      ]
    },
    {
      "cell_type": "code",
      "source": [
        "len(data)"
      ],
      "metadata": {
        "colab": {
          "base_uri": "https://localhost:8080/"
        },
        "id": "I6bTJR_0CWZV",
        "outputId": "9d555b27-dd18-4a4a-b5bd-fc84f17f3760"
      },
      "execution_count": 94,
      "outputs": [
        {
          "output_type": "execute_result",
          "data": {
            "text/plain": [
              "254"
            ]
          },
          "metadata": {},
          "execution_count": 94
        }
      ]
    },
    {
      "cell_type": "code",
      "execution_count": 95,
      "metadata": {
        "id": "Zh6gejr0JNuh"
      },
      "outputs": [],
      "source": [
        "def get_answer(full_prompt, main_question):\n",
        "    batch = tokenizer(full_prompt, return_tensors='pt', return_token_type_ids=False).to(device)\n",
        "    torch.manual_seed(1337)\n",
        "    output_tokens = model.generate(**batch, max_new_tokens=500, do_sample=True, top_p=0.9)\n",
        "    output = tokenizer.decode(output_tokens[0][batch['input_ids'].shape[1]:].cpu())\n",
        "    correct_ix = output.find('Correct Answer:')\n",
        "    num_r = output.count('Correct Answer: ')\n",
        "    sliced = output[correct_ix:]\n",
        "    new_line_ix = sliced.find('\\n')\n",
        "    sliced = sliced[:new_line_ix]\n",
        "    answer = sliced.replace('Correct Answer:', '').strip()\n",
        "    return answer, num_r\n",
        "    # sliced_ix = sliced.find('\\n')\n",
        "    # print(sliced[:sliced_ix])\n",
        "\n",
        "# Optionally, consider inferencing multiple sentences in a batch for faster inference;\n",
        "# If you choose to batch outputs, make sure the results are the same as with batch=1 (using greedy inference)"
      ]
    },
    {
      "cell_type": "code",
      "source": [],
      "metadata": {
        "id": "Edx8Amd5ECTD"
      },
      "execution_count": 95,
      "outputs": []
    },
    {
      "cell_type": "code",
      "source": [
        "import numpy as np\n",
        "for i, x in enumerate(data):\n",
        "    indices = [x for x in range(len(data)) if x!=i]\n",
        "    prompts_ixes = np.random.choice(indices, size=5)\n",
        "    prompts = [data[ix] for ix in prompts_ixes]\n",
        "\n",
        "    full_prompt = make_prompt(main_question=x, fewshot_examples=prompts)\n",
        "    answer_letter, num_r = get_answer(full_prompt, x)\n",
        "    NUM_SAMPLES += 1\n",
        "    NUM_RESPONDED += num_r\n",
        "    if answer_letter == x['correct']:\n",
        "        NUM_CORRECT += 1"
      ],
      "metadata": {
        "id": "1x8k_bfCDA3V"
      },
      "execution_count": 96,
      "outputs": []
    },
    {
      "cell_type": "code",
      "execution_count": 97,
      "metadata": {
        "id": "gxrCJvxIJSjA",
        "colab": {
          "base_uri": "https://localhost:8080/"
        },
        "outputId": "07b8c67f-4a15-4a75-a370-4bc11af17f12"
      },
      "outputs": [
        {
          "output_type": "stream",
          "name": "stdout",
          "text": [
            "Responded %%: 2.5708661417322833\n",
            "Accuracy (when responded): 0.08269525267993874\n",
            "Accuracy (overall): 0.2125984251968504\n"
          ]
        }
      ],
      "source": [
        "print(\"Responded %%:\", NUM_RESPONDED / NUM_SAMPLES)\n",
        "print(\"Accuracy (when responded):\", NUM_CORRECT / NUM_RESPONDED)\n",
        "print(\"Accuracy (overall):\", NUM_CORRECT / NUM_SAMPLES)\n",
        "\n",
        "if NUM_RESPONDED / NUM_SAMPLES < 0.9:\n",
        "  print(\"Something is wrong with the evaluation technique (for 5-shot CoT): the model refuses to answer too many questions.\")\n",
        "  print(\"Make sure you generate enough tokens that the model can produce a correct answer.\")\n",
        "  print(\"When in doubt, take a look at the full model output. You can often spot errors there.\")"
      ]
    },
    {
      "cell_type": "markdown",
      "metadata": {
        "id": "UZLK2rLiKxbM"
      },
      "source": [
        "__Task 8 (2 points)__ Experiment time!\n",
        "<img width=200px src=https://www.evolvefish.com/cdn-cgi/image/quality%3D85/assets/images/Apparel/TShirtsWomenCont/Main/EF-APP-CWT-00068(Main).jpg>\n",
        "\n",
        "Your final quest is to use the testbench you've just written to answer one of the following questions:\n",
        "\n",
        "### Option 1: How many shots do you need?\n",
        "\n",
        "How does model accuracy change with the number of fewshot examples?\n",
        "\n",
        "a. check if the model accuracy changes as you increase/decrease the number of \"shots\"\n",
        "\n",
        "b. try to prompt-engineer a model into giving the best rationale __without__ any few-shot examples, i.e. zero-shot\n",
        "\n",
        "For zero-shot mode, feel free to use wild prompt-engineering or modify the inference procedure.\n",
        "\n",
        "### Option 2: Is this prompting tecnique reliable?\n",
        "\n",
        "_Inspired by ongoing research by Anton Voronov, Lena Volf and Max Ryabinin._\n",
        "\n",
        "For this option, you need to check if the model behavior (and hence, accuracy) is robust to perturbations in the input prompt.\n",
        "\n",
        "a. Does the accuracy degrade if you provide wrong answers to few-shot examples? (make sure to modify rationale if it contains answer in the end)\n",
        "\n",
        "b. Does it degrade if you replace question/answer prompts with \"Q\" and \"A\"? What if you write both on the same line? Change few-shot separators?\n",
        "\n",
        "\n",
        "\n",
        "### Option 3: Inference Matters\n",
        "\n",
        "There are many ways to inference the model, not all of them equal.\n",
        "\n",
        "a. check whether greedy inference or beam search affects model generation quality\n",
        "\n",
        "b. implement and evaluate sampling with voting (see explanation below).\n",
        "\n",
        "\n",
        "The voting technique(b) should work as follows: first, you generate k (e.g. 50) \"attempts\" at an answer using nucleus sampling (or a similar technique).\n",
        "Then, you count how many of those attempts chose a particular option (A, B, etc) as the final answer. The option that was chosen most frequently has the most \"votes\", and therefore \"wins\".\n",
        "\n",
        "To speed up voting, you may want to generate these attempts in parallel as a batch. That should be very easy to implement: just run `model.generate` on a list with multiple copies of the same prompt.\n",
        "\n",
        "\n",
        "\n",
        "\n",
        "================================================\n",
        "\n",
        "__Common rules:__ You will need to test both hypothes (A and B) in the chosen option. You may choose to replace one of them with your own idea - but please ask course staff in advance (via telegram) if you want full points.\n",
        "\n",
        "Feel free to organize your code and report as you see fit - but please make sure it's readable and the code runs top-to-bottom :)\n",
        "Write a short informal report about what you tried and, in doing so, what did you found. Minimum of 2 paragraphs; more is ok; creative visualizations are welcome.\n",
        "\n",
        "You are allowed (but not required) to prompt the model into generating a report for you --- or helping you write one. However, if you do so, make sure that it is still human-readable :)\n",
        "\n"
      ]
    },
    {
      "cell_type": "code",
      "execution_count": null,
      "metadata": {
        "id": "_r6UVDl4NEua"
      },
      "outputs": [],
      "source": [
        "# feel free to organize your solution as you see fit"
      ]
    }
  ],
  "metadata": {
    "accelerator": "GPU",
    "colab": {
      "gpuType": "T4",
      "provenance": []
    },
    "kernelspec": {
      "display_name": "Python 3",
      "name": "python3"
    },
    "language_info": {
      "codemirror_mode": {
        "name": "ipython",
        "version": 3
      },
      "file_extension": ".py",
      "mimetype": "text/x-python",
      "name": "python",
      "nbconvert_exporter": "python",
      "pygments_lexer": "ipython3",
      "version": "3.11.4"
    },
    "widgets": {
      "application/vnd.jupyter.widget-state+json": {
        "b22d3e2c8f8343bf8086b49c49041c36": {
          "model_module": "@jupyter-widgets/controls",
          "model_name": "HBoxModel",
          "model_module_version": "1.5.0",
          "state": {
            "_dom_classes": [],
            "_model_module": "@jupyter-widgets/controls",
            "_model_module_version": "1.5.0",
            "_model_name": "HBoxModel",
            "_view_count": null,
            "_view_module": "@jupyter-widgets/controls",
            "_view_module_version": "1.5.0",
            "_view_name": "HBoxView",
            "box_style": "",
            "children": [
              "IPY_MODEL_1dd4d20fa5384bf8b92d6a14d6e14357",
              "IPY_MODEL_9070b667486340599ecf458c2c2d72f6",
              "IPY_MODEL_a0b218b040244e3b9df543374b88fb89"
            ],
            "layout": "IPY_MODEL_179c79de562544aea3d7fe3e93ec3036"
          }
        },
        "1dd4d20fa5384bf8b92d6a14d6e14357": {
          "model_module": "@jupyter-widgets/controls",
          "model_name": "HTMLModel",
          "model_module_version": "1.5.0",
          "state": {
            "_dom_classes": [],
            "_model_module": "@jupyter-widgets/controls",
            "_model_module_version": "1.5.0",
            "_model_name": "HTMLModel",
            "_view_count": null,
            "_view_module": "@jupyter-widgets/controls",
            "_view_module_version": "1.5.0",
            "_view_name": "HTMLView",
            "description": "",
            "description_tooltip": null,
            "layout": "IPY_MODEL_865a1da6e64a41d4b18cb77e216cfca1",
            "placeholder": "​",
            "style": "IPY_MODEL_28a5cf9d69844bc698a349bf114019ff",
            "value": "Downloading (…)okenizer_config.json: 100%"
          }
        },
        "9070b667486340599ecf458c2c2d72f6": {
          "model_module": "@jupyter-widgets/controls",
          "model_name": "FloatProgressModel",
          "model_module_version": "1.5.0",
          "state": {
            "_dom_classes": [],
            "_model_module": "@jupyter-widgets/controls",
            "_model_module_version": "1.5.0",
            "_model_name": "FloatProgressModel",
            "_view_count": null,
            "_view_module": "@jupyter-widgets/controls",
            "_view_module_version": "1.5.0",
            "_view_name": "ProgressView",
            "bar_style": "success",
            "description": "",
            "description_tooltip": null,
            "layout": "IPY_MODEL_921d9c29ab4a48568fe683bf2f171fb0",
            "max": 727,
            "min": 0,
            "orientation": "horizontal",
            "style": "IPY_MODEL_9a2259eaeb01494cb8b9309fa3f3f914",
            "value": 727
          }
        },
        "a0b218b040244e3b9df543374b88fb89": {
          "model_module": "@jupyter-widgets/controls",
          "model_name": "HTMLModel",
          "model_module_version": "1.5.0",
          "state": {
            "_dom_classes": [],
            "_model_module": "@jupyter-widgets/controls",
            "_model_module_version": "1.5.0",
            "_model_name": "HTMLModel",
            "_view_count": null,
            "_view_module": "@jupyter-widgets/controls",
            "_view_module_version": "1.5.0",
            "_view_name": "HTMLView",
            "description": "",
            "description_tooltip": null,
            "layout": "IPY_MODEL_bc8f78235b934eaba900136ed2100c82",
            "placeholder": "​",
            "style": "IPY_MODEL_41fd767dcc194f248c989d677bba9ed7",
            "value": " 727/727 [00:00&lt;00:00, 54.0kB/s]"
          }
        },
        "179c79de562544aea3d7fe3e93ec3036": {
          "model_module": "@jupyter-widgets/base",
          "model_name": "LayoutModel",
          "model_module_version": "1.2.0",
          "state": {
            "_model_module": "@jupyter-widgets/base",
            "_model_module_version": "1.2.0",
            "_model_name": "LayoutModel",
            "_view_count": null,
            "_view_module": "@jupyter-widgets/base",
            "_view_module_version": "1.2.0",
            "_view_name": "LayoutView",
            "align_content": null,
            "align_items": null,
            "align_self": null,
            "border": null,
            "bottom": null,
            "display": null,
            "flex": null,
            "flex_flow": null,
            "grid_area": null,
            "grid_auto_columns": null,
            "grid_auto_flow": null,
            "grid_auto_rows": null,
            "grid_column": null,
            "grid_gap": null,
            "grid_row": null,
            "grid_template_areas": null,
            "grid_template_columns": null,
            "grid_template_rows": null,
            "height": null,
            "justify_content": null,
            "justify_items": null,
            "left": null,
            "margin": null,
            "max_height": null,
            "max_width": null,
            "min_height": null,
            "min_width": null,
            "object_fit": null,
            "object_position": null,
            "order": null,
            "overflow": null,
            "overflow_x": null,
            "overflow_y": null,
            "padding": null,
            "right": null,
            "top": null,
            "visibility": null,
            "width": null
          }
        },
        "865a1da6e64a41d4b18cb77e216cfca1": {
          "model_module": "@jupyter-widgets/base",
          "model_name": "LayoutModel",
          "model_module_version": "1.2.0",
          "state": {
            "_model_module": "@jupyter-widgets/base",
            "_model_module_version": "1.2.0",
            "_model_name": "LayoutModel",
            "_view_count": null,
            "_view_module": "@jupyter-widgets/base",
            "_view_module_version": "1.2.0",
            "_view_name": "LayoutView",
            "align_content": null,
            "align_items": null,
            "align_self": null,
            "border": null,
            "bottom": null,
            "display": null,
            "flex": null,
            "flex_flow": null,
            "grid_area": null,
            "grid_auto_columns": null,
            "grid_auto_flow": null,
            "grid_auto_rows": null,
            "grid_column": null,
            "grid_gap": null,
            "grid_row": null,
            "grid_template_areas": null,
            "grid_template_columns": null,
            "grid_template_rows": null,
            "height": null,
            "justify_content": null,
            "justify_items": null,
            "left": null,
            "margin": null,
            "max_height": null,
            "max_width": null,
            "min_height": null,
            "min_width": null,
            "object_fit": null,
            "object_position": null,
            "order": null,
            "overflow": null,
            "overflow_x": null,
            "overflow_y": null,
            "padding": null,
            "right": null,
            "top": null,
            "visibility": null,
            "width": null
          }
        },
        "28a5cf9d69844bc698a349bf114019ff": {
          "model_module": "@jupyter-widgets/controls",
          "model_name": "DescriptionStyleModel",
          "model_module_version": "1.5.0",
          "state": {
            "_model_module": "@jupyter-widgets/controls",
            "_model_module_version": "1.5.0",
            "_model_name": "DescriptionStyleModel",
            "_view_count": null,
            "_view_module": "@jupyter-widgets/base",
            "_view_module_version": "1.2.0",
            "_view_name": "StyleView",
            "description_width": ""
          }
        },
        "921d9c29ab4a48568fe683bf2f171fb0": {
          "model_module": "@jupyter-widgets/base",
          "model_name": "LayoutModel",
          "model_module_version": "1.2.0",
          "state": {
            "_model_module": "@jupyter-widgets/base",
            "_model_module_version": "1.2.0",
            "_model_name": "LayoutModel",
            "_view_count": null,
            "_view_module": "@jupyter-widgets/base",
            "_view_module_version": "1.2.0",
            "_view_name": "LayoutView",
            "align_content": null,
            "align_items": null,
            "align_self": null,
            "border": null,
            "bottom": null,
            "display": null,
            "flex": null,
            "flex_flow": null,
            "grid_area": null,
            "grid_auto_columns": null,
            "grid_auto_flow": null,
            "grid_auto_rows": null,
            "grid_column": null,
            "grid_gap": null,
            "grid_row": null,
            "grid_template_areas": null,
            "grid_template_columns": null,
            "grid_template_rows": null,
            "height": null,
            "justify_content": null,
            "justify_items": null,
            "left": null,
            "margin": null,
            "max_height": null,
            "max_width": null,
            "min_height": null,
            "min_width": null,
            "object_fit": null,
            "object_position": null,
            "order": null,
            "overflow": null,
            "overflow_x": null,
            "overflow_y": null,
            "padding": null,
            "right": null,
            "top": null,
            "visibility": null,
            "width": null
          }
        },
        "9a2259eaeb01494cb8b9309fa3f3f914": {
          "model_module": "@jupyter-widgets/controls",
          "model_name": "ProgressStyleModel",
          "model_module_version": "1.5.0",
          "state": {
            "_model_module": "@jupyter-widgets/controls",
            "_model_module_version": "1.5.0",
            "_model_name": "ProgressStyleModel",
            "_view_count": null,
            "_view_module": "@jupyter-widgets/base",
            "_view_module_version": "1.2.0",
            "_view_name": "StyleView",
            "bar_color": null,
            "description_width": ""
          }
        },
        "bc8f78235b934eaba900136ed2100c82": {
          "model_module": "@jupyter-widgets/base",
          "model_name": "LayoutModel",
          "model_module_version": "1.2.0",
          "state": {
            "_model_module": "@jupyter-widgets/base",
            "_model_module_version": "1.2.0",
            "_model_name": "LayoutModel",
            "_view_count": null,
            "_view_module": "@jupyter-widgets/base",
            "_view_module_version": "1.2.0",
            "_view_name": "LayoutView",
            "align_content": null,
            "align_items": null,
            "align_self": null,
            "border": null,
            "bottom": null,
            "display": null,
            "flex": null,
            "flex_flow": null,
            "grid_area": null,
            "grid_auto_columns": null,
            "grid_auto_flow": null,
            "grid_auto_rows": null,
            "grid_column": null,
            "grid_gap": null,
            "grid_row": null,
            "grid_template_areas": null,
            "grid_template_columns": null,
            "grid_template_rows": null,
            "height": null,
            "justify_content": null,
            "justify_items": null,
            "left": null,
            "margin": null,
            "max_height": null,
            "max_width": null,
            "min_height": null,
            "min_width": null,
            "object_fit": null,
            "object_position": null,
            "order": null,
            "overflow": null,
            "overflow_x": null,
            "overflow_y": null,
            "padding": null,
            "right": null,
            "top": null,
            "visibility": null,
            "width": null
          }
        },
        "41fd767dcc194f248c989d677bba9ed7": {
          "model_module": "@jupyter-widgets/controls",
          "model_name": "DescriptionStyleModel",
          "model_module_version": "1.5.0",
          "state": {
            "_model_module": "@jupyter-widgets/controls",
            "_model_module_version": "1.5.0",
            "_model_name": "DescriptionStyleModel",
            "_view_count": null,
            "_view_module": "@jupyter-widgets/base",
            "_view_module_version": "1.2.0",
            "_view_name": "StyleView",
            "description_width": ""
          }
        },
        "c786b9aa88c4408894b83f23960dbb80": {
          "model_module": "@jupyter-widgets/controls",
          "model_name": "HBoxModel",
          "model_module_version": "1.5.0",
          "state": {
            "_dom_classes": [],
            "_model_module": "@jupyter-widgets/controls",
            "_model_module_version": "1.5.0",
            "_model_name": "HBoxModel",
            "_view_count": null,
            "_view_module": "@jupyter-widgets/controls",
            "_view_module_version": "1.5.0",
            "_view_name": "HBoxView",
            "box_style": "",
            "children": [
              "IPY_MODEL_44128cb26c1d4193820e9353640c146d",
              "IPY_MODEL_2ed30c2dc789474a9e89676a156dbedd",
              "IPY_MODEL_303cf773109548b6bc497babca355959"
            ],
            "layout": "IPY_MODEL_2ee901791bef432fbe983c59ebc8a5b9"
          }
        },
        "44128cb26c1d4193820e9353640c146d": {
          "model_module": "@jupyter-widgets/controls",
          "model_name": "HTMLModel",
          "model_module_version": "1.5.0",
          "state": {
            "_dom_classes": [],
            "_model_module": "@jupyter-widgets/controls",
            "_model_module_version": "1.5.0",
            "_model_name": "HTMLModel",
            "_view_count": null,
            "_view_module": "@jupyter-widgets/controls",
            "_view_module_version": "1.5.0",
            "_view_name": "HTMLView",
            "description": "",
            "description_tooltip": null,
            "layout": "IPY_MODEL_07909dd3edbc4739bd78428b426acf4a",
            "placeholder": "​",
            "style": "IPY_MODEL_6ebe1249d3a948c89430124255eead49",
            "value": "Downloading tokenizer.model: 100%"
          }
        },
        "2ed30c2dc789474a9e89676a156dbedd": {
          "model_module": "@jupyter-widgets/controls",
          "model_name": "FloatProgressModel",
          "model_module_version": "1.5.0",
          "state": {
            "_dom_classes": [],
            "_model_module": "@jupyter-widgets/controls",
            "_model_module_version": "1.5.0",
            "_model_name": "FloatProgressModel",
            "_view_count": null,
            "_view_module": "@jupyter-widgets/controls",
            "_view_module_version": "1.5.0",
            "_view_name": "ProgressView",
            "bar_style": "success",
            "description": "",
            "description_tooltip": null,
            "layout": "IPY_MODEL_a80cc2c733424499a821d46aedf0f739",
            "max": 499723,
            "min": 0,
            "orientation": "horizontal",
            "style": "IPY_MODEL_47396b9f0b994fc6970368a14e934fde",
            "value": 499723
          }
        },
        "303cf773109548b6bc497babca355959": {
          "model_module": "@jupyter-widgets/controls",
          "model_name": "HTMLModel",
          "model_module_version": "1.5.0",
          "state": {
            "_dom_classes": [],
            "_model_module": "@jupyter-widgets/controls",
            "_model_module_version": "1.5.0",
            "_model_name": "HTMLModel",
            "_view_count": null,
            "_view_module": "@jupyter-widgets/controls",
            "_view_module_version": "1.5.0",
            "_view_name": "HTMLView",
            "description": "",
            "description_tooltip": null,
            "layout": "IPY_MODEL_6189b06998654413aadea822461fda94",
            "placeholder": "​",
            "style": "IPY_MODEL_6f9bf00727f64e3795531eae474f4801",
            "value": " 500k/500k [00:00&lt;00:00, 14.2MB/s]"
          }
        },
        "2ee901791bef432fbe983c59ebc8a5b9": {
          "model_module": "@jupyter-widgets/base",
          "model_name": "LayoutModel",
          "model_module_version": "1.2.0",
          "state": {
            "_model_module": "@jupyter-widgets/base",
            "_model_module_version": "1.2.0",
            "_model_name": "LayoutModel",
            "_view_count": null,
            "_view_module": "@jupyter-widgets/base",
            "_view_module_version": "1.2.0",
            "_view_name": "LayoutView",
            "align_content": null,
            "align_items": null,
            "align_self": null,
            "border": null,
            "bottom": null,
            "display": null,
            "flex": null,
            "flex_flow": null,
            "grid_area": null,
            "grid_auto_columns": null,
            "grid_auto_flow": null,
            "grid_auto_rows": null,
            "grid_column": null,
            "grid_gap": null,
            "grid_row": null,
            "grid_template_areas": null,
            "grid_template_columns": null,
            "grid_template_rows": null,
            "height": null,
            "justify_content": null,
            "justify_items": null,
            "left": null,
            "margin": null,
            "max_height": null,
            "max_width": null,
            "min_height": null,
            "min_width": null,
            "object_fit": null,
            "object_position": null,
            "order": null,
            "overflow": null,
            "overflow_x": null,
            "overflow_y": null,
            "padding": null,
            "right": null,
            "top": null,
            "visibility": null,
            "width": null
          }
        },
        "07909dd3edbc4739bd78428b426acf4a": {
          "model_module": "@jupyter-widgets/base",
          "model_name": "LayoutModel",
          "model_module_version": "1.2.0",
          "state": {
            "_model_module": "@jupyter-widgets/base",
            "_model_module_version": "1.2.0",
            "_model_name": "LayoutModel",
            "_view_count": null,
            "_view_module": "@jupyter-widgets/base",
            "_view_module_version": "1.2.0",
            "_view_name": "LayoutView",
            "align_content": null,
            "align_items": null,
            "align_self": null,
            "border": null,
            "bottom": null,
            "display": null,
            "flex": null,
            "flex_flow": null,
            "grid_area": null,
            "grid_auto_columns": null,
            "grid_auto_flow": null,
            "grid_auto_rows": null,
            "grid_column": null,
            "grid_gap": null,
            "grid_row": null,
            "grid_template_areas": null,
            "grid_template_columns": null,
            "grid_template_rows": null,
            "height": null,
            "justify_content": null,
            "justify_items": null,
            "left": null,
            "margin": null,
            "max_height": null,
            "max_width": null,
            "min_height": null,
            "min_width": null,
            "object_fit": null,
            "object_position": null,
            "order": null,
            "overflow": null,
            "overflow_x": null,
            "overflow_y": null,
            "padding": null,
            "right": null,
            "top": null,
            "visibility": null,
            "width": null
          }
        },
        "6ebe1249d3a948c89430124255eead49": {
          "model_module": "@jupyter-widgets/controls",
          "model_name": "DescriptionStyleModel",
          "model_module_version": "1.5.0",
          "state": {
            "_model_module": "@jupyter-widgets/controls",
            "_model_module_version": "1.5.0",
            "_model_name": "DescriptionStyleModel",
            "_view_count": null,
            "_view_module": "@jupyter-widgets/base",
            "_view_module_version": "1.2.0",
            "_view_name": "StyleView",
            "description_width": ""
          }
        },
        "a80cc2c733424499a821d46aedf0f739": {
          "model_module": "@jupyter-widgets/base",
          "model_name": "LayoutModel",
          "model_module_version": "1.2.0",
          "state": {
            "_model_module": "@jupyter-widgets/base",
            "_model_module_version": "1.2.0",
            "_model_name": "LayoutModel",
            "_view_count": null,
            "_view_module": "@jupyter-widgets/base",
            "_view_module_version": "1.2.0",
            "_view_name": "LayoutView",
            "align_content": null,
            "align_items": null,
            "align_self": null,
            "border": null,
            "bottom": null,
            "display": null,
            "flex": null,
            "flex_flow": null,
            "grid_area": null,
            "grid_auto_columns": null,
            "grid_auto_flow": null,
            "grid_auto_rows": null,
            "grid_column": null,
            "grid_gap": null,
            "grid_row": null,
            "grid_template_areas": null,
            "grid_template_columns": null,
            "grid_template_rows": null,
            "height": null,
            "justify_content": null,
            "justify_items": null,
            "left": null,
            "margin": null,
            "max_height": null,
            "max_width": null,
            "min_height": null,
            "min_width": null,
            "object_fit": null,
            "object_position": null,
            "order": null,
            "overflow": null,
            "overflow_x": null,
            "overflow_y": null,
            "padding": null,
            "right": null,
            "top": null,
            "visibility": null,
            "width": null
          }
        },
        "47396b9f0b994fc6970368a14e934fde": {
          "model_module": "@jupyter-widgets/controls",
          "model_name": "ProgressStyleModel",
          "model_module_version": "1.5.0",
          "state": {
            "_model_module": "@jupyter-widgets/controls",
            "_model_module_version": "1.5.0",
            "_model_name": "ProgressStyleModel",
            "_view_count": null,
            "_view_module": "@jupyter-widgets/base",
            "_view_module_version": "1.2.0",
            "_view_name": "StyleView",
            "bar_color": null,
            "description_width": ""
          }
        },
        "6189b06998654413aadea822461fda94": {
          "model_module": "@jupyter-widgets/base",
          "model_name": "LayoutModel",
          "model_module_version": "1.2.0",
          "state": {
            "_model_module": "@jupyter-widgets/base",
            "_model_module_version": "1.2.0",
            "_model_name": "LayoutModel",
            "_view_count": null,
            "_view_module": "@jupyter-widgets/base",
            "_view_module_version": "1.2.0",
            "_view_name": "LayoutView",
            "align_content": null,
            "align_items": null,
            "align_self": null,
            "border": null,
            "bottom": null,
            "display": null,
            "flex": null,
            "flex_flow": null,
            "grid_area": null,
            "grid_auto_columns": null,
            "grid_auto_flow": null,
            "grid_auto_rows": null,
            "grid_column": null,
            "grid_gap": null,
            "grid_row": null,
            "grid_template_areas": null,
            "grid_template_columns": null,
            "grid_template_rows": null,
            "height": null,
            "justify_content": null,
            "justify_items": null,
            "left": null,
            "margin": null,
            "max_height": null,
            "max_width": null,
            "min_height": null,
            "min_width": null,
            "object_fit": null,
            "object_position": null,
            "order": null,
            "overflow": null,
            "overflow_x": null,
            "overflow_y": null,
            "padding": null,
            "right": null,
            "top": null,
            "visibility": null,
            "width": null
          }
        },
        "6f9bf00727f64e3795531eae474f4801": {
          "model_module": "@jupyter-widgets/controls",
          "model_name": "DescriptionStyleModel",
          "model_module_version": "1.5.0",
          "state": {
            "_model_module": "@jupyter-widgets/controls",
            "_model_module_version": "1.5.0",
            "_model_name": "DescriptionStyleModel",
            "_view_count": null,
            "_view_module": "@jupyter-widgets/base",
            "_view_module_version": "1.2.0",
            "_view_name": "StyleView",
            "description_width": ""
          }
        },
        "14966b64a28d4fb188767bc3b55498a7": {
          "model_module": "@jupyter-widgets/controls",
          "model_name": "HBoxModel",
          "model_module_version": "1.5.0",
          "state": {
            "_dom_classes": [],
            "_model_module": "@jupyter-widgets/controls",
            "_model_module_version": "1.5.0",
            "_model_name": "HBoxModel",
            "_view_count": null,
            "_view_module": "@jupyter-widgets/controls",
            "_view_module_version": "1.5.0",
            "_view_name": "HBoxView",
            "box_style": "",
            "children": [
              "IPY_MODEL_1e19e17f23734d2f905434de4a180276",
              "IPY_MODEL_518ed81cb6584cde8f328937db4b7465",
              "IPY_MODEL_8dfaa980a989404195d20ae6468df6c4"
            ],
            "layout": "IPY_MODEL_d0326b20a8ca4668824c92b671930503"
          }
        },
        "1e19e17f23734d2f905434de4a180276": {
          "model_module": "@jupyter-widgets/controls",
          "model_name": "HTMLModel",
          "model_module_version": "1.5.0",
          "state": {
            "_dom_classes": [],
            "_model_module": "@jupyter-widgets/controls",
            "_model_module_version": "1.5.0",
            "_model_name": "HTMLModel",
            "_view_count": null,
            "_view_module": "@jupyter-widgets/controls",
            "_view_module_version": "1.5.0",
            "_view_name": "HTMLView",
            "description": "",
            "description_tooltip": null,
            "layout": "IPY_MODEL_801c745f181645e9b4ec0f7461a28d9a",
            "placeholder": "​",
            "style": "IPY_MODEL_a02933694ac84dda989854553c82a4d3",
            "value": "Downloading (…)cial_tokens_map.json: 100%"
          }
        },
        "518ed81cb6584cde8f328937db4b7465": {
          "model_module": "@jupyter-widgets/controls",
          "model_name": "FloatProgressModel",
          "model_module_version": "1.5.0",
          "state": {
            "_dom_classes": [],
            "_model_module": "@jupyter-widgets/controls",
            "_model_module_version": "1.5.0",
            "_model_name": "FloatProgressModel",
            "_view_count": null,
            "_view_module": "@jupyter-widgets/controls",
            "_view_module_version": "1.5.0",
            "_view_name": "ProgressView",
            "bar_style": "success",
            "description": "",
            "description_tooltip": null,
            "layout": "IPY_MODEL_4d24bfd5414a482f9c9bb235e838c07a",
            "max": 411,
            "min": 0,
            "orientation": "horizontal",
            "style": "IPY_MODEL_9c434e09a7d2447384166242361ffc85",
            "value": 411
          }
        },
        "8dfaa980a989404195d20ae6468df6c4": {
          "model_module": "@jupyter-widgets/controls",
          "model_name": "HTMLModel",
          "model_module_version": "1.5.0",
          "state": {
            "_dom_classes": [],
            "_model_module": "@jupyter-widgets/controls",
            "_model_module_version": "1.5.0",
            "_model_name": "HTMLModel",
            "_view_count": null,
            "_view_module": "@jupyter-widgets/controls",
            "_view_module_version": "1.5.0",
            "_view_name": "HTMLView",
            "description": "",
            "description_tooltip": null,
            "layout": "IPY_MODEL_7411ff82c26b4b61ae0fa9300ef852af",
            "placeholder": "​",
            "style": "IPY_MODEL_9db62d49d0e44537b96dd1cf59cd01bc",
            "value": " 411/411 [00:00&lt;00:00, 27.8kB/s]"
          }
        },
        "d0326b20a8ca4668824c92b671930503": {
          "model_module": "@jupyter-widgets/base",
          "model_name": "LayoutModel",
          "model_module_version": "1.2.0",
          "state": {
            "_model_module": "@jupyter-widgets/base",
            "_model_module_version": "1.2.0",
            "_model_name": "LayoutModel",
            "_view_count": null,
            "_view_module": "@jupyter-widgets/base",
            "_view_module_version": "1.2.0",
            "_view_name": "LayoutView",
            "align_content": null,
            "align_items": null,
            "align_self": null,
            "border": null,
            "bottom": null,
            "display": null,
            "flex": null,
            "flex_flow": null,
            "grid_area": null,
            "grid_auto_columns": null,
            "grid_auto_flow": null,
            "grid_auto_rows": null,
            "grid_column": null,
            "grid_gap": null,
            "grid_row": null,
            "grid_template_areas": null,
            "grid_template_columns": null,
            "grid_template_rows": null,
            "height": null,
            "justify_content": null,
            "justify_items": null,
            "left": null,
            "margin": null,
            "max_height": null,
            "max_width": null,
            "min_height": null,
            "min_width": null,
            "object_fit": null,
            "object_position": null,
            "order": null,
            "overflow": null,
            "overflow_x": null,
            "overflow_y": null,
            "padding": null,
            "right": null,
            "top": null,
            "visibility": null,
            "width": null
          }
        },
        "801c745f181645e9b4ec0f7461a28d9a": {
          "model_module": "@jupyter-widgets/base",
          "model_name": "LayoutModel",
          "model_module_version": "1.2.0",
          "state": {
            "_model_module": "@jupyter-widgets/base",
            "_model_module_version": "1.2.0",
            "_model_name": "LayoutModel",
            "_view_count": null,
            "_view_module": "@jupyter-widgets/base",
            "_view_module_version": "1.2.0",
            "_view_name": "LayoutView",
            "align_content": null,
            "align_items": null,
            "align_self": null,
            "border": null,
            "bottom": null,
            "display": null,
            "flex": null,
            "flex_flow": null,
            "grid_area": null,
            "grid_auto_columns": null,
            "grid_auto_flow": null,
            "grid_auto_rows": null,
            "grid_column": null,
            "grid_gap": null,
            "grid_row": null,
            "grid_template_areas": null,
            "grid_template_columns": null,
            "grid_template_rows": null,
            "height": null,
            "justify_content": null,
            "justify_items": null,
            "left": null,
            "margin": null,
            "max_height": null,
            "max_width": null,
            "min_height": null,
            "min_width": null,
            "object_fit": null,
            "object_position": null,
            "order": null,
            "overflow": null,
            "overflow_x": null,
            "overflow_y": null,
            "padding": null,
            "right": null,
            "top": null,
            "visibility": null,
            "width": null
          }
        },
        "a02933694ac84dda989854553c82a4d3": {
          "model_module": "@jupyter-widgets/controls",
          "model_name": "DescriptionStyleModel",
          "model_module_version": "1.5.0",
          "state": {
            "_model_module": "@jupyter-widgets/controls",
            "_model_module_version": "1.5.0",
            "_model_name": "DescriptionStyleModel",
            "_view_count": null,
            "_view_module": "@jupyter-widgets/base",
            "_view_module_version": "1.2.0",
            "_view_name": "StyleView",
            "description_width": ""
          }
        },
        "4d24bfd5414a482f9c9bb235e838c07a": {
          "model_module": "@jupyter-widgets/base",
          "model_name": "LayoutModel",
          "model_module_version": "1.2.0",
          "state": {
            "_model_module": "@jupyter-widgets/base",
            "_model_module_version": "1.2.0",
            "_model_name": "LayoutModel",
            "_view_count": null,
            "_view_module": "@jupyter-widgets/base",
            "_view_module_version": "1.2.0",
            "_view_name": "LayoutView",
            "align_content": null,
            "align_items": null,
            "align_self": null,
            "border": null,
            "bottom": null,
            "display": null,
            "flex": null,
            "flex_flow": null,
            "grid_area": null,
            "grid_auto_columns": null,
            "grid_auto_flow": null,
            "grid_auto_rows": null,
            "grid_column": null,
            "grid_gap": null,
            "grid_row": null,
            "grid_template_areas": null,
            "grid_template_columns": null,
            "grid_template_rows": null,
            "height": null,
            "justify_content": null,
            "justify_items": null,
            "left": null,
            "margin": null,
            "max_height": null,
            "max_width": null,
            "min_height": null,
            "min_width": null,
            "object_fit": null,
            "object_position": null,
            "order": null,
            "overflow": null,
            "overflow_x": null,
            "overflow_y": null,
            "padding": null,
            "right": null,
            "top": null,
            "visibility": null,
            "width": null
          }
        },
        "9c434e09a7d2447384166242361ffc85": {
          "model_module": "@jupyter-widgets/controls",
          "model_name": "ProgressStyleModel",
          "model_module_version": "1.5.0",
          "state": {
            "_model_module": "@jupyter-widgets/controls",
            "_model_module_version": "1.5.0",
            "_model_name": "ProgressStyleModel",
            "_view_count": null,
            "_view_module": "@jupyter-widgets/base",
            "_view_module_version": "1.2.0",
            "_view_name": "StyleView",
            "bar_color": null,
            "description_width": ""
          }
        },
        "7411ff82c26b4b61ae0fa9300ef852af": {
          "model_module": "@jupyter-widgets/base",
          "model_name": "LayoutModel",
          "model_module_version": "1.2.0",
          "state": {
            "_model_module": "@jupyter-widgets/base",
            "_model_module_version": "1.2.0",
            "_model_name": "LayoutModel",
            "_view_count": null,
            "_view_module": "@jupyter-widgets/base",
            "_view_module_version": "1.2.0",
            "_view_name": "LayoutView",
            "align_content": null,
            "align_items": null,
            "align_self": null,
            "border": null,
            "bottom": null,
            "display": null,
            "flex": null,
            "flex_flow": null,
            "grid_area": null,
            "grid_auto_columns": null,
            "grid_auto_flow": null,
            "grid_auto_rows": null,
            "grid_column": null,
            "grid_gap": null,
            "grid_row": null,
            "grid_template_areas": null,
            "grid_template_columns": null,
            "grid_template_rows": null,
            "height": null,
            "justify_content": null,
            "justify_items": null,
            "left": null,
            "margin": null,
            "max_height": null,
            "max_width": null,
            "min_height": null,
            "min_width": null,
            "object_fit": null,
            "object_position": null,
            "order": null,
            "overflow": null,
            "overflow_x": null,
            "overflow_y": null,
            "padding": null,
            "right": null,
            "top": null,
            "visibility": null,
            "width": null
          }
        },
        "9db62d49d0e44537b96dd1cf59cd01bc": {
          "model_module": "@jupyter-widgets/controls",
          "model_name": "DescriptionStyleModel",
          "model_module_version": "1.5.0",
          "state": {
            "_model_module": "@jupyter-widgets/controls",
            "_model_module_version": "1.5.0",
            "_model_name": "DescriptionStyleModel",
            "_view_count": null,
            "_view_module": "@jupyter-widgets/base",
            "_view_module_version": "1.2.0",
            "_view_name": "StyleView",
            "description_width": ""
          }
        },
        "b1d28655259a4aa9b2fe99b02e7b034e": {
          "model_module": "@jupyter-widgets/controls",
          "model_name": "HBoxModel",
          "model_module_version": "1.5.0",
          "state": {
            "_dom_classes": [],
            "_model_module": "@jupyter-widgets/controls",
            "_model_module_version": "1.5.0",
            "_model_name": "HBoxModel",
            "_view_count": null,
            "_view_module": "@jupyter-widgets/controls",
            "_view_module_version": "1.5.0",
            "_view_name": "HBoxView",
            "box_style": "",
            "children": [
              "IPY_MODEL_c05ae8fa2a4a4c64bb0558eeeef04268",
              "IPY_MODEL_db6a4a01cfc3452484d33f1bffc427cb",
              "IPY_MODEL_5f16f2a6f0854f718de48796bd7e4307"
            ],
            "layout": "IPY_MODEL_bd76e78881fd45bea3f58662be5cdb65"
          }
        },
        "c05ae8fa2a4a4c64bb0558eeeef04268": {
          "model_module": "@jupyter-widgets/controls",
          "model_name": "HTMLModel",
          "model_module_version": "1.5.0",
          "state": {
            "_dom_classes": [],
            "_model_module": "@jupyter-widgets/controls",
            "_model_module_version": "1.5.0",
            "_model_name": "HTMLModel",
            "_view_count": null,
            "_view_module": "@jupyter-widgets/controls",
            "_view_module_version": "1.5.0",
            "_view_name": "HTMLView",
            "description": "",
            "description_tooltip": null,
            "layout": "IPY_MODEL_028a460fc91243ce8e23a8d2471c91c5",
            "placeholder": "​",
            "style": "IPY_MODEL_aede82c16ca64a06a5b61dc8d5a1bf91",
            "value": "Downloading (…)/main/tokenizer.json: 100%"
          }
        },
        "db6a4a01cfc3452484d33f1bffc427cb": {
          "model_module": "@jupyter-widgets/controls",
          "model_name": "FloatProgressModel",
          "model_module_version": "1.5.0",
          "state": {
            "_dom_classes": [],
            "_model_module": "@jupyter-widgets/controls",
            "_model_module_version": "1.5.0",
            "_model_name": "FloatProgressModel",
            "_view_count": null,
            "_view_module": "@jupyter-widgets/controls",
            "_view_module_version": "1.5.0",
            "_view_name": "ProgressView",
            "bar_style": "success",
            "description": "",
            "description_tooltip": null,
            "layout": "IPY_MODEL_39abe32d97ca4621aa5a441ff2b0f0ec",
            "max": 1842764,
            "min": 0,
            "orientation": "horizontal",
            "style": "IPY_MODEL_41a4597f1a8146929bb1bf9d9d2d1f88",
            "value": 1842764
          }
        },
        "5f16f2a6f0854f718de48796bd7e4307": {
          "model_module": "@jupyter-widgets/controls",
          "model_name": "HTMLModel",
          "model_module_version": "1.5.0",
          "state": {
            "_dom_classes": [],
            "_model_module": "@jupyter-widgets/controls",
            "_model_module_version": "1.5.0",
            "_model_name": "HTMLModel",
            "_view_count": null,
            "_view_module": "@jupyter-widgets/controls",
            "_view_module_version": "1.5.0",
            "_view_name": "HTMLView",
            "description": "",
            "description_tooltip": null,
            "layout": "IPY_MODEL_46d214e49c8e4a18a3b5f0d1b7c2e316",
            "placeholder": "​",
            "style": "IPY_MODEL_f1edd9a729114a01a3601512d7d8080d",
            "value": " 1.84M/1.84M [00:00&lt;00:00, 7.10MB/s]"
          }
        },
        "bd76e78881fd45bea3f58662be5cdb65": {
          "model_module": "@jupyter-widgets/base",
          "model_name": "LayoutModel",
          "model_module_version": "1.2.0",
          "state": {
            "_model_module": "@jupyter-widgets/base",
            "_model_module_version": "1.2.0",
            "_model_name": "LayoutModel",
            "_view_count": null,
            "_view_module": "@jupyter-widgets/base",
            "_view_module_version": "1.2.0",
            "_view_name": "LayoutView",
            "align_content": null,
            "align_items": null,
            "align_self": null,
            "border": null,
            "bottom": null,
            "display": null,
            "flex": null,
            "flex_flow": null,
            "grid_area": null,
            "grid_auto_columns": null,
            "grid_auto_flow": null,
            "grid_auto_rows": null,
            "grid_column": null,
            "grid_gap": null,
            "grid_row": null,
            "grid_template_areas": null,
            "grid_template_columns": null,
            "grid_template_rows": null,
            "height": null,
            "justify_content": null,
            "justify_items": null,
            "left": null,
            "margin": null,
            "max_height": null,
            "max_width": null,
            "min_height": null,
            "min_width": null,
            "object_fit": null,
            "object_position": null,
            "order": null,
            "overflow": null,
            "overflow_x": null,
            "overflow_y": null,
            "padding": null,
            "right": null,
            "top": null,
            "visibility": null,
            "width": null
          }
        },
        "028a460fc91243ce8e23a8d2471c91c5": {
          "model_module": "@jupyter-widgets/base",
          "model_name": "LayoutModel",
          "model_module_version": "1.2.0",
          "state": {
            "_model_module": "@jupyter-widgets/base",
            "_model_module_version": "1.2.0",
            "_model_name": "LayoutModel",
            "_view_count": null,
            "_view_module": "@jupyter-widgets/base",
            "_view_module_version": "1.2.0",
            "_view_name": "LayoutView",
            "align_content": null,
            "align_items": null,
            "align_self": null,
            "border": null,
            "bottom": null,
            "display": null,
            "flex": null,
            "flex_flow": null,
            "grid_area": null,
            "grid_auto_columns": null,
            "grid_auto_flow": null,
            "grid_auto_rows": null,
            "grid_column": null,
            "grid_gap": null,
            "grid_row": null,
            "grid_template_areas": null,
            "grid_template_columns": null,
            "grid_template_rows": null,
            "height": null,
            "justify_content": null,
            "justify_items": null,
            "left": null,
            "margin": null,
            "max_height": null,
            "max_width": null,
            "min_height": null,
            "min_width": null,
            "object_fit": null,
            "object_position": null,
            "order": null,
            "overflow": null,
            "overflow_x": null,
            "overflow_y": null,
            "padding": null,
            "right": null,
            "top": null,
            "visibility": null,
            "width": null
          }
        },
        "aede82c16ca64a06a5b61dc8d5a1bf91": {
          "model_module": "@jupyter-widgets/controls",
          "model_name": "DescriptionStyleModel",
          "model_module_version": "1.5.0",
          "state": {
            "_model_module": "@jupyter-widgets/controls",
            "_model_module_version": "1.5.0",
            "_model_name": "DescriptionStyleModel",
            "_view_count": null,
            "_view_module": "@jupyter-widgets/base",
            "_view_module_version": "1.2.0",
            "_view_name": "StyleView",
            "description_width": ""
          }
        },
        "39abe32d97ca4621aa5a441ff2b0f0ec": {
          "model_module": "@jupyter-widgets/base",
          "model_name": "LayoutModel",
          "model_module_version": "1.2.0",
          "state": {
            "_model_module": "@jupyter-widgets/base",
            "_model_module_version": "1.2.0",
            "_model_name": "LayoutModel",
            "_view_count": null,
            "_view_module": "@jupyter-widgets/base",
            "_view_module_version": "1.2.0",
            "_view_name": "LayoutView",
            "align_content": null,
            "align_items": null,
            "align_self": null,
            "border": null,
            "bottom": null,
            "display": null,
            "flex": null,
            "flex_flow": null,
            "grid_area": null,
            "grid_auto_columns": null,
            "grid_auto_flow": null,
            "grid_auto_rows": null,
            "grid_column": null,
            "grid_gap": null,
            "grid_row": null,
            "grid_template_areas": null,
            "grid_template_columns": null,
            "grid_template_rows": null,
            "height": null,
            "justify_content": null,
            "justify_items": null,
            "left": null,
            "margin": null,
            "max_height": null,
            "max_width": null,
            "min_height": null,
            "min_width": null,
            "object_fit": null,
            "object_position": null,
            "order": null,
            "overflow": null,
            "overflow_x": null,
            "overflow_y": null,
            "padding": null,
            "right": null,
            "top": null,
            "visibility": null,
            "width": null
          }
        },
        "41a4597f1a8146929bb1bf9d9d2d1f88": {
          "model_module": "@jupyter-widgets/controls",
          "model_name": "ProgressStyleModel",
          "model_module_version": "1.5.0",
          "state": {
            "_model_module": "@jupyter-widgets/controls",
            "_model_module_version": "1.5.0",
            "_model_name": "ProgressStyleModel",
            "_view_count": null,
            "_view_module": "@jupyter-widgets/base",
            "_view_module_version": "1.2.0",
            "_view_name": "StyleView",
            "bar_color": null,
            "description_width": ""
          }
        },
        "46d214e49c8e4a18a3b5f0d1b7c2e316": {
          "model_module": "@jupyter-widgets/base",
          "model_name": "LayoutModel",
          "model_module_version": "1.2.0",
          "state": {
            "_model_module": "@jupyter-widgets/base",
            "_model_module_version": "1.2.0",
            "_model_name": "LayoutModel",
            "_view_count": null,
            "_view_module": "@jupyter-widgets/base",
            "_view_module_version": "1.2.0",
            "_view_name": "LayoutView",
            "align_content": null,
            "align_items": null,
            "align_self": null,
            "border": null,
            "bottom": null,
            "display": null,
            "flex": null,
            "flex_flow": null,
            "grid_area": null,
            "grid_auto_columns": null,
            "grid_auto_flow": null,
            "grid_auto_rows": null,
            "grid_column": null,
            "grid_gap": null,
            "grid_row": null,
            "grid_template_areas": null,
            "grid_template_columns": null,
            "grid_template_rows": null,
            "height": null,
            "justify_content": null,
            "justify_items": null,
            "left": null,
            "margin": null,
            "max_height": null,
            "max_width": null,
            "min_height": null,
            "min_width": null,
            "object_fit": null,
            "object_position": null,
            "order": null,
            "overflow": null,
            "overflow_x": null,
            "overflow_y": null,
            "padding": null,
            "right": null,
            "top": null,
            "visibility": null,
            "width": null
          }
        },
        "f1edd9a729114a01a3601512d7d8080d": {
          "model_module": "@jupyter-widgets/controls",
          "model_name": "DescriptionStyleModel",
          "model_module_version": "1.5.0",
          "state": {
            "_model_module": "@jupyter-widgets/controls",
            "_model_module_version": "1.5.0",
            "_model_name": "DescriptionStyleModel",
            "_view_count": null,
            "_view_module": "@jupyter-widgets/base",
            "_view_module_version": "1.2.0",
            "_view_name": "StyleView",
            "description_width": ""
          }
        },
        "89cb726f93224122b0ec0caeaf4e9129": {
          "model_module": "@jupyter-widgets/controls",
          "model_name": "HBoxModel",
          "model_module_version": "1.5.0",
          "state": {
            "_dom_classes": [],
            "_model_module": "@jupyter-widgets/controls",
            "_model_module_version": "1.5.0",
            "_model_name": "HBoxModel",
            "_view_count": null,
            "_view_module": "@jupyter-widgets/controls",
            "_view_module_version": "1.5.0",
            "_view_name": "HBoxView",
            "box_style": "",
            "children": [
              "IPY_MODEL_c8eea908d4b741b78f3858e1a7eae6fb",
              "IPY_MODEL_71fca7d3e4cd4a1aa69fb44feabe5ac0",
              "IPY_MODEL_92a877004f07459084cacbcb17c14758"
            ],
            "layout": "IPY_MODEL_aef7f6c4cce34490bf754ec4760ad634"
          }
        },
        "c8eea908d4b741b78f3858e1a7eae6fb": {
          "model_module": "@jupyter-widgets/controls",
          "model_name": "HTMLModel",
          "model_module_version": "1.5.0",
          "state": {
            "_dom_classes": [],
            "_model_module": "@jupyter-widgets/controls",
            "_model_module_version": "1.5.0",
            "_model_name": "HTMLModel",
            "_view_count": null,
            "_view_module": "@jupyter-widgets/controls",
            "_view_module_version": "1.5.0",
            "_view_name": "HTMLView",
            "description": "",
            "description_tooltip": null,
            "layout": "IPY_MODEL_0015367d30dd4c51b8fa6163e83295e6",
            "placeholder": "​",
            "style": "IPY_MODEL_33b43f706ac34d04b0645cbf18be38b1",
            "value": "Downloading (…)lve/main/config.json: 100%"
          }
        },
        "71fca7d3e4cd4a1aa69fb44feabe5ac0": {
          "model_module": "@jupyter-widgets/controls",
          "model_name": "FloatProgressModel",
          "model_module_version": "1.5.0",
          "state": {
            "_dom_classes": [],
            "_model_module": "@jupyter-widgets/controls",
            "_model_module_version": "1.5.0",
            "_model_name": "FloatProgressModel",
            "_view_count": null,
            "_view_module": "@jupyter-widgets/controls",
            "_view_module_version": "1.5.0",
            "_view_name": "ProgressView",
            "bar_style": "success",
            "description": "",
            "description_tooltip": null,
            "layout": "IPY_MODEL_ca719333048345d3be78d41804d5b139",
            "max": 913,
            "min": 0,
            "orientation": "horizontal",
            "style": "IPY_MODEL_df974ff18c784ebe9765a6ac695b5860",
            "value": 913
          }
        },
        "92a877004f07459084cacbcb17c14758": {
          "model_module": "@jupyter-widgets/controls",
          "model_name": "HTMLModel",
          "model_module_version": "1.5.0",
          "state": {
            "_dom_classes": [],
            "_model_module": "@jupyter-widgets/controls",
            "_model_module_version": "1.5.0",
            "_model_name": "HTMLModel",
            "_view_count": null,
            "_view_module": "@jupyter-widgets/controls",
            "_view_module_version": "1.5.0",
            "_view_name": "HTMLView",
            "description": "",
            "description_tooltip": null,
            "layout": "IPY_MODEL_96f45124fc0349358be1772a6774b4c1",
            "placeholder": "​",
            "style": "IPY_MODEL_8ece053408634ab5956f27c0d7443717",
            "value": " 913/913 [00:00&lt;00:00, 31.2kB/s]"
          }
        },
        "aef7f6c4cce34490bf754ec4760ad634": {
          "model_module": "@jupyter-widgets/base",
          "model_name": "LayoutModel",
          "model_module_version": "1.2.0",
          "state": {
            "_model_module": "@jupyter-widgets/base",
            "_model_module_version": "1.2.0",
            "_model_name": "LayoutModel",
            "_view_count": null,
            "_view_module": "@jupyter-widgets/base",
            "_view_module_version": "1.2.0",
            "_view_name": "LayoutView",
            "align_content": null,
            "align_items": null,
            "align_self": null,
            "border": null,
            "bottom": null,
            "display": null,
            "flex": null,
            "flex_flow": null,
            "grid_area": null,
            "grid_auto_columns": null,
            "grid_auto_flow": null,
            "grid_auto_rows": null,
            "grid_column": null,
            "grid_gap": null,
            "grid_row": null,
            "grid_template_areas": null,
            "grid_template_columns": null,
            "grid_template_rows": null,
            "height": null,
            "justify_content": null,
            "justify_items": null,
            "left": null,
            "margin": null,
            "max_height": null,
            "max_width": null,
            "min_height": null,
            "min_width": null,
            "object_fit": null,
            "object_position": null,
            "order": null,
            "overflow": null,
            "overflow_x": null,
            "overflow_y": null,
            "padding": null,
            "right": null,
            "top": null,
            "visibility": null,
            "width": null
          }
        },
        "0015367d30dd4c51b8fa6163e83295e6": {
          "model_module": "@jupyter-widgets/base",
          "model_name": "LayoutModel",
          "model_module_version": "1.2.0",
          "state": {
            "_model_module": "@jupyter-widgets/base",
            "_model_module_version": "1.2.0",
            "_model_name": "LayoutModel",
            "_view_count": null,
            "_view_module": "@jupyter-widgets/base",
            "_view_module_version": "1.2.0",
            "_view_name": "LayoutView",
            "align_content": null,
            "align_items": null,
            "align_self": null,
            "border": null,
            "bottom": null,
            "display": null,
            "flex": null,
            "flex_flow": null,
            "grid_area": null,
            "grid_auto_columns": null,
            "grid_auto_flow": null,
            "grid_auto_rows": null,
            "grid_column": null,
            "grid_gap": null,
            "grid_row": null,
            "grid_template_areas": null,
            "grid_template_columns": null,
            "grid_template_rows": null,
            "height": null,
            "justify_content": null,
            "justify_items": null,
            "left": null,
            "margin": null,
            "max_height": null,
            "max_width": null,
            "min_height": null,
            "min_width": null,
            "object_fit": null,
            "object_position": null,
            "order": null,
            "overflow": null,
            "overflow_x": null,
            "overflow_y": null,
            "padding": null,
            "right": null,
            "top": null,
            "visibility": null,
            "width": null
          }
        },
        "33b43f706ac34d04b0645cbf18be38b1": {
          "model_module": "@jupyter-widgets/controls",
          "model_name": "DescriptionStyleModel",
          "model_module_version": "1.5.0",
          "state": {
            "_model_module": "@jupyter-widgets/controls",
            "_model_module_version": "1.5.0",
            "_model_name": "DescriptionStyleModel",
            "_view_count": null,
            "_view_module": "@jupyter-widgets/base",
            "_view_module_version": "1.2.0",
            "_view_name": "StyleView",
            "description_width": ""
          }
        },
        "ca719333048345d3be78d41804d5b139": {
          "model_module": "@jupyter-widgets/base",
          "model_name": "LayoutModel",
          "model_module_version": "1.2.0",
          "state": {
            "_model_module": "@jupyter-widgets/base",
            "_model_module_version": "1.2.0",
            "_model_name": "LayoutModel",
            "_view_count": null,
            "_view_module": "@jupyter-widgets/base",
            "_view_module_version": "1.2.0",
            "_view_name": "LayoutView",
            "align_content": null,
            "align_items": null,
            "align_self": null,
            "border": null,
            "bottom": null,
            "display": null,
            "flex": null,
            "flex_flow": null,
            "grid_area": null,
            "grid_auto_columns": null,
            "grid_auto_flow": null,
            "grid_auto_rows": null,
            "grid_column": null,
            "grid_gap": null,
            "grid_row": null,
            "grid_template_areas": null,
            "grid_template_columns": null,
            "grid_template_rows": null,
            "height": null,
            "justify_content": null,
            "justify_items": null,
            "left": null,
            "margin": null,
            "max_height": null,
            "max_width": null,
            "min_height": null,
            "min_width": null,
            "object_fit": null,
            "object_position": null,
            "order": null,
            "overflow": null,
            "overflow_x": null,
            "overflow_y": null,
            "padding": null,
            "right": null,
            "top": null,
            "visibility": null,
            "width": null
          }
        },
        "df974ff18c784ebe9765a6ac695b5860": {
          "model_module": "@jupyter-widgets/controls",
          "model_name": "ProgressStyleModel",
          "model_module_version": "1.5.0",
          "state": {
            "_model_module": "@jupyter-widgets/controls",
            "_model_module_version": "1.5.0",
            "_model_name": "ProgressStyleModel",
            "_view_count": null,
            "_view_module": "@jupyter-widgets/base",
            "_view_module_version": "1.2.0",
            "_view_name": "StyleView",
            "bar_color": null,
            "description_width": ""
          }
        },
        "96f45124fc0349358be1772a6774b4c1": {
          "model_module": "@jupyter-widgets/base",
          "model_name": "LayoutModel",
          "model_module_version": "1.2.0",
          "state": {
            "_model_module": "@jupyter-widgets/base",
            "_model_module_version": "1.2.0",
            "_model_name": "LayoutModel",
            "_view_count": null,
            "_view_module": "@jupyter-widgets/base",
            "_view_module_version": "1.2.0",
            "_view_name": "LayoutView",
            "align_content": null,
            "align_items": null,
            "align_self": null,
            "border": null,
            "bottom": null,
            "display": null,
            "flex": null,
            "flex_flow": null,
            "grid_area": null,
            "grid_auto_columns": null,
            "grid_auto_flow": null,
            "grid_auto_rows": null,
            "grid_column": null,
            "grid_gap": null,
            "grid_row": null,
            "grid_template_areas": null,
            "grid_template_columns": null,
            "grid_template_rows": null,
            "height": null,
            "justify_content": null,
            "justify_items": null,
            "left": null,
            "margin": null,
            "max_height": null,
            "max_width": null,
            "min_height": null,
            "min_width": null,
            "object_fit": null,
            "object_position": null,
            "order": null,
            "overflow": null,
            "overflow_x": null,
            "overflow_y": null,
            "padding": null,
            "right": null,
            "top": null,
            "visibility": null,
            "width": null
          }
        },
        "8ece053408634ab5956f27c0d7443717": {
          "model_module": "@jupyter-widgets/controls",
          "model_name": "DescriptionStyleModel",
          "model_module_version": "1.5.0",
          "state": {
            "_model_module": "@jupyter-widgets/controls",
            "_model_module_version": "1.5.0",
            "_model_name": "DescriptionStyleModel",
            "_view_count": null,
            "_view_module": "@jupyter-widgets/base",
            "_view_module_version": "1.2.0",
            "_view_name": "StyleView",
            "description_width": ""
          }
        },
        "3bf85159309b43039b6193f3d0395a27": {
          "model_module": "@jupyter-widgets/controls",
          "model_name": "HBoxModel",
          "model_module_version": "1.5.0",
          "state": {
            "_dom_classes": [],
            "_model_module": "@jupyter-widgets/controls",
            "_model_module_version": "1.5.0",
            "_model_name": "HBoxModel",
            "_view_count": null,
            "_view_module": "@jupyter-widgets/controls",
            "_view_module_version": "1.5.0",
            "_view_name": "HBoxView",
            "box_style": "",
            "children": [
              "IPY_MODEL_717d28fa30054a3281f2ecb3997e9733",
              "IPY_MODEL_2074455b59cb4738a905fe8747954622",
              "IPY_MODEL_56e17cca7dd044cfa42a56c2e0951510"
            ],
            "layout": "IPY_MODEL_1020f8497bfe43eab7ddee84e485b672"
          }
        },
        "717d28fa30054a3281f2ecb3997e9733": {
          "model_module": "@jupyter-widgets/controls",
          "model_name": "HTMLModel",
          "model_module_version": "1.5.0",
          "state": {
            "_dom_classes": [],
            "_model_module": "@jupyter-widgets/controls",
            "_model_module_version": "1.5.0",
            "_model_name": "HTMLModel",
            "_view_count": null,
            "_view_module": "@jupyter-widgets/controls",
            "_view_module_version": "1.5.0",
            "_view_name": "HTMLView",
            "description": "",
            "description_tooltip": null,
            "layout": "IPY_MODEL_45bd06083ee94e93a6ded22e86f736f5",
            "placeholder": "​",
            "style": "IPY_MODEL_62f199777d3248388b0ef5ad8473e9a6",
            "value": "Downloading model.safetensors: 100%"
          }
        },
        "2074455b59cb4738a905fe8747954622": {
          "model_module": "@jupyter-widgets/controls",
          "model_name": "FloatProgressModel",
          "model_module_version": "1.5.0",
          "state": {
            "_dom_classes": [],
            "_model_module": "@jupyter-widgets/controls",
            "_model_module_version": "1.5.0",
            "_model_name": "FloatProgressModel",
            "_view_count": null,
            "_view_module": "@jupyter-widgets/controls",
            "_view_module_version": "1.5.0",
            "_view_name": "ProgressView",
            "bar_style": "success",
            "description": "",
            "description_tooltip": null,
            "layout": "IPY_MODEL_a59875d9769d41b48c78df0e4f88b31e",
            "max": 7259449480,
            "min": 0,
            "orientation": "horizontal",
            "style": "IPY_MODEL_f63e13908a564cd3827c55834b69fb69",
            "value": 7259449480
          }
        },
        "56e17cca7dd044cfa42a56c2e0951510": {
          "model_module": "@jupyter-widgets/controls",
          "model_name": "HTMLModel",
          "model_module_version": "1.5.0",
          "state": {
            "_dom_classes": [],
            "_model_module": "@jupyter-widgets/controls",
            "_model_module_version": "1.5.0",
            "_model_name": "HTMLModel",
            "_view_count": null,
            "_view_module": "@jupyter-widgets/controls",
            "_view_module_version": "1.5.0",
            "_view_name": "HTMLView",
            "description": "",
            "description_tooltip": null,
            "layout": "IPY_MODEL_0863bd16a5ef474098a1e24b6c465c7b",
            "placeholder": "​",
            "style": "IPY_MODEL_26fd2af934354d29b7ac53cd07bff5f4",
            "value": " 7.26G/7.26G [00:43&lt;00:00, 248MB/s]"
          }
        },
        "1020f8497bfe43eab7ddee84e485b672": {
          "model_module": "@jupyter-widgets/base",
          "model_name": "LayoutModel",
          "model_module_version": "1.2.0",
          "state": {
            "_model_module": "@jupyter-widgets/base",
            "_model_module_version": "1.2.0",
            "_model_name": "LayoutModel",
            "_view_count": null,
            "_view_module": "@jupyter-widgets/base",
            "_view_module_version": "1.2.0",
            "_view_name": "LayoutView",
            "align_content": null,
            "align_items": null,
            "align_self": null,
            "border": null,
            "bottom": null,
            "display": null,
            "flex": null,
            "flex_flow": null,
            "grid_area": null,
            "grid_auto_columns": null,
            "grid_auto_flow": null,
            "grid_auto_rows": null,
            "grid_column": null,
            "grid_gap": null,
            "grid_row": null,
            "grid_template_areas": null,
            "grid_template_columns": null,
            "grid_template_rows": null,
            "height": null,
            "justify_content": null,
            "justify_items": null,
            "left": null,
            "margin": null,
            "max_height": null,
            "max_width": null,
            "min_height": null,
            "min_width": null,
            "object_fit": null,
            "object_position": null,
            "order": null,
            "overflow": null,
            "overflow_x": null,
            "overflow_y": null,
            "padding": null,
            "right": null,
            "top": null,
            "visibility": null,
            "width": null
          }
        },
        "45bd06083ee94e93a6ded22e86f736f5": {
          "model_module": "@jupyter-widgets/base",
          "model_name": "LayoutModel",
          "model_module_version": "1.2.0",
          "state": {
            "_model_module": "@jupyter-widgets/base",
            "_model_module_version": "1.2.0",
            "_model_name": "LayoutModel",
            "_view_count": null,
            "_view_module": "@jupyter-widgets/base",
            "_view_module_version": "1.2.0",
            "_view_name": "LayoutView",
            "align_content": null,
            "align_items": null,
            "align_self": null,
            "border": null,
            "bottom": null,
            "display": null,
            "flex": null,
            "flex_flow": null,
            "grid_area": null,
            "grid_auto_columns": null,
            "grid_auto_flow": null,
            "grid_auto_rows": null,
            "grid_column": null,
            "grid_gap": null,
            "grid_row": null,
            "grid_template_areas": null,
            "grid_template_columns": null,
            "grid_template_rows": null,
            "height": null,
            "justify_content": null,
            "justify_items": null,
            "left": null,
            "margin": null,
            "max_height": null,
            "max_width": null,
            "min_height": null,
            "min_width": null,
            "object_fit": null,
            "object_position": null,
            "order": null,
            "overflow": null,
            "overflow_x": null,
            "overflow_y": null,
            "padding": null,
            "right": null,
            "top": null,
            "visibility": null,
            "width": null
          }
        },
        "62f199777d3248388b0ef5ad8473e9a6": {
          "model_module": "@jupyter-widgets/controls",
          "model_name": "DescriptionStyleModel",
          "model_module_version": "1.5.0",
          "state": {
            "_model_module": "@jupyter-widgets/controls",
            "_model_module_version": "1.5.0",
            "_model_name": "DescriptionStyleModel",
            "_view_count": null,
            "_view_module": "@jupyter-widgets/base",
            "_view_module_version": "1.2.0",
            "_view_name": "StyleView",
            "description_width": ""
          }
        },
        "a59875d9769d41b48c78df0e4f88b31e": {
          "model_module": "@jupyter-widgets/base",
          "model_name": "LayoutModel",
          "model_module_version": "1.2.0",
          "state": {
            "_model_module": "@jupyter-widgets/base",
            "_model_module_version": "1.2.0",
            "_model_name": "LayoutModel",
            "_view_count": null,
            "_view_module": "@jupyter-widgets/base",
            "_view_module_version": "1.2.0",
            "_view_name": "LayoutView",
            "align_content": null,
            "align_items": null,
            "align_self": null,
            "border": null,
            "bottom": null,
            "display": null,
            "flex": null,
            "flex_flow": null,
            "grid_area": null,
            "grid_auto_columns": null,
            "grid_auto_flow": null,
            "grid_auto_rows": null,
            "grid_column": null,
            "grid_gap": null,
            "grid_row": null,
            "grid_template_areas": null,
            "grid_template_columns": null,
            "grid_template_rows": null,
            "height": null,
            "justify_content": null,
            "justify_items": null,
            "left": null,
            "margin": null,
            "max_height": null,
            "max_width": null,
            "min_height": null,
            "min_width": null,
            "object_fit": null,
            "object_position": null,
            "order": null,
            "overflow": null,
            "overflow_x": null,
            "overflow_y": null,
            "padding": null,
            "right": null,
            "top": null,
            "visibility": null,
            "width": null
          }
        },
        "f63e13908a564cd3827c55834b69fb69": {
          "model_module": "@jupyter-widgets/controls",
          "model_name": "ProgressStyleModel",
          "model_module_version": "1.5.0",
          "state": {
            "_model_module": "@jupyter-widgets/controls",
            "_model_module_version": "1.5.0",
            "_model_name": "ProgressStyleModel",
            "_view_count": null,
            "_view_module": "@jupyter-widgets/base",
            "_view_module_version": "1.2.0",
            "_view_name": "StyleView",
            "bar_color": null,
            "description_width": ""
          }
        },
        "0863bd16a5ef474098a1e24b6c465c7b": {
          "model_module": "@jupyter-widgets/base",
          "model_name": "LayoutModel",
          "model_module_version": "1.2.0",
          "state": {
            "_model_module": "@jupyter-widgets/base",
            "_model_module_version": "1.2.0",
            "_model_name": "LayoutModel",
            "_view_count": null,
            "_view_module": "@jupyter-widgets/base",
            "_view_module_version": "1.2.0",
            "_view_name": "LayoutView",
            "align_content": null,
            "align_items": null,
            "align_self": null,
            "border": null,
            "bottom": null,
            "display": null,
            "flex": null,
            "flex_flow": null,
            "grid_area": null,
            "grid_auto_columns": null,
            "grid_auto_flow": null,
            "grid_auto_rows": null,
            "grid_column": null,
            "grid_gap": null,
            "grid_row": null,
            "grid_template_areas": null,
            "grid_template_columns": null,
            "grid_template_rows": null,
            "height": null,
            "justify_content": null,
            "justify_items": null,
            "left": null,
            "margin": null,
            "max_height": null,
            "max_width": null,
            "min_height": null,
            "min_width": null,
            "object_fit": null,
            "object_position": null,
            "order": null,
            "overflow": null,
            "overflow_x": null,
            "overflow_y": null,
            "padding": null,
            "right": null,
            "top": null,
            "visibility": null,
            "width": null
          }
        },
        "26fd2af934354d29b7ac53cd07bff5f4": {
          "model_module": "@jupyter-widgets/controls",
          "model_name": "DescriptionStyleModel",
          "model_module_version": "1.5.0",
          "state": {
            "_model_module": "@jupyter-widgets/controls",
            "_model_module_version": "1.5.0",
            "_model_name": "DescriptionStyleModel",
            "_view_count": null,
            "_view_module": "@jupyter-widgets/base",
            "_view_module_version": "1.2.0",
            "_view_name": "StyleView",
            "description_width": ""
          }
        },
        "f1f12823019442998c1ce208695340eb": {
          "model_module": "@jupyter-widgets/controls",
          "model_name": "HBoxModel",
          "model_module_version": "1.5.0",
          "state": {
            "_dom_classes": [],
            "_model_module": "@jupyter-widgets/controls",
            "_model_module_version": "1.5.0",
            "_model_name": "HBoxModel",
            "_view_count": null,
            "_view_module": "@jupyter-widgets/controls",
            "_view_module_version": "1.5.0",
            "_view_name": "HBoxView",
            "box_style": "",
            "children": [
              "IPY_MODEL_ee06a1eb38354d64b05dc5f0668d25ef",
              "IPY_MODEL_adfff6917a034e54a1caea859a025bc4",
              "IPY_MODEL_38a30bd0e4994ea2a2d3a650b3f64765"
            ],
            "layout": "IPY_MODEL_7e785b7a19ed4911b2d2583694a4aa71"
          }
        },
        "ee06a1eb38354d64b05dc5f0668d25ef": {
          "model_module": "@jupyter-widgets/controls",
          "model_name": "HTMLModel",
          "model_module_version": "1.5.0",
          "state": {
            "_dom_classes": [],
            "_model_module": "@jupyter-widgets/controls",
            "_model_module_version": "1.5.0",
            "_model_name": "HTMLModel",
            "_view_count": null,
            "_view_module": "@jupyter-widgets/controls",
            "_view_module_version": "1.5.0",
            "_view_name": "HTMLView",
            "description": "",
            "description_tooltip": null,
            "layout": "IPY_MODEL_e9da30a2899c44ca809319b9a1152c84",
            "placeholder": "​",
            "style": "IPY_MODEL_638185f1bb2b44bc8e434f162e1149e3",
            "value": "Downloading (…)neration_config.json: 100%"
          }
        },
        "adfff6917a034e54a1caea859a025bc4": {
          "model_module": "@jupyter-widgets/controls",
          "model_name": "FloatProgressModel",
          "model_module_version": "1.5.0",
          "state": {
            "_dom_classes": [],
            "_model_module": "@jupyter-widgets/controls",
            "_model_module_version": "1.5.0",
            "_model_name": "FloatProgressModel",
            "_view_count": null,
            "_view_module": "@jupyter-widgets/controls",
            "_view_module_version": "1.5.0",
            "_view_name": "ProgressView",
            "bar_style": "success",
            "description": "",
            "description_tooltip": null,
            "layout": "IPY_MODEL_e0e3465ffdc941bb99d2b45aa4d05018",
            "max": 132,
            "min": 0,
            "orientation": "horizontal",
            "style": "IPY_MODEL_b759910399e64c2bad3a538eebce5bc2",
            "value": 132
          }
        },
        "38a30bd0e4994ea2a2d3a650b3f64765": {
          "model_module": "@jupyter-widgets/controls",
          "model_name": "HTMLModel",
          "model_module_version": "1.5.0",
          "state": {
            "_dom_classes": [],
            "_model_module": "@jupyter-widgets/controls",
            "_model_module_version": "1.5.0",
            "_model_name": "HTMLModel",
            "_view_count": null,
            "_view_module": "@jupyter-widgets/controls",
            "_view_module_version": "1.5.0",
            "_view_name": "HTMLView",
            "description": "",
            "description_tooltip": null,
            "layout": "IPY_MODEL_6f2c1336771d441d8842505398101db3",
            "placeholder": "​",
            "style": "IPY_MODEL_5f5c7223498f494bb8316096d7e8051c",
            "value": " 132/132 [00:00&lt;00:00, 10.1kB/s]"
          }
        },
        "7e785b7a19ed4911b2d2583694a4aa71": {
          "model_module": "@jupyter-widgets/base",
          "model_name": "LayoutModel",
          "model_module_version": "1.2.0",
          "state": {
            "_model_module": "@jupyter-widgets/base",
            "_model_module_version": "1.2.0",
            "_model_name": "LayoutModel",
            "_view_count": null,
            "_view_module": "@jupyter-widgets/base",
            "_view_module_version": "1.2.0",
            "_view_name": "LayoutView",
            "align_content": null,
            "align_items": null,
            "align_self": null,
            "border": null,
            "bottom": null,
            "display": null,
            "flex": null,
            "flex_flow": null,
            "grid_area": null,
            "grid_auto_columns": null,
            "grid_auto_flow": null,
            "grid_auto_rows": null,
            "grid_column": null,
            "grid_gap": null,
            "grid_row": null,
            "grid_template_areas": null,
            "grid_template_columns": null,
            "grid_template_rows": null,
            "height": null,
            "justify_content": null,
            "justify_items": null,
            "left": null,
            "margin": null,
            "max_height": null,
            "max_width": null,
            "min_height": null,
            "min_width": null,
            "object_fit": null,
            "object_position": null,
            "order": null,
            "overflow": null,
            "overflow_x": null,
            "overflow_y": null,
            "padding": null,
            "right": null,
            "top": null,
            "visibility": null,
            "width": null
          }
        },
        "e9da30a2899c44ca809319b9a1152c84": {
          "model_module": "@jupyter-widgets/base",
          "model_name": "LayoutModel",
          "model_module_version": "1.2.0",
          "state": {
            "_model_module": "@jupyter-widgets/base",
            "_model_module_version": "1.2.0",
            "_model_name": "LayoutModel",
            "_view_count": null,
            "_view_module": "@jupyter-widgets/base",
            "_view_module_version": "1.2.0",
            "_view_name": "LayoutView",
            "align_content": null,
            "align_items": null,
            "align_self": null,
            "border": null,
            "bottom": null,
            "display": null,
            "flex": null,
            "flex_flow": null,
            "grid_area": null,
            "grid_auto_columns": null,
            "grid_auto_flow": null,
            "grid_auto_rows": null,
            "grid_column": null,
            "grid_gap": null,
            "grid_row": null,
            "grid_template_areas": null,
            "grid_template_columns": null,
            "grid_template_rows": null,
            "height": null,
            "justify_content": null,
            "justify_items": null,
            "left": null,
            "margin": null,
            "max_height": null,
            "max_width": null,
            "min_height": null,
            "min_width": null,
            "object_fit": null,
            "object_position": null,
            "order": null,
            "overflow": null,
            "overflow_x": null,
            "overflow_y": null,
            "padding": null,
            "right": null,
            "top": null,
            "visibility": null,
            "width": null
          }
        },
        "638185f1bb2b44bc8e434f162e1149e3": {
          "model_module": "@jupyter-widgets/controls",
          "model_name": "DescriptionStyleModel",
          "model_module_version": "1.5.0",
          "state": {
            "_model_module": "@jupyter-widgets/controls",
            "_model_module_version": "1.5.0",
            "_model_name": "DescriptionStyleModel",
            "_view_count": null,
            "_view_module": "@jupyter-widgets/base",
            "_view_module_version": "1.2.0",
            "_view_name": "StyleView",
            "description_width": ""
          }
        },
        "e0e3465ffdc941bb99d2b45aa4d05018": {
          "model_module": "@jupyter-widgets/base",
          "model_name": "LayoutModel",
          "model_module_version": "1.2.0",
          "state": {
            "_model_module": "@jupyter-widgets/base",
            "_model_module_version": "1.2.0",
            "_model_name": "LayoutModel",
            "_view_count": null,
            "_view_module": "@jupyter-widgets/base",
            "_view_module_version": "1.2.0",
            "_view_name": "LayoutView",
            "align_content": null,
            "align_items": null,
            "align_self": null,
            "border": null,
            "bottom": null,
            "display": null,
            "flex": null,
            "flex_flow": null,
            "grid_area": null,
            "grid_auto_columns": null,
            "grid_auto_flow": null,
            "grid_auto_rows": null,
            "grid_column": null,
            "grid_gap": null,
            "grid_row": null,
            "grid_template_areas": null,
            "grid_template_columns": null,
            "grid_template_rows": null,
            "height": null,
            "justify_content": null,
            "justify_items": null,
            "left": null,
            "margin": null,
            "max_height": null,
            "max_width": null,
            "min_height": null,
            "min_width": null,
            "object_fit": null,
            "object_position": null,
            "order": null,
            "overflow": null,
            "overflow_x": null,
            "overflow_y": null,
            "padding": null,
            "right": null,
            "top": null,
            "visibility": null,
            "width": null
          }
        },
        "b759910399e64c2bad3a538eebce5bc2": {
          "model_module": "@jupyter-widgets/controls",
          "model_name": "ProgressStyleModel",
          "model_module_version": "1.5.0",
          "state": {
            "_model_module": "@jupyter-widgets/controls",
            "_model_module_version": "1.5.0",
            "_model_name": "ProgressStyleModel",
            "_view_count": null,
            "_view_module": "@jupyter-widgets/base",
            "_view_module_version": "1.2.0",
            "_view_name": "StyleView",
            "bar_color": null,
            "description_width": ""
          }
        },
        "6f2c1336771d441d8842505398101db3": {
          "model_module": "@jupyter-widgets/base",
          "model_name": "LayoutModel",
          "model_module_version": "1.2.0",
          "state": {
            "_model_module": "@jupyter-widgets/base",
            "_model_module_version": "1.2.0",
            "_model_name": "LayoutModel",
            "_view_count": null,
            "_view_module": "@jupyter-widgets/base",
            "_view_module_version": "1.2.0",
            "_view_name": "LayoutView",
            "align_content": null,
            "align_items": null,
            "align_self": null,
            "border": null,
            "bottom": null,
            "display": null,
            "flex": null,
            "flex_flow": null,
            "grid_area": null,
            "grid_auto_columns": null,
            "grid_auto_flow": null,
            "grid_auto_rows": null,
            "grid_column": null,
            "grid_gap": null,
            "grid_row": null,
            "grid_template_areas": null,
            "grid_template_columns": null,
            "grid_template_rows": null,
            "height": null,
            "justify_content": null,
            "justify_items": null,
            "left": null,
            "margin": null,
            "max_height": null,
            "max_width": null,
            "min_height": null,
            "min_width": null,
            "object_fit": null,
            "object_position": null,
            "order": null,
            "overflow": null,
            "overflow_x": null,
            "overflow_y": null,
            "padding": null,
            "right": null,
            "top": null,
            "visibility": null,
            "width": null
          }
        },
        "5f5c7223498f494bb8316096d7e8051c": {
          "model_module": "@jupyter-widgets/controls",
          "model_name": "DescriptionStyleModel",
          "model_module_version": "1.5.0",
          "state": {
            "_model_module": "@jupyter-widgets/controls",
            "_model_module_version": "1.5.0",
            "_model_name": "DescriptionStyleModel",
            "_view_count": null,
            "_view_module": "@jupyter-widgets/base",
            "_view_module_version": "1.2.0",
            "_view_name": "StyleView",
            "description_width": ""
          }
        }
      }
    }
  },
  "nbformat": 4,
  "nbformat_minor": 0
}